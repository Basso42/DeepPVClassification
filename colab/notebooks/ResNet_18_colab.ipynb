{
  "cells": [
    {
      "cell_type": "markdown",
      "id": "dyycN7Y3nItV",
      "metadata": {
        "id": "dyycN7Y3nItV"
      },
      "source": [
        "# Préparation des données"
      ]
    },
    {
      "cell_type": "markdown",
      "id": "fd213552",
      "metadata": {
        "id": "fd213552"
      },
      "source": [
        "## Import et data augmentations"
      ]
    },
    {
      "cell_type": "code",
      "execution_count": null,
      "id": "SPNdNNcO0rKo",
      "metadata": {
        "colab": {
          "base_uri": "https://localhost:8080/"
        },
        "id": "SPNdNNcO0rKo",
        "outputId": "28a6d5da-4bd9-4a9e-bb1a-1a3874a69bc9"
      },
      "outputs": [
        {
          "name": "stdout",
          "output_type": "stream",
          "text": [
            "Mounted at /content/drive/\n"
          ]
        }
      ],
      "source": [
        "import sys\n",
        "from google.colab import drive\n",
        "drive.mount('/content/drive/', force_remount=True)\n",
        "!unzip /content/drive/MyDrive/bdappv/bdappv.zip > /dev/null"
      ]
    },
    {
      "cell_type": "code",
      "execution_count": null,
      "id": "qHjZnreK0xXu",
      "metadata": {
        "id": "qHjZnreK0xXu"
      },
      "outputs": [],
      "source": [
        "!cp /content/drive/MyDrive/statapps-main/src/dataloader.py /content\n",
        "!cp /content/drive/MyDrive/statapps-main/src/metrics.py /content\n",
        "!cp /content/drive/MyDrive/statapps-main/src/resnet18.py /content"
      ]
    },
    {
      "cell_type": "code",
      "execution_count": null,
      "id": "c4R37Bj0pf1r",
      "metadata": {
        "colab": {
          "base_uri": "https://localhost:8080/",
          "height": 373
        },
        "id": "c4R37Bj0pf1r",
        "outputId": "37f41ed5-669c-423e-ec7e-8d333fbd4c04"
      },
      "outputs": [
        {
          "ename": "ModuleNotFoundError",
          "evalue": "ignored",
          "output_type": "error",
          "traceback": [
            "\u001b[0;31m---------------------------------------------------------------------------\u001b[0m",
            "\u001b[0;31mModuleNotFoundError\u001b[0m                       Traceback (most recent call last)",
            "\u001b[0;32m<ipython-input-4-2d8bd9badd2c>\u001b[0m in \u001b[0;36m<cell line: 8>\u001b[0;34m()\u001b[0m\n\u001b[1;32m      6\u001b[0m \u001b[0;32mimport\u001b[0m \u001b[0mnumpy\u001b[0m \u001b[0;32mas\u001b[0m \u001b[0mnp\u001b[0m\u001b[0;34m\u001b[0m\u001b[0;34m\u001b[0m\u001b[0m\n\u001b[1;32m      7\u001b[0m \u001b[0;34m\u001b[0m\u001b[0m\n\u001b[0;32m----> 8\u001b[0;31m \u001b[0;32mfrom\u001b[0m \u001b[0mconfusion_matrix\u001b[0m \u001b[0;32mimport\u001b[0m \u001b[0mmake_confusion_matrix\u001b[0m\u001b[0;34m\u001b[0m\u001b[0;34m\u001b[0m\u001b[0m\n\u001b[0m\u001b[1;32m      9\u001b[0m \u001b[0;32mfrom\u001b[0m \u001b[0msklearn\u001b[0m\u001b[0;34m.\u001b[0m\u001b[0mmetrics\u001b[0m \u001b[0;32mimport\u001b[0m \u001b[0mconfusion_matrix\u001b[0m\u001b[0;34m\u001b[0m\u001b[0;34m\u001b[0m\u001b[0m\n\u001b[1;32m     10\u001b[0m \u001b[0;34m\u001b[0m\u001b[0m\n",
            "\u001b[0;31mModuleNotFoundError\u001b[0m: No module named 'confusion_matrix'",
            "",
            "\u001b[0;31m---------------------------------------------------------------------------\u001b[0;32m\nNOTE: If your import is failing due to a missing package, you can\nmanually install dependencies using either !pip or !apt.\n\nTo view examples of installing some common dependencies, click the\n\"Open Examples\" button below.\n\u001b[0;31m---------------------------------------------------------------------------\u001b[0m\n"
          ]
        }
      ],
      "source": [
        "from  dataloader import *\n",
        "from metrics import *\n",
        "from resnet18 import *\n",
        " \n",
        "import pandas as pd\n",
        "import numpy as np\n",
        "\n",
        "from confusion_matrix import make_confusion_matrix\n",
        "from sklearn.metrics import confusion_matrix\n",
        "\n",
        "from torch.utils.data import DataLoader\n",
        "import matplotlib.pyplot as plt\n",
        "import torch.nn as nn\n",
        "\n",
        "\n",
        "import tensorflow as tf\n",
        "import keras\n",
        "import keras.layers as layers\n",
        "from keras.losses import BinaryCrossentropy\n"
      ]
    },
    {
      "cell_type": "code",
      "source": [
        "from torchvision import models"
      ],
      "metadata": {
        "id": "Qp6_wArW9Zls"
      },
      "id": "Qp6_wArW9Zls",
      "execution_count": 1,
      "outputs": []
    },
    {
      "cell_type": "code",
      "source": [
        "dir(models)"
      ],
      "metadata": {
        "id": "LOuRn7kF9l83",
        "outputId": "8b97f25c-32ad-4761-bd7d-e4f76fb7025a",
        "colab": {
          "base_uri": "https://localhost:8080/"
        }
      },
      "id": "LOuRn7kF9l83",
      "execution_count": 2,
      "outputs": [
        {
          "output_type": "execute_result",
          "data": {
            "text/plain": [
              "['AlexNet',\n",
              " 'AlexNet_Weights',\n",
              " 'ConvNeXt',\n",
              " 'ConvNeXt_Base_Weights',\n",
              " 'ConvNeXt_Large_Weights',\n",
              " 'ConvNeXt_Small_Weights',\n",
              " 'ConvNeXt_Tiny_Weights',\n",
              " 'DenseNet',\n",
              " 'DenseNet121_Weights',\n",
              " 'DenseNet161_Weights',\n",
              " 'DenseNet169_Weights',\n",
              " 'DenseNet201_Weights',\n",
              " 'EfficientNet',\n",
              " 'EfficientNet_B0_Weights',\n",
              " 'EfficientNet_B1_Weights',\n",
              " 'EfficientNet_B2_Weights',\n",
              " 'EfficientNet_B3_Weights',\n",
              " 'EfficientNet_B4_Weights',\n",
              " 'EfficientNet_B5_Weights',\n",
              " 'EfficientNet_B6_Weights',\n",
              " 'EfficientNet_B7_Weights',\n",
              " 'EfficientNet_V2_L_Weights',\n",
              " 'EfficientNet_V2_M_Weights',\n",
              " 'EfficientNet_V2_S_Weights',\n",
              " 'GoogLeNet',\n",
              " 'GoogLeNetOutputs',\n",
              " 'GoogLeNet_Weights',\n",
              " 'Inception3',\n",
              " 'InceptionOutputs',\n",
              " 'Inception_V3_Weights',\n",
              " 'MNASNet',\n",
              " 'MNASNet0_5_Weights',\n",
              " 'MNASNet0_75_Weights',\n",
              " 'MNASNet1_0_Weights',\n",
              " 'MNASNet1_3_Weights',\n",
              " 'MaxVit',\n",
              " 'MaxVit_T_Weights',\n",
              " 'MobileNetV2',\n",
              " 'MobileNetV3',\n",
              " 'MobileNet_V2_Weights',\n",
              " 'MobileNet_V3_Large_Weights',\n",
              " 'MobileNet_V3_Small_Weights',\n",
              " 'RegNet',\n",
              " 'RegNet_X_16GF_Weights',\n",
              " 'RegNet_X_1_6GF_Weights',\n",
              " 'RegNet_X_32GF_Weights',\n",
              " 'RegNet_X_3_2GF_Weights',\n",
              " 'RegNet_X_400MF_Weights',\n",
              " 'RegNet_X_800MF_Weights',\n",
              " 'RegNet_X_8GF_Weights',\n",
              " 'RegNet_Y_128GF_Weights',\n",
              " 'RegNet_Y_16GF_Weights',\n",
              " 'RegNet_Y_1_6GF_Weights',\n",
              " 'RegNet_Y_32GF_Weights',\n",
              " 'RegNet_Y_3_2GF_Weights',\n",
              " 'RegNet_Y_400MF_Weights',\n",
              " 'RegNet_Y_800MF_Weights',\n",
              " 'RegNet_Y_8GF_Weights',\n",
              " 'ResNeXt101_32X8D_Weights',\n",
              " 'ResNeXt101_64X4D_Weights',\n",
              " 'ResNeXt50_32X4D_Weights',\n",
              " 'ResNet',\n",
              " 'ResNet101_Weights',\n",
              " 'ResNet152_Weights',\n",
              " 'ResNet18_Weights',\n",
              " 'ResNet34_Weights',\n",
              " 'ResNet50_Weights',\n",
              " 'ShuffleNetV2',\n",
              " 'ShuffleNet_V2_X0_5_Weights',\n",
              " 'ShuffleNet_V2_X1_0_Weights',\n",
              " 'ShuffleNet_V2_X1_5_Weights',\n",
              " 'ShuffleNet_V2_X2_0_Weights',\n",
              " 'SqueezeNet',\n",
              " 'SqueezeNet1_0_Weights',\n",
              " 'SqueezeNet1_1_Weights',\n",
              " 'SwinTransformer',\n",
              " 'Swin_B_Weights',\n",
              " 'Swin_S_Weights',\n",
              " 'Swin_T_Weights',\n",
              " 'Swin_V2_B_Weights',\n",
              " 'Swin_V2_S_Weights',\n",
              " 'Swin_V2_T_Weights',\n",
              " 'VGG',\n",
              " 'VGG11_BN_Weights',\n",
              " 'VGG11_Weights',\n",
              " 'VGG13_BN_Weights',\n",
              " 'VGG13_Weights',\n",
              " 'VGG16_BN_Weights',\n",
              " 'VGG16_Weights',\n",
              " 'VGG19_BN_Weights',\n",
              " 'VGG19_Weights',\n",
              " 'ViT_B_16_Weights',\n",
              " 'ViT_B_32_Weights',\n",
              " 'ViT_H_14_Weights',\n",
              " 'ViT_L_16_Weights',\n",
              " 'ViT_L_32_Weights',\n",
              " 'VisionTransformer',\n",
              " 'Weights',\n",
              " 'WeightsEnum',\n",
              " 'Wide_ResNet101_2_Weights',\n",
              " 'Wide_ResNet50_2_Weights',\n",
              " '_GoogLeNetOutputs',\n",
              " '_InceptionOutputs',\n",
              " '__builtins__',\n",
              " '__cached__',\n",
              " '__doc__',\n",
              " '__file__',\n",
              " '__loader__',\n",
              " '__name__',\n",
              " '__package__',\n",
              " '__path__',\n",
              " '__spec__',\n",
              " '_api',\n",
              " '_meta',\n",
              " '_utils',\n",
              " 'alexnet',\n",
              " 'convnext',\n",
              " 'convnext_base',\n",
              " 'convnext_large',\n",
              " 'convnext_small',\n",
              " 'convnext_tiny',\n",
              " 'densenet',\n",
              " 'densenet121',\n",
              " 'densenet161',\n",
              " 'densenet169',\n",
              " 'densenet201',\n",
              " 'detection',\n",
              " 'efficientnet',\n",
              " 'efficientnet_b0',\n",
              " 'efficientnet_b1',\n",
              " 'efficientnet_b2',\n",
              " 'efficientnet_b3',\n",
              " 'efficientnet_b4',\n",
              " 'efficientnet_b5',\n",
              " 'efficientnet_b6',\n",
              " 'efficientnet_b7',\n",
              " 'efficientnet_v2_l',\n",
              " 'efficientnet_v2_m',\n",
              " 'efficientnet_v2_s',\n",
              " 'get_model',\n",
              " 'get_model_builder',\n",
              " 'get_model_weights',\n",
              " 'get_weight',\n",
              " 'googlenet',\n",
              " 'inception',\n",
              " 'inception_v3',\n",
              " 'list_models',\n",
              " 'maxvit',\n",
              " 'maxvit_t',\n",
              " 'mnasnet',\n",
              " 'mnasnet0_5',\n",
              " 'mnasnet0_75',\n",
              " 'mnasnet1_0',\n",
              " 'mnasnet1_3',\n",
              " 'mobilenet',\n",
              " 'mobilenet_v2',\n",
              " 'mobilenet_v3_large',\n",
              " 'mobilenet_v3_small',\n",
              " 'mobilenetv2',\n",
              " 'mobilenetv3',\n",
              " 'optical_flow',\n",
              " 'quantization',\n",
              " 'regnet',\n",
              " 'regnet_x_16gf',\n",
              " 'regnet_x_1_6gf',\n",
              " 'regnet_x_32gf',\n",
              " 'regnet_x_3_2gf',\n",
              " 'regnet_x_400mf',\n",
              " 'regnet_x_800mf',\n",
              " 'regnet_x_8gf',\n",
              " 'regnet_y_128gf',\n",
              " 'regnet_y_16gf',\n",
              " 'regnet_y_1_6gf',\n",
              " 'regnet_y_32gf',\n",
              " 'regnet_y_3_2gf',\n",
              " 'regnet_y_400mf',\n",
              " 'regnet_y_800mf',\n",
              " 'regnet_y_8gf',\n",
              " 'resnet',\n",
              " 'resnet101',\n",
              " 'resnet152',\n",
              " 'resnet18',\n",
              " 'resnet34',\n",
              " 'resnet50',\n",
              " 'resnext101_32x8d',\n",
              " 'resnext101_64x4d',\n",
              " 'resnext50_32x4d',\n",
              " 'segmentation',\n",
              " 'shufflenet_v2_x0_5',\n",
              " 'shufflenet_v2_x1_0',\n",
              " 'shufflenet_v2_x1_5',\n",
              " 'shufflenet_v2_x2_0',\n",
              " 'shufflenetv2',\n",
              " 'squeezenet',\n",
              " 'squeezenet1_0',\n",
              " 'squeezenet1_1',\n",
              " 'swin_b',\n",
              " 'swin_s',\n",
              " 'swin_t',\n",
              " 'swin_transformer',\n",
              " 'swin_v2_b',\n",
              " 'swin_v2_s',\n",
              " 'swin_v2_t',\n",
              " 'vgg',\n",
              " 'vgg11',\n",
              " 'vgg11_bn',\n",
              " 'vgg13',\n",
              " 'vgg13_bn',\n",
              " 'vgg16',\n",
              " 'vgg16_bn',\n",
              " 'vgg19',\n",
              " 'vgg19_bn',\n",
              " 'video',\n",
              " 'vision_transformer',\n",
              " 'vit_b_16',\n",
              " 'vit_b_32',\n",
              " 'vit_h_14',\n",
              " 'vit_l_16',\n",
              " 'vit_l_32',\n",
              " 'wide_resnet101_2',\n",
              " 'wide_resnet50_2']"
            ]
          },
          "metadata": {},
          "execution_count": 2
        }
      ]
    },
    {
      "cell_type": "code",
      "source": [
        "resnet = models.resnet18(pretrained=True)"
      ],
      "metadata": {
        "id": "kw-6OK7H_RzJ",
        "outputId": "a35795e4-2453-4f42-aaa2-975cb5255e76",
        "colab": {
          "base_uri": "https://localhost:8080/"
        }
      },
      "id": "kw-6OK7H_RzJ",
      "execution_count": 3,
      "outputs": [
        {
          "output_type": "stream",
          "name": "stderr",
          "text": [
            "/usr/local/lib/python3.9/dist-packages/torchvision/models/_utils.py:208: UserWarning: The parameter 'pretrained' is deprecated since 0.13 and may be removed in the future, please use 'weights' instead.\n",
            "  warnings.warn(\n",
            "/usr/local/lib/python3.9/dist-packages/torchvision/models/_utils.py:223: UserWarning: Arguments other than a weight enum or `None` for 'weights' are deprecated since 0.13 and may be removed in the future. The current behavior is equivalent to passing `weights=ResNet18_Weights.IMAGENET1K_V1`. You can also use `weights=ResNet18_Weights.DEFAULT` to get the most up-to-date weights.\n",
            "  warnings.warn(msg)\n",
            "Downloading: \"https://download.pytorch.org/models/resnet18-f37072fd.pth\" to /root/.cache/torch/hub/checkpoints/resnet18-f37072fd.pth\n",
            "100%|██████████| 44.7M/44.7M [00:00<00:00, 213MB/s]\n"
          ]
        }
      ]
    },
    {
      "cell_type": "code",
      "execution_count": null,
      "id": "1aece920-7233-4d20-bbab-a8c9852a8c98",
      "metadata": {
        "id": "1aece920-7233-4d20-bbab-a8c9852a8c98"
      },
      "outputs": [],
      "source": [
        "# tf.random.set_seed(42)\n",
        "\n",
        "# label_attribution = LabelAttribution(path_image_google='/content/bdappv/google/img', \n",
        "#                                    path_mask_google='/content/bdappv/google/mask',\n",
        "#                                    path_metadata='/content/bdappv/metadata.csv',\n",
        "#                                    colonne_identifiant='identifiant',\n",
        "#                                    path_export_train_test='/content/drive/MyDrive',\n",
        "#                                    path_image_ign='/content/bdappv/ign/img',\n",
        "#                                    path_mask_ign='/content/bdappv/ign/mask',\n",
        "#                                    use_img_google=True,\n",
        "#                                    use_img_ign=False\n",
        "#                                     )"
      ]
    },
    {
      "cell_type": "code",
      "execution_count": null,
      "id": "fda5351c-aa4d-44b6-8516-adfc0a2a95d8",
      "metadata": {
        "id": "fda5351c-aa4d-44b6-8516-adfc0a2a95d8"
      },
      "outputs": [],
      "source": [
        "# label_attribution.run()"
      ]
    },
    {
      "cell_type": "code",
      "execution_count": null,
      "id": "fcc608e2",
      "metadata": {
        "id": "fcc608e2"
      },
      "outputs": [],
      "source": [
        "# path_train=\"C:/Users/yanis/OneDrive/Documents/Projet Stat/statapps/train_data.csv\"\n",
        "# path_test=\"C:/Users/yanis/OneDrive/Documents/Projet Stat/statapps/test_data.csv\"\n",
        "\n",
        "# transformed_train_dataset  = CustomImageDataset(path_train,\"C:/Users/yanis/OneDrive/Documents/Projet Stat/Données/bdappv/google/img/\", transform=transforms.Compose([\n",
        "#                                                transforms.Resize(224),\n",
        "#                                                transforms.ColorJitter(brightness=(0.6, 1.4), contrast=(0.6, 1.4), saturation=(0.6, 1.4), hue=(-0.5, 0.5)),\n",
        "#                                                transforms.RandomCrop(160),\n",
        "#                                                transforms.RandomHorizontalFlip(p=0.5),\n",
        "#                                                transforms.RandomVerticalFlip(p=0.5),\n",
        "#                                                transforms.RandomRotation(degrees = (0,180)),\n",
        "#                                                transforms.Resize(224),\n",
        "#                                                transforms.ToTensor(),\n",
        "#                                                #transforms.Normalize(mean = [0.2969593107700348, 0.29610514640808105, 0.29613879323005676],\n",
        "#                                                                     #std= [0.19015252590179443, 0.18941254913806915, 0.18982695043087006])\n",
        "\n",
        "#                                            ]))\n",
        "\n",
        "# #On resize et normalise uniquement sur le test\n",
        "# transformed_test_dataset = CustomImageDataset(path_test,\"C:/Users/yanis/OneDrive/Documents/Projet Stat/Données/bdappv/google/img/\",\n",
        "#                                             transform=transforms.Compose([\n",
        "#                                                transforms.Resize(224),\n",
        "#                                                transforms.ToTensor(),\n",
        "#                                                #transforms.Normalize(mean = [0.3499923348426819, 0.3576664924621582, 0.3081061840057373],\n",
        "#                                                                     #std= [0.16761955618858337, 0.14885342121124268, 0.1473139077425003])\n",
        "#                                            ]))"
      ]
    },
    {
      "cell_type": "code",
      "execution_count": null,
      "id": "41Sfxd_uq7LT",
      "metadata": {
        "id": "41Sfxd_uq7LT"
      },
      "outputs": [],
      "source": [
        "# print(\"Nombre d'images dans le train: {}\".format(transformed_train_dataset.__len__()))\n",
        "# print(\"Nombre d'images dans le test: {}\".format(transformed_test_dataset.__len__()))"
      ]
    },
    {
      "cell_type": "code",
      "execution_count": null,
      "id": "tQyPLEJRsPUa",
      "metadata": {
        "id": "tQyPLEJRsPUa"
      },
      "outputs": [],
      "source": [
        "# train_dataloader = DataLoader(transformed_train_dataset, batch_size=23045, shuffle=True)\n",
        "# test_dataloader = DataLoader(transformed_test_dataset, batch_size=5762, shuffle=True)"
      ]
    },
    {
      "cell_type": "code",
      "execution_count": null,
      "id": "a286a12b",
      "metadata": {
        "id": "a286a12b"
      },
      "outputs": [],
      "source": [
        "# mean_train, std_train = mean_std(train_dataloader)\n",
        "# print(\"Moyenne par channel: {}\".format(mean_train.tolist()))\n",
        "# print(\"Ecart-type par channel: {}\".format(std_train.tolist()))"
      ]
    },
    {
      "cell_type": "code",
      "execution_count": null,
      "id": "d70b543d",
      "metadata": {
        "id": "d70b543d"
      },
      "outputs": [],
      "source": [
        "# mean_test, std_test = mean_std(test_dataloader)\n",
        "# print(\"Moyenne par channel: {}\".format(mean_test.tolist()))\n",
        "# print(\"Ecart-type par channel: {}\".format(std_test.tolist()))"
      ]
    },
    {
      "cell_type": "code",
      "execution_count": null,
      "id": "410985ac",
      "metadata": {
        "id": "410985ac"
      },
      "outputs": [],
      "source": [
        "# path_train='/content/drive/MyDrive/train_data.csv'\n",
        "# path_test='/content/drive/MyDrive/test_data.csv'\n",
        "\n",
        "\n",
        "# normalized_train_dataset  = CustomImageDataset(path_train,'/content/bdappv/google/img', transform=transforms.Compose([\n",
        "#                                                transforms.Resize(224),\n",
        "#                                                transforms.ColorJitter(brightness=(0.6, 1.4), contrast=(0.6, 1.4), saturation=(0.6, 1.4), hue=(-0.5, 0.5)),\n",
        "#                                                transforms.RandomCrop(20),\n",
        "#                                                transforms.RandomHorizontalFlip(p=0.5),\n",
        "#                                                transforms.RandomVerticalFlip(p=0.5),\n",
        "#                                                transforms.RandomRotation(degrees = (0,180)),\n",
        "#                                                transforms.Resize(224),\n",
        "#                                                transforms.ToTensor(),\n",
        "#                                                transforms.Normalize(mean = [0.29619696736335754, 0.2954482138156891, 0.2950427234172821],\n",
        "#                                                                     std= [0.21924977004528046, 0.21851609647274017, 0.2186581790447235]), \n",
        "\n",
        "#                                            ]))\n",
        "\n",
        "\n",
        "# normalize_test_dataset = CustomImageDataset(path_test,'/content/bdappv/google/img',\n",
        "#                                             transform=transforms.Compose([\n",
        "#                                                transforms.Resize(224),\n",
        "#                                                transforms.ToTensor(),\n",
        "#                                                transforms.Normalize(mean = [0.34992772340774536, 0.35760578513145447, 0.3080298900604248],\n",
        "#                                                                     std= [0.2013908326625824, 0.18425437808036804, 0.1794954240322113]), \n",
        "#                                            ]))\n",
        "# train_dataloader_augmente = DataLoader(normalized_train_dataset, batch_size=23045, shuffle=True)\n",
        "# test_dataloader_augmente = DataLoader(normalize_test_dataset, batch_size=5762, shuffle=True)"
      ]
    },
    {
      "cell_type": "code",
      "execution_count": null,
      "id": "7959c1e1",
      "metadata": {
        "id": "7959c1e1",
        "outputId": "da863a3c-0496-4180-ee16-558f9e38b7fc"
      },
      "outputs": [
        {
          "name": "stdout",
          "output_type": "stream",
          "text": [
            "Nombre d'images dans le train: 23045\n",
            "Nombre d'images dans le test: 5762\n"
          ]
        }
      ],
      "source": [
        "# print(\"Nombre d'images dans le train: {}\".format(normalized_train_dataset.__len__()))\n",
        "# print(\"Nombre d'images dans le test: {}\".format(normalize_test_dataset.__len__()))"
      ]
    },
    {
      "cell_type": "code",
      "execution_count": null,
      "id": "50bfc8af",
      "metadata": {
        "id": "50bfc8af"
      },
      "outputs": [],
      "source": [
        "# X_train, Y_train=next(iter(train_dataloader_augmente))\n",
        "# X_test, Y_test=next(iter(test_dataloader_augmente))\n",
        "\n",
        "# X_train_permute=X_train.permute(0, 2, 3,1)\n",
        "# X_test_permute=X_test.permute(0, 2, 3,1)"
      ]
    },
    {
      "cell_type": "code",
      "execution_count": null,
      "id": "e6517852",
      "metadata": {
        "id": "e6517852"
      },
      "outputs": [],
      "source": [
        "X_train_permute=np.load('X_train_permute.npy', allow_pickle = True)\n",
        "X_test_permute=np.load('X_test_permute.npy', allow_pickle = True)\n",
        "Y_train=np.load(\"Y_train.npy\", allow_pickle = True)\n",
        "Y_test=np.load(\"Y_test.npy\", allow_pickle = True)"
      ]
    },
    {
      "cell_type": "markdown",
      "id": "jBWM12pxcvQK",
      "metadata": {
        "id": "jBWM12pxcvQK"
      },
      "source": [
        "# Lancement du modèle\n",
        "\n",
        "Les cinq premières métriques représentent les performances de notre algorithme sur l'échantillon d'entrainement, les cinq dernières valeurs (celles précédées du préfixe val_) sont elles calculées sur l'échantillon de test. "
      ]
    },
    {
      "cell_type": "code",
      "execution_count": null,
      "id": "6e839e45",
      "metadata": {
        "id": "6e839e45"
      },
      "outputs": [],
      "source": [
        "model_init = buildModel()"
      ]
    },
    {
      "cell_type": "code",
      "execution_count": null,
      "id": "Gkds0SmvZtxN",
      "metadata": {
        "colab": {
          "base_uri": "https://localhost:8080/"
        },
        "id": "Gkds0SmvZtxN",
        "outputId": "72f37518-16e4-4f61-c8f9-eb3e9aa4d306"
      },
      "outputs": [
        {
          "name": "stdout",
          "output_type": "stream",
          "text": [
            "Epoch 1/20\n",
            " 16/721 [..............................] - ETA: 4:41:03 - loss: 1.6082 - Accuracy: 0.4844 - recall_m: 0.5057 - precision_m: 0.3524 - f1_m: 0.3839"
          ]
        },
        {
          "ename": "KeyboardInterrupt",
          "evalue": "",
          "output_type": "error",
          "traceback": [
            "\u001b[1;31m---------------------------------------------------------------------------\u001b[0m",
            "\u001b[1;31mKeyboardInterrupt\u001b[0m                         Traceback (most recent call last)",
            "Cell \u001b[1;32mIn[28], line 1\u001b[0m\n\u001b[1;32m----> 1\u001b[0m history\u001b[39m=\u001b[39mmodel_init\u001b[39m.\u001b[39;49mfit(x \u001b[39m=\u001b[39;49m X_train_permute\u001b[39m.\u001b[39;49mnumpy(), y \u001b[39m=\u001b[39;49m Y_train\u001b[39m.\u001b[39;49mnumpy(),\n\u001b[0;32m      2\u001b[0m \tvalidation_data\u001b[39m=\u001b[39;49m(X_test_permute\u001b[39m.\u001b[39;49mnumpy(), Y_test\u001b[39m.\u001b[39;49mnumpy()),\n\u001b[0;32m      3\u001b[0m \tbatch_size\u001b[39m=\u001b[39;49m\u001b[39m32\u001b[39;49m,\n\u001b[0;32m      4\u001b[0m \tepochs\u001b[39m=\u001b[39;49m\u001b[39m20\u001b[39;49m)\n",
            "File \u001b[1;32mc:\\Users\\yanis\\anaconda3\\lib\\site-packages\\keras\\utils\\traceback_utils.py:65\u001b[0m, in \u001b[0;36mfilter_traceback.<locals>.error_handler\u001b[1;34m(*args, **kwargs)\u001b[0m\n\u001b[0;32m     63\u001b[0m filtered_tb \u001b[39m=\u001b[39m \u001b[39mNone\u001b[39;00m\n\u001b[0;32m     64\u001b[0m \u001b[39mtry\u001b[39;00m:\n\u001b[1;32m---> 65\u001b[0m     \u001b[39mreturn\u001b[39;00m fn(\u001b[39m*\u001b[39margs, \u001b[39m*\u001b[39m\u001b[39m*\u001b[39mkwargs)\n\u001b[0;32m     66\u001b[0m \u001b[39mexcept\u001b[39;00m \u001b[39mException\u001b[39;00m \u001b[39mas\u001b[39;00m e:\n\u001b[0;32m     67\u001b[0m     filtered_tb \u001b[39m=\u001b[39m _process_traceback_frames(e\u001b[39m.\u001b[39m__traceback__)\n",
            "File \u001b[1;32mc:\\Users\\yanis\\anaconda3\\lib\\site-packages\\keras\\engine\\training.py:1650\u001b[0m, in \u001b[0;36mModel.fit\u001b[1;34m(self, x, y, batch_size, epochs, verbose, callbacks, validation_split, validation_data, shuffle, class_weight, sample_weight, initial_epoch, steps_per_epoch, validation_steps, validation_batch_size, validation_freq, max_queue_size, workers, use_multiprocessing)\u001b[0m\n\u001b[0;32m   1642\u001b[0m \u001b[39mwith\u001b[39;00m tf\u001b[39m.\u001b[39mprofiler\u001b[39m.\u001b[39mexperimental\u001b[39m.\u001b[39mTrace(\n\u001b[0;32m   1643\u001b[0m     \u001b[39m\"\u001b[39m\u001b[39mtrain\u001b[39m\u001b[39m\"\u001b[39m,\n\u001b[0;32m   1644\u001b[0m     epoch_num\u001b[39m=\u001b[39mepoch,\n\u001b[1;32m   (...)\u001b[0m\n\u001b[0;32m   1647\u001b[0m     _r\u001b[39m=\u001b[39m\u001b[39m1\u001b[39m,\n\u001b[0;32m   1648\u001b[0m ):\n\u001b[0;32m   1649\u001b[0m     callbacks\u001b[39m.\u001b[39mon_train_batch_begin(step)\n\u001b[1;32m-> 1650\u001b[0m     tmp_logs \u001b[39m=\u001b[39m \u001b[39mself\u001b[39;49m\u001b[39m.\u001b[39;49mtrain_function(iterator)\n\u001b[0;32m   1651\u001b[0m     \u001b[39mif\u001b[39;00m data_handler\u001b[39m.\u001b[39mshould_sync:\n\u001b[0;32m   1652\u001b[0m         context\u001b[39m.\u001b[39masync_wait()\n",
            "File \u001b[1;32mc:\\Users\\yanis\\anaconda3\\lib\\site-packages\\tensorflow\\python\\util\\traceback_utils.py:150\u001b[0m, in \u001b[0;36mfilter_traceback.<locals>.error_handler\u001b[1;34m(*args, **kwargs)\u001b[0m\n\u001b[0;32m    148\u001b[0m filtered_tb \u001b[39m=\u001b[39m \u001b[39mNone\u001b[39;00m\n\u001b[0;32m    149\u001b[0m \u001b[39mtry\u001b[39;00m:\n\u001b[1;32m--> 150\u001b[0m   \u001b[39mreturn\u001b[39;00m fn(\u001b[39m*\u001b[39margs, \u001b[39m*\u001b[39m\u001b[39m*\u001b[39mkwargs)\n\u001b[0;32m    151\u001b[0m \u001b[39mexcept\u001b[39;00m \u001b[39mException\u001b[39;00m \u001b[39mas\u001b[39;00m e:\n\u001b[0;32m    152\u001b[0m   filtered_tb \u001b[39m=\u001b[39m _process_traceback_frames(e\u001b[39m.\u001b[39m__traceback__)\n",
            "File \u001b[1;32mc:\\Users\\yanis\\anaconda3\\lib\\site-packages\\tensorflow\\python\\eager\\polymorphic_function\\polymorphic_function.py:880\u001b[0m, in \u001b[0;36mFunction.__call__\u001b[1;34m(self, *args, **kwds)\u001b[0m\n\u001b[0;32m    877\u001b[0m compiler \u001b[39m=\u001b[39m \u001b[39m\"\u001b[39m\u001b[39mxla\u001b[39m\u001b[39m\"\u001b[39m \u001b[39mif\u001b[39;00m \u001b[39mself\u001b[39m\u001b[39m.\u001b[39m_jit_compile \u001b[39melse\u001b[39;00m \u001b[39m\"\u001b[39m\u001b[39mnonXla\u001b[39m\u001b[39m\"\u001b[39m\n\u001b[0;32m    879\u001b[0m \u001b[39mwith\u001b[39;00m OptionalXlaContext(\u001b[39mself\u001b[39m\u001b[39m.\u001b[39m_jit_compile):\n\u001b[1;32m--> 880\u001b[0m   result \u001b[39m=\u001b[39m \u001b[39mself\u001b[39m\u001b[39m.\u001b[39m_call(\u001b[39m*\u001b[39margs, \u001b[39m*\u001b[39m\u001b[39m*\u001b[39mkwds)\n\u001b[0;32m    882\u001b[0m new_tracing_count \u001b[39m=\u001b[39m \u001b[39mself\u001b[39m\u001b[39m.\u001b[39mexperimental_get_tracing_count()\n\u001b[0;32m    883\u001b[0m without_tracing \u001b[39m=\u001b[39m (tracing_count \u001b[39m==\u001b[39m new_tracing_count)\n",
            "File \u001b[1;32mc:\\Users\\yanis\\anaconda3\\lib\\site-packages\\tensorflow\\python\\eager\\polymorphic_function\\polymorphic_function.py:912\u001b[0m, in \u001b[0;36mFunction._call\u001b[1;34m(self, *args, **kwds)\u001b[0m\n\u001b[0;32m    909\u001b[0m   \u001b[39mself\u001b[39m\u001b[39m.\u001b[39m_lock\u001b[39m.\u001b[39mrelease()\n\u001b[0;32m    910\u001b[0m   \u001b[39m# In this case we have created variables on the first call, so we run the\u001b[39;00m\n\u001b[0;32m    911\u001b[0m   \u001b[39m# defunned version which is guaranteed to never create variables.\u001b[39;00m\n\u001b[1;32m--> 912\u001b[0m   \u001b[39mreturn\u001b[39;00m \u001b[39mself\u001b[39m\u001b[39m.\u001b[39m_no_variable_creation_fn(\u001b[39m*\u001b[39margs, \u001b[39m*\u001b[39m\u001b[39m*\u001b[39mkwds)  \u001b[39m# pylint: disable=not-callable\u001b[39;00m\n\u001b[0;32m    913\u001b[0m \u001b[39melif\u001b[39;00m \u001b[39mself\u001b[39m\u001b[39m.\u001b[39m_variable_creation_fn \u001b[39mis\u001b[39;00m \u001b[39mnot\u001b[39;00m \u001b[39mNone\u001b[39;00m:\n\u001b[0;32m    914\u001b[0m   \u001b[39m# Release the lock early so that multiple threads can perform the call\u001b[39;00m\n\u001b[0;32m    915\u001b[0m   \u001b[39m# in parallel.\u001b[39;00m\n\u001b[0;32m    916\u001b[0m   \u001b[39mself\u001b[39m\u001b[39m.\u001b[39m_lock\u001b[39m.\u001b[39mrelease()\n",
            "File \u001b[1;32mc:\\Users\\yanis\\anaconda3\\lib\\site-packages\\tensorflow\\python\\eager\\polymorphic_function\\tracing_compiler.py:134\u001b[0m, in \u001b[0;36mTracingCompiler.__call__\u001b[1;34m(self, *args, **kwargs)\u001b[0m\n\u001b[0;32m    131\u001b[0m \u001b[39mwith\u001b[39;00m \u001b[39mself\u001b[39m\u001b[39m.\u001b[39m_lock:\n\u001b[0;32m    132\u001b[0m   (concrete_function,\n\u001b[0;32m    133\u001b[0m    filtered_flat_args) \u001b[39m=\u001b[39m \u001b[39mself\u001b[39m\u001b[39m.\u001b[39m_maybe_define_function(args, kwargs)\n\u001b[1;32m--> 134\u001b[0m \u001b[39mreturn\u001b[39;00m concrete_function\u001b[39m.\u001b[39;49m_call_flat(\n\u001b[0;32m    135\u001b[0m     filtered_flat_args, captured_inputs\u001b[39m=\u001b[39;49mconcrete_function\u001b[39m.\u001b[39;49mcaptured_inputs)\n",
            "File \u001b[1;32mc:\\Users\\yanis\\anaconda3\\lib\\site-packages\\tensorflow\\python\\eager\\polymorphic_function\\monomorphic_function.py:1745\u001b[0m, in \u001b[0;36mConcreteFunction._call_flat\u001b[1;34m(self, args, captured_inputs, cancellation_manager)\u001b[0m\n\u001b[0;32m   1741\u001b[0m possible_gradient_type \u001b[39m=\u001b[39m gradients_util\u001b[39m.\u001b[39mPossibleTapeGradientTypes(args)\n\u001b[0;32m   1742\u001b[0m \u001b[39mif\u001b[39;00m (possible_gradient_type \u001b[39m==\u001b[39m gradients_util\u001b[39m.\u001b[39mPOSSIBLE_GRADIENT_TYPES_NONE\n\u001b[0;32m   1743\u001b[0m     \u001b[39mand\u001b[39;00m executing_eagerly):\n\u001b[0;32m   1744\u001b[0m   \u001b[39m# No tape is watching; skip to running the function.\u001b[39;00m\n\u001b[1;32m-> 1745\u001b[0m   \u001b[39mreturn\u001b[39;00m \u001b[39mself\u001b[39m\u001b[39m.\u001b[39m_build_call_outputs(\u001b[39mself\u001b[39;49m\u001b[39m.\u001b[39;49m_inference_function\u001b[39m.\u001b[39;49mcall(\n\u001b[0;32m   1746\u001b[0m       ctx, args, cancellation_manager\u001b[39m=\u001b[39;49mcancellation_manager))\n\u001b[0;32m   1747\u001b[0m forward_backward \u001b[39m=\u001b[39m \u001b[39mself\u001b[39m\u001b[39m.\u001b[39m_select_forward_and_backward_functions(\n\u001b[0;32m   1748\u001b[0m     args,\n\u001b[0;32m   1749\u001b[0m     possible_gradient_type,\n\u001b[0;32m   1750\u001b[0m     executing_eagerly)\n\u001b[0;32m   1751\u001b[0m forward_function, args_with_tangents \u001b[39m=\u001b[39m forward_backward\u001b[39m.\u001b[39mforward()\n",
            "File \u001b[1;32mc:\\Users\\yanis\\anaconda3\\lib\\site-packages\\tensorflow\\python\\eager\\polymorphic_function\\monomorphic_function.py:378\u001b[0m, in \u001b[0;36m_EagerDefinedFunction.call\u001b[1;34m(self, ctx, args, cancellation_manager)\u001b[0m\n\u001b[0;32m    376\u001b[0m \u001b[39mwith\u001b[39;00m _InterpolateFunctionError(\u001b[39mself\u001b[39m):\n\u001b[0;32m    377\u001b[0m   \u001b[39mif\u001b[39;00m cancellation_manager \u001b[39mis\u001b[39;00m \u001b[39mNone\u001b[39;00m:\n\u001b[1;32m--> 378\u001b[0m     outputs \u001b[39m=\u001b[39m execute\u001b[39m.\u001b[39;49mexecute(\n\u001b[0;32m    379\u001b[0m         \u001b[39mstr\u001b[39;49m(\u001b[39mself\u001b[39;49m\u001b[39m.\u001b[39;49msignature\u001b[39m.\u001b[39;49mname),\n\u001b[0;32m    380\u001b[0m         num_outputs\u001b[39m=\u001b[39;49m\u001b[39mself\u001b[39;49m\u001b[39m.\u001b[39;49m_num_outputs,\n\u001b[0;32m    381\u001b[0m         inputs\u001b[39m=\u001b[39;49margs,\n\u001b[0;32m    382\u001b[0m         attrs\u001b[39m=\u001b[39;49mattrs,\n\u001b[0;32m    383\u001b[0m         ctx\u001b[39m=\u001b[39;49mctx)\n\u001b[0;32m    384\u001b[0m   \u001b[39melse\u001b[39;00m:\n\u001b[0;32m    385\u001b[0m     outputs \u001b[39m=\u001b[39m execute\u001b[39m.\u001b[39mexecute_with_cancellation(\n\u001b[0;32m    386\u001b[0m         \u001b[39mstr\u001b[39m(\u001b[39mself\u001b[39m\u001b[39m.\u001b[39msignature\u001b[39m.\u001b[39mname),\n\u001b[0;32m    387\u001b[0m         num_outputs\u001b[39m=\u001b[39m\u001b[39mself\u001b[39m\u001b[39m.\u001b[39m_num_outputs,\n\u001b[1;32m   (...)\u001b[0m\n\u001b[0;32m    390\u001b[0m         ctx\u001b[39m=\u001b[39mctx,\n\u001b[0;32m    391\u001b[0m         cancellation_manager\u001b[39m=\u001b[39mcancellation_manager)\n",
            "File \u001b[1;32mc:\\Users\\yanis\\anaconda3\\lib\\site-packages\\tensorflow\\python\\eager\\execute.py:52\u001b[0m, in \u001b[0;36mquick_execute\u001b[1;34m(op_name, num_outputs, inputs, attrs, ctx, name)\u001b[0m\n\u001b[0;32m     50\u001b[0m \u001b[39mtry\u001b[39;00m:\n\u001b[0;32m     51\u001b[0m   ctx\u001b[39m.\u001b[39mensure_initialized()\n\u001b[1;32m---> 52\u001b[0m   tensors \u001b[39m=\u001b[39m pywrap_tfe\u001b[39m.\u001b[39;49mTFE_Py_Execute(ctx\u001b[39m.\u001b[39;49m_handle, device_name, op_name,\n\u001b[0;32m     53\u001b[0m                                       inputs, attrs, num_outputs)\n\u001b[0;32m     54\u001b[0m \u001b[39mexcept\u001b[39;00m core\u001b[39m.\u001b[39m_NotOkStatusException \u001b[39mas\u001b[39;00m e:\n\u001b[0;32m     55\u001b[0m   \u001b[39mif\u001b[39;00m name \u001b[39mis\u001b[39;00m \u001b[39mnot\u001b[39;00m \u001b[39mNone\u001b[39;00m:\n",
            "\u001b[1;31mKeyboardInterrupt\u001b[0m: "
          ]
        }
      ],
      "source": [
        "history=model_init.fit(x = X_train_permute.numpy(), y = Y_train.numpy(),\n",
        "\tvalidation_data=(X_test_permute.numpy(), Y_test.numpy()),\n",
        "\tbatch_size=32,\n",
        "\tepochs=20)"
      ]
    },
    {
      "cell_type": "code",
      "execution_count": null,
      "id": "3646dc59",
      "metadata": {
        "id": "3646dc59"
      },
      "outputs": [],
      "source": [
        "recall = history.history['recall_m']\n",
        "val_recall = history.history['val_recall_m']\n",
        "\n",
        "accuracy = history.history['Accuracy']\n",
        "val_accuracy = history.history['val_Accuracy']\n",
        "\n",
        "precision = history.history['precision_m']\n",
        "val_precision = history.history['val_precision_m']\n",
        "\n",
        "f1 = history.history['f1_m']\n",
        "val_f1 = history.history['val_f1_m']\n",
        "\n",
        "loss = history.history['loss']\n",
        "val_loss = history.history['val_loss']\n",
        "\n",
        "epochs = range(1, len(recall) + 1)\n",
        "\n",
        "fig, axs = plt.subplots(3, 2, figsize=(15, 15))\n",
        "\n",
        "axs[0, 0].plot(epochs, loss, 'b', label=\"Loss sur l'échantillon d'apprentissage\")\n",
        "axs[0, 0].plot(epochs, val_loss, 'b', label=\"Loss sur l'échantillon test\", color=\"red\")\n",
        "axs[0, 0].set_title(\"Loss sur l'échantillon d'apprentissage et l'échantillon test\")\n",
        "axs[0, 0].legend()\n",
        "\n",
        "axs[0, 1].plot(epochs, accuracy, 'b', label=\"Accuracy sur l'échantillon d'apprentissage\")\n",
        "axs[0, 1].plot(epochs, val_accuracy, 'b', label=\"Accuracy sur l'échantillon test\", color=\"red\")\n",
        "axs[0, 1].set_title(\"Accuracy sur l'échantillon d'apprentissage et l'échantillon test\")\n",
        "axs[0, 1].legend()\n",
        "\n",
        "axs[1, 0].plot(epochs, precision, 'b', label=\"Precision sur l'échantillon d'apprentissage\")\n",
        "axs[1, 0].plot(epochs, val_precision, 'b', label=\"Precision sur l'échantillon test\", color=\"red\")\n",
        "axs[1, 0].set_title(\"Precision sur l'échantillon d'apprentissage et l'échantillon test\")\n",
        "axs[1, 0].legend()\n",
        "\n",
        "axs[1, 1].plot(epochs, recall, 'b', label=\"Recall sur l'échantillon d'apprentissage\")\n",
        "axs[1, 1].plot(epochs, val_recall, 'b', label=\"Recall sur l'échantillon test\", color=\"red\")\n",
        "axs[1, 1].set_title(\"Recall sur l'échantillon d'apprentissage et l'échantillon test\")\n",
        "axs[1, 1].legend()\n",
        "\n",
        "axs[2, 0].plot(epochs, f1, 'b', label=\"F1-score sur l'échantillon d'apprentissage\")\n",
        "axs[2, 0].plot(epochs, val_f1, 'b', label=\"F1-score sur l'échantillon test\", color=\"red\")\n",
        "axs[2, 0].set_title(\"F1-score sur l'échantillon d'apprentissage et l'échantillon test\")\n",
        "axs[2, 0].legend()\n",
        "\n",
        "fig.delaxes(axs[2,1]) # The indexing is zero-based here\n"
      ]
    },
    {
      "cell_type": "code",
      "execution_count": null,
      "id": "TC8-oY5DwVC5",
      "metadata": {
        "colab": {
          "base_uri": "https://localhost:8080/"
        },
        "id": "TC8-oY5DwVC5",
        "outputId": "f5d00ad6-a191-4d22-e500-1cc5fc68021f"
      },
      "outputs": [
        {
          "name": "stdout",
          "output_type": "stream",
          "text": [
            "Loss sur l'échantillon test: 1.064\n",
            "Accuracy sur l'échantillon test: 0.438\n",
            "Recall sur l'échantillon test: 0.706\n",
            "Precision sur l'échantillon test: 0.48\n",
            "F1-score sur l'échantillon test: 0.571\n"
          ]
        }
      ],
      "source": [
        "train_loss, train_accuracy, train_recall, train_precision, train_f1score = model_init.evaluate(\n",
        "    X_train_permute.numpy(), Y_train.numpy(), verbose=0)\n",
        "print(\"Loss sur l'échantillon train: {}\".format(round(train_loss, 3)))\n",
        "print(\"Accuracy sur l'échantillon train: {}\".format(round(train_accuracy, 3)))\n",
        "print(\"Recall sur l'échantillon train: {}\".format(round(train_recall, 3)))\n",
        "print(\"Precision sur l'échantillon train: {}\".format(round(train_precision, 3)))\n",
        "print(\"F1-score sur l'échantillon train: {}\".format(round(train_f1score, 3)))\n"
      ]
    },
    {
      "cell_type": "code",
      "execution_count": null,
      "id": "a38b84b9",
      "metadata": {
        "id": "a38b84b9"
      },
      "outputs": [],
      "source": [
        "loss, accuracy, recall, precision, f1score = model_init.evaluate(\n",
        "    X_test_permute.numpy(), Y_test.numpy(), verbose=0)\n",
        "print(\"Loss sur l'échantillon test: {}\".format(round(loss, 3)))\n",
        "print(\"Accuracy sur l'échantillon test: {}\".format(round(accuracy, 3)))\n",
        "print(\"Recall sur l'échantillon test: {}\".format(round(recall, 3)))\n",
        "print(\"Precision sur l'échantillon test: {}\".format(round(precision, 3)))\n",
        "print(\"F1-score sur l'échantillon test: {}\".format(round(f1score, 3)))\n"
      ]
    },
    {
      "cell_type": "code",
      "execution_count": null,
      "id": "t7BtkwuiYbdE",
      "metadata": {
        "colab": {
          "base_uri": "https://localhost:8080/"
        },
        "id": "t7BtkwuiYbdE",
        "outputId": "a611c268-7d86-4111-c5e7-9d6a755d157d"
      },
      "outputs": [
        {
          "name": "stderr",
          "output_type": "stream",
          "text": [
            "WARNING:tensorflow:6 out of the last 7 calls to <function Model.make_predict_function.<locals>.predict_function at 0x7fed92ee0820> triggered tf.function retracing. Tracing is expensive and the excessive number of tracings could be due to (1) creating @tf.function repeatedly in a loop, (2) passing tensors with different shapes, (3) passing Python objects instead of tensors. For (1), please define your @tf.function outside of the loop. For (2), @tf.function has reduce_retracing=True option that can avoid unnecessary retracing. For (3), please refer to https://www.tensorflow.org/guide/function#controlling_retracing and https://www.tensorflow.org/api_docs/python/tf/function for  more details.\n"
          ]
        },
        {
          "name": "stdout",
          "output_type": "stream",
          "text": [
            "1/1 [==============================] - 38s 38s/step\n"
          ]
        }
      ],
      "source": [
        "prob_predict = model_init.predict(X_test_permute.numpy())\n",
        "y_pred = (np.squeeze(prob_predict) > 0.5).astype(\"int32\")"
      ]
    },
    {
      "cell_type": "code",
      "execution_count": null,
      "id": "7w_RiZwBYxkp",
      "metadata": {
        "colab": {
          "base_uri": "https://localhost:8080/"
        },
        "id": "7w_RiZwBYxkp",
        "outputId": "569796ae-9622-443a-8d4a-801332048e1c"
      },
      "outputs": [
        {
          "name": "stdout",
          "output_type": "stream",
          "text": [
            "Nombre d'images prédites avec panneaux: 25\n",
            "Nombre d'images prédites sans panneau: 7\n"
          ]
        }
      ],
      "source": [
        "unique, counts = np.unique(y_pred, return_counts=True)\n",
        "res=dict(zip(unique, counts))\n",
        "print(\"Nombre d'images prédites avec panneaux: {}\".format(res[1]))\n",
        "print(\"Nombre d'images prédites sans panneau: {}\".format(res[0]))"
      ]
    },
    {
      "cell_type": "code",
      "execution_count": null,
      "id": "KDV7xwf1Y2uE",
      "metadata": {
        "colab": {
          "base_uri": "https://localhost:8080/",
          "height": 279
        },
        "id": "KDV7xwf1Y2uE",
        "outputId": "581ed079-fba5-4445-9024-959229631cab"
      },
      "outputs": [
        {
          "data": {
            "image/png": "[encoded data removed]",
            "text/plain": [
              "<Figure size 432x288 with 2 Axes>"
            ]
          },
          "metadata": {
            "needs_background": "light"
          },
          "output_type": "display_data"
        }
      ],
      "source": [
        "r = confusion_matrix(Y_test, y_pred)\n",
        "\n",
        "labels = [\"Vrais négatifs\", \"Faux Positifs\", \"Faux négatifs\", \"Vrais positifs\"]\n",
        "categories = [\"0\", \"1\"]\n",
        "make_confusion_matrix(r,\n",
        "                      group_names=labels,\n",
        "                      categories=categories,\n",
        "                      )\n"
      ]
    },
    {
      "cell_type": "code",
      "execution_count": null,
      "id": "67187952",
      "metadata": {
        "id": "67187952"
      },
      "outputs": [],
      "source": [
        "from sklearn.metrics import roc_curve\n",
        "from sklearn.metrics import auc\n",
        "\n",
        "FPR, TPR, thresholds_keras = roc_curve(Y_test.numpy(), prob_predict)\n",
        "AUC = auc(FPR, TPR)\n",
        "print(\"AUC: {}\".format(round(AUC, 2)))\n"
      ]
    },
    {
      "cell_type": "code",
      "execution_count": null,
      "id": "49a40dad",
      "metadata": {
        "id": "49a40dad"
      },
      "outputs": [],
      "source": [
        "# plot the roc curve for the model\n",
        "\n",
        "plt.title('Courbe ROC:  ResNet-18')\n",
        "plt.plot(FPR, TPR, label=\"AUC=\"+str(round(AUC, 2)))\n",
        "plt.plot([0, 1], ls=\"--\")\n",
        "plt.plot([0, 0], [1, 0], c=\".7\"), plt.plot([1, 1], c=\".7\")\n",
        "plt.ylabel('Taux de vrais positifs')\n",
        "plt.xlabel('Taux de faux positifs')\n",
        "plt.legend(loc=4)\n",
        "plt.show()\n"
      ]
    },
    {
      "cell_type": "markdown",
      "id": "03cc5834",
      "metadata": {
        "id": "03cc5834"
      },
      "source": [
        "# Hyperparamétrisation du ResNet-18"
      ]
    },
    {
      "cell_type": "markdown",
      "id": "27b8900e",
      "metadata": {
        "id": "27b8900e"
      },
      "source": [
        "Sur le nombre d'itérations (n_iter): https://towardsdatascience.com/hyper-parameter-tuning-with-randomised-grid-search-54f865d27926\n",
        "En pratique, n_iter=60."
      ]
    },
    {
      "cell_type": "code",
      "execution_count": null,
      "id": "37d607c4",
      "metadata": {
        "id": "37d607c4"
      },
      "outputs": [],
      "source": [
        "# from keras.wrappers.scikit_learn import KerasClassifier\n",
        "# from sklearn.model_selection import RandomizedSearchCV\n",
        "\n",
        "# learnRate = [1e-2, 1e-3, 1e-4]\n",
        "# momentum = [0.9, 0.99]\n",
        "# dropout1 = [0.1, 0.2, 0.3, 0.4, 0.5, 0.6, 0.7, 0.8, 0.9]\n",
        "# dropout2 = [0.1, 0.2, 0.3, 0.4, 0.5, 0.6, 0.7, 0.8, 0.9]\n",
        "# dropout3 = [0.1, 0.2, 0.3, 0.4, 0.5, 0.6, 0.7, 0.8, 0.9]\n",
        "# dropout4 = [0.1, 0.2, 0.3, 0.4, 0.5, 0.6, 0.7, 0.8, 0.9]\n",
        "# dropout5 = [0.1, 0.2, 0.3, 0.4, 0.5, 0.6, 0.7, 0.8, 0.9]\n",
        "# weight_decay=[1e-4, 1e-6]\n",
        "# batchSize = [4, 8, 16, 32, 64, 128, 256]\n",
        "# epochs = [10, 20, 30, 40, 50]\n",
        "\n",
        "# grid = dict(\n",
        "#     learnRate=learnRate,\n",
        "#     momentum=momentum,\n",
        "#     dropout1=dropout1,\n",
        "#     dropout2=dropout2,\n",
        "#     dropout3=dropout3,\n",
        "#     dropout4=dropout4,\n",
        "#     dropout5=dropout5,\n",
        "#     weight_decay=weight_decay,\n",
        "#     batch_size=batchSize,\n",
        "#     epochs=epochs\n",
        "# )\n",
        "\n",
        "# model = KerasClassifier(build_fn=buildModel, verbose=1)\n",
        "# #grid = GridSearchCV(estimator=model, param_grid=hyperMatrix)\n",
        "\n",
        "# # n_iter: nombre de modèles entrainés\n",
        "# searcher = RandomizedSearchCV(\n",
        "#     estimator=model, cv=5, n_iter=10, param_distributions=grid, scoring='recall')\n",
        "# searchResults = searcher.fit(\n",
        "#     X_train_augmente_permute.numpy(), Y_train_augmente.numpy())\n"
      ]
    }
  ],
  "metadata": {
    "accelerator": "GPU",
    "colab": {
      "provenance": []
    },
    "gpuClass": "standard",
    "kernelspec": {
      "display_name": "Python 3",
      "language": "python",
      "name": "python3"
    },
    "language_info": {
      "codemirror_mode": {
        "name": "ipython",
        "version": 3
      },
      "file_extension": ".py",
      "mimetype": "text/x-python",
      "name": "python",
      "nbconvert_exporter": "python",
      "pygments_lexer": "ipython3",
      "version": "3.9.13"
    }
  },
  "nbformat": 4,
  "nbformat_minor": 5
}