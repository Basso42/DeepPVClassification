{
  "cells": [
    {
      "cell_type": "markdown",
      "id": "dyycN7Y3nItV",
      "metadata": {
        "id": "dyycN7Y3nItV"
      },
      "source": [
        "# Préparation des données"
      ]
    },
    {
      "cell_type": "markdown",
      "id": "fd213552",
      "metadata": {
        "id": "fd213552"
      },
      "source": [
        "## Import et data augmentations"
      ]
    },
    {
      "cell_type": "code",
      "execution_count": 1,
      "id": "c4R37Bj0pf1r",
      "metadata": {
        "id": "c4R37Bj0pf1r"
      },
      "outputs": [],
      "source": [
        "from  src.dataloader import *\n",
        "from src.metrics import *\n",
        "from src.resnet18 import *\n",
        " \n",
        "import pandas as pd\n",
        "import numpy as np\n",
        "\n",
        "from src.confusion_matrix import make_confusion_matrix\n",
        "from sklearn.metrics import confusion_matrix\n",
        "\n",
        "from torch.utils.data import DataLoader\n",
        "import matplotlib.pyplot as plt\n",
        "import torch.nn as nn\n",
        "\n",
        "\n",
        "import tensorflow as tf\n",
        "import keras\n",
        "import keras.layers as layers\n",
        "from keras.losses import BinaryCrossentropy\n"
      ]
    },
    {
      "cell_type": "code",
      "execution_count": 2,
      "id": "ca516453",
      "metadata": {},
      "outputs": [],
      "source": [
        "tf.random.set_seed(42)"
      ]
    },
    {
      "cell_type": "code",
      "execution_count": 3,
      "id": "1aece920-7233-4d20-bbab-a8c9852a8c98",
      "metadata": {
        "id": "1aece920-7233-4d20-bbab-a8c9852a8c98"
      },
      "outputs": [],
      "source": [
        "label_attribution=LabelAttribution(path_image_google=\"C:/Users/yanis/OneDrive/Documents/Projet Stat/Données/bdappv/google/img/\", \n",
        "                                   path_mask_google='C:/Users/yanis/OneDrive/Documents/Projet Stat/Données/bdappv/google/mask/',\n",
        "                                   path_metadata='C:/Users/yanis/OneDrive/Documents/Projet Stat/Données/bdappv/metadata.csv',\n",
        "                                   colonne_identifiant='identifiant',\n",
        "                                   path_export_train_test=\"C:/Users/yanis/OneDrive/Documents/Projet Stat/statapps\",\n",
        "                                   path_image_ign='C:/Users/yanis/OneDrive/Documents/Projet Stat/Données/bdappv/ign/img',\n",
        "                                   path_mask_ign='C:/Users/yanis/OneDrive/Documents/Projet Stat/Données/bdappv/ign/mask/',\n",
        "                                   use_img_google=True,\n",
        "                                   use_img_ign=False\n",
        "                                    )"
      ]
    },
    {
      "cell_type": "code",
      "execution_count": 4,
      "id": "fda5351c-aa4d-44b6-8516-adfc0a2a95d8",
      "metadata": {
        "id": "fda5351c-aa4d-44b6-8516-adfc0a2a95d8"
      },
      "outputs": [],
      "source": [
        "label_attribution.run()"
      ]
    },
    {
      "cell_type": "code",
      "execution_count": 5,
      "id": "fcc608e2",
      "metadata": {},
      "outputs": [],
      "source": [
        "path_train=\"C:/Users/yanis/OneDrive/Documents/Projet Stat/statapps/train_data.csv\"\n",
        "path_test=\"C:/Users/yanis/OneDrive/Documents/Projet Stat/statapps/test_data.csv\"\n",
        "\n",
        "transformed_train_dataset  = CustomImageDataset(path_train,\"C:/Users/yanis/OneDrive/Documents/Projet Stat/Données/bdappv/google/img/\", transform=transforms.Compose([\n",
        "                                               transforms.Resize(224),\n",
        "                                               transforms.ColorJitter(brightness=(0.6, 1.4), contrast=(0.6, 1.4), saturation=(0.6, 1.4), hue=(-0.5, 0.5)),\n",
        "                                               transforms.RandomCrop(160),\n",
        "                                               transforms.RandomHorizontalFlip(p=0.5),\n",
        "                                               transforms.RandomVerticalFlip(p=0.5),\n",
        "                                               transforms.RandomRotation(degrees = (0,180)),\n",
        "                                               transforms.Resize(224),\n",
        "                                               transforms.ToTensor(),\n",
        "                                               #transforms.Normalize(mean = [0.2969593107700348, 0.29610514640808105, 0.29613879323005676],\n",
        "                                                                    #std= [0.19015252590179443, 0.18941254913806915, 0.18982695043087006])\n",
        "\n",
        "                                           ]))\n",
        "\n",
        "#On resize et normalise uniquement sur le test\n",
        "transformed_test_dataset = CustomImageDataset(path_test,\"C:/Users/yanis/OneDrive/Documents/Projet Stat/Données/bdappv/google/img/\",\n",
        "                                            transform=transforms.Compose([\n",
        "                                               transforms.Resize(224),\n",
        "                                               transforms.ToTensor(),\n",
        "                                               #transforms.Normalize(mean = [0.3499923348426819, 0.3576664924621582, 0.3081061840057373],\n",
        "                                                                    #std= [0.16761955618858337, 0.14885342121124268, 0.1473139077425003])\n",
        "                                           ]))"
      ]
    },
    {
      "cell_type": "code",
      "execution_count": 6,
      "id": "41Sfxd_uq7LT",
      "metadata": {
        "colab": {
          "base_uri": "https://localhost:8080/"
        },
        "id": "41Sfxd_uq7LT",
        "outputId": "c7db8973-6837-4600-a0ba-d6664f7862d0"
      },
      "outputs": [
        {
          "name": "stdout",
          "output_type": "stream",
          "text": [
            "Nombre d'images dans le train: 23045\n",
            "Nombre d'images dans le test: 5762\n"
          ]
        }
      ],
      "source": [
        "print(\"Nombre d'images dans le train: {}\".format(transformed_train_dataset.__len__()))\n",
        "print(\"Nombre d'images dans le test: {}\".format(transformed_test_dataset.__len__()))"
      ]
    },
    {
      "cell_type": "code",
      "execution_count": 7,
      "id": "tQyPLEJRsPUa",
      "metadata": {
        "id": "tQyPLEJRsPUa"
      },
      "outputs": [],
      "source": [
        "train_dataloader = DataLoader(transformed_train_dataset, batch_size=23045, shuffle=True)\n",
        "test_dataloader = DataLoader(transformed_test_dataset, batch_size=5762, shuffle=True)"
      ]
    },
    {
      "cell_type": "code",
      "execution_count": 9,
      "id": "a286a12b",
      "metadata": {},
      "outputs": [
        {
          "name": "stdout",
          "output_type": "stream",
          "text": [
            "Moyenne par channel: [0.29619696736335754, 0.2954482138156891, 0.2950427234172821]\n",
            "Ecart-type par channel: [0.21924977004528046, 0.21851609647274017, 0.2186581790447235]\n"
          ]
        }
      ],
      "source": [
        "mean_train, std_train = mean_std(train_dataloader)\n",
        "print(\"Moyenne par channel: {}\".format(mean_train.tolist()))\n",
        "print(\"Ecart-type par channel: {}\".format(std_train.tolist()))"
      ]
    },
    {
      "cell_type": "code",
      "execution_count": 8,
      "id": "d70b543d",
      "metadata": {},
      "outputs": [
        {
          "name": "stdout",
          "output_type": "stream",
          "text": [
            "Moyenne par channel: [0.34992772340774536, 0.35760578513145447, 0.3080298900604248]\n",
            "Ecart-type par channel: [0.2013908326625824, 0.18425437808036804, 0.1794954240322113]\n"
          ]
        }
      ],
      "source": [
        "mean_test, std_test = mean_std(test_dataloader)\n",
        "print(\"Moyenne par channel: {}\".format(mean_test.tolist()))\n",
        "print(\"Ecart-type par channel: {}\".format(std_test.tolist()))"
      ]
    },
    {
      "cell_type": "code",
      "execution_count": 10,
      "id": "410985ac",
      "metadata": {},
      "outputs": [],
      "source": [
        "normalized_train_dataset  = CustomImageDataset(path_train,\"C:/Users/yanis/OneDrive/Documents/Projet Stat/Données/bdappv/google/img/\", transform=transforms.Compose([\n",
        "                                               transforms.Resize(28),\n",
        "                                               transforms.ColorJitter(brightness=(0.6, 1.4), contrast=(0.6, 1.4), saturation=(0.6, 1.4), hue=(-0.5, 0.5)),\n",
        "                                               transforms.RandomCrop(20),\n",
        "                                               transforms.RandomHorizontalFlip(p=0.5),\n",
        "                                               transforms.RandomVerticalFlip(p=0.5),\n",
        "                                               transforms.RandomRotation(degrees = (0,180)),\n",
        "                                               transforms.Resize(28),\n",
        "                                               transforms.ToTensor(),\n",
        "                                               transforms.Normalize(mean = [0.29619696736335754, 0.2954482138156891, 0.2950427234172821],\n",
        "                                                                    std= [0.21924977004528046, 0.21851609647274017, 0.2186581790447235]), \n",
        "\n",
        "                                           ]))\n",
        "\n",
        "\n",
        "normalize_test_dataset = CustomImageDataset(path_test,\"C:/Users/yanis/OneDrive/Documents/Projet Stat/Données/bdappv/google/img/\",\n",
        "                                            transform=transforms.Compose([\n",
        "                                               transforms.Resize(28),\n",
        "                                               transforms.ToTensor(),\n",
        "                                               transforms.Normalize(mean = [0.34992772340774536, 0.35760578513145447, 0.3080298900604248],\n",
        "                                                                    std= [0.2013908326625824, 0.18425437808036804, 0.1794954240322113]), \n",
        "                                           ]))\n",
        "train_dataloader_augmente = DataLoader(normalized_train_dataset, batch_size=23045, shuffle=True)\n",
        "test_dataloader_augmente = DataLoader(normalize_test_dataset, batch_size=5762, shuffle=True)"
      ]
    },
    {
      "cell_type": "code",
      "execution_count": 7,
      "id": "50bfc8af",
      "metadata": {},
      "outputs": [],
      "source": [
        "X_train, Y_train=next(iter(train_dataloader))\n",
        "X_test, Y_test=next(iter(test_dataloader))\n",
        "\n",
        "X_train_permute=X_train.permute(0, 2, 3,1)\n",
        "X_test_permute=X_test.permute(0, 2, 3,1)"
      ]
    },
    {
      "cell_type": "markdown",
      "id": "jBWM12pxcvQK",
      "metadata": {
        "id": "jBWM12pxcvQK"
      },
      "source": [
        "# Lancement du modèle\n",
        "\n",
        "Les cinq premières métriques représentent les performances de notre algorithme sur l'échantillon d'entrainement, les cinq dernières valeurs (celles précédées du préfixe val_) sont elles calculées sur l'échantillon de test. "
      ]
    },
    {
      "cell_type": "code",
      "execution_count": 8,
      "id": "6e839e45",
      "metadata": {},
      "outputs": [],
      "source": [
        "model_init = buildModel()"
      ]
    },
    {
      "cell_type": "code",
      "execution_count": 9,
      "id": "Gkds0SmvZtxN",
      "metadata": {
        "colab": {
          "base_uri": "https://localhost:8080/"
        },
        "id": "Gkds0SmvZtxN",
        "outputId": "72f37518-16e4-4f61-c8f9-eb3e9aa4d306"
      },
      "outputs": [
        {
          "name": "stdout",
          "output_type": "stream",
          "text": [
            "Epoch 1/5\n",
            " 30/721 [>.............................] - ETA: 4:55:36 - loss: 21.8206 - Accuracy: 0.5177 - recall_m: 0.4840 - precision_m: 0.3247 - f1_m: 0.3630"
          ]
        }
      ],
      "source": [
        "history=model_init.fit(x = X_train_permute.numpy(), y = Y_train.numpy(),\n",
        "\tvalidation_data=(X_test_permute.numpy(), Y_test.numpy()),\n",
        "\tbatch_size=32,\n",
        "\tepochs=5)"
      ]
    },
    {
      "cell_type": "code",
      "execution_count": null,
      "id": "3646dc59",
      "metadata": {},
      "outputs": [],
      "source": [
        "recall = history.history['recall_m']\n",
        "val_recall = history.history['val_recall_m']\n",
        "loss = history.history['loss']\n",
        "val_loss = history.history['val_loss']\n",
        "epochs = range(1, len(recall) + 1)\n",
        "\n",
        "plt.plot(epochs, recall, 'b', label=\"Recall sur l'échantillon d'apprentissage\")\n",
        "plt.plot(epochs, val_recall, 'b', label=\"Recall sur l'échantillon test\", color=\"red\")\n",
        "plt.title(\"Recall sur l'échantillon d'apprentissage et l'échantillon test\")\n",
        "plt.legend()\n",
        "plt.figure()\n",
        "plt.plot(epochs, loss, 'b', label=\"Loss sur l'échantillon d'apprentissage\")\n",
        "plt.plot(epochs, val_loss, 'b', label=\"Loss sur l'échantillon test\", color=\"red\")\n",
        "plt.title(\"Loss sur l'échantillon d'apprentissage et l'échantillon test\")\n",
        "plt.legend()\n",
        "plt.show()"
      ]
    },
    {
      "cell_type": "code",
      "execution_count": null,
      "id": "TC8-oY5DwVC5",
      "metadata": {
        "colab": {
          "base_uri": "https://localhost:8080/"
        },
        "id": "TC8-oY5DwVC5",
        "outputId": "f5d00ad6-a191-4d22-e500-1cc5fc68021f"
      },
      "outputs": [
        {
          "name": "stdout",
          "output_type": "stream",
          "text": [
            "Loss sur l'échantillon test: 1.064\n",
            "Accuracy sur l'échantillon test: 0.438\n",
            "Recall sur l'échantillon test: 0.706\n",
            "Precision sur l'échantillon test: 0.48\n",
            "F1-score sur l'échantillon test: 0.571\n"
          ]
        }
      ],
      "source": [
        "loss, accuracy, recall_m, precision_m, f1_m = model_init.evaluate(X_test_permute.numpy(), Y_test.numpy(), verbose=0)\n",
        "print(\"Loss sur l'échantillon test: {}\".format(np.round(loss,3)))\n",
        "print(\"Accuracy sur l'échantillon test: {}\".format(np.round(accuracy,3)))\n",
        "print(\"Recall sur l'échantillon test: {}\".format(np.round(recall_m,3)))\n",
        "print(\"Precision sur l'échantillon test: {}\".format(np.round(precision_m,3)))\n",
        "print(\"F1-score sur l'échantillon test: {}\".format(np.round(f1_m,3)))"
      ]
    },
    {
      "cell_type": "code",
      "execution_count": null,
      "id": "t7BtkwuiYbdE",
      "metadata": {
        "colab": {
          "base_uri": "https://localhost:8080/"
        },
        "id": "t7BtkwuiYbdE",
        "outputId": "a611c268-7d86-4111-c5e7-9d6a755d157d"
      },
      "outputs": [
        {
          "name": "stderr",
          "output_type": "stream",
          "text": [
            "WARNING:tensorflow:6 out of the last 7 calls to <function Model.make_predict_function.<locals>.predict_function at 0x7fed92ee0820> triggered tf.function retracing. Tracing is expensive and the excessive number of tracings could be due to (1) creating @tf.function repeatedly in a loop, (2) passing tensors with different shapes, (3) passing Python objects instead of tensors. For (1), please define your @tf.function outside of the loop. For (2), @tf.function has reduce_retracing=True option that can avoid unnecessary retracing. For (3), please refer to https://www.tensorflow.org/guide/function#controlling_retracing and https://www.tensorflow.org/api_docs/python/tf/function for  more details.\n"
          ]
        },
        {
          "name": "stdout",
          "output_type": "stream",
          "text": [
            "1/1 [==============================] - 38s 38s/step\n"
          ]
        }
      ],
      "source": [
        "prob_predict = model_init.predict(X_test_permute.numpy())\n",
        "y_pred = (np.squeeze(prob_predict) > 0.5).astype(\"int32\")"
      ]
    },
    {
      "cell_type": "code",
      "execution_count": null,
      "id": "7w_RiZwBYxkp",
      "metadata": {
        "colab": {
          "base_uri": "https://localhost:8080/"
        },
        "id": "7w_RiZwBYxkp",
        "outputId": "569796ae-9622-443a-8d4a-801332048e1c"
      },
      "outputs": [
        {
          "name": "stdout",
          "output_type": "stream",
          "text": [
            "Nombre d'images prédites avec panneaux: 25\n",
            "Nombre d'images prédites sans panneau: 7\n"
          ]
        }
      ],
      "source": [
        "unique, counts = np.unique(y_pred, return_counts=True)\n",
        "res=dict(zip(unique, counts))\n",
        "print(\"Nombre d'images prédites avec panneaux: {}\".format(res[1]))\n",
        "print(\"Nombre d'images prédites sans panneau: {}\".format(res[0]))"
      ]
    },
    {
      "cell_type": "code",
      "execution_count": null,
      "id": "KDV7xwf1Y2uE",
      "metadata": {
        "colab": {
          "base_uri": "https://localhost:8080/",
          "height": 279
        },
        "id": "KDV7xwf1Y2uE",
        "outputId": "581ed079-fba5-4445-9024-959229631cab"
      },
      "outputs": [
        {
          "data": {
            "image/png": "[encoded data removed]",
            "text/plain": [
              "<Figure size 432x288 with 2 Axes>"
            ]
          },
          "metadata": {
            "needs_background": "light"
          },
          "output_type": "display_data"
        }
      ],
      "source": [
        "\n",
        "r = confusion_matrix(Y_test, y_pred)\n",
        "labels = [\"Vrais négatifs\",\"Faux Positifs\",\"Faux négatifs\",\"Vrais positifs\"]\n",
        "categories = [\"0\", \"1\"]\n",
        "make_confusion_matrix(r, \n",
        "                      group_names=labels,\n",
        "                      categories=categories, \n",
        "                      )"
      ]
    }
  ],
  "metadata": {
    "accelerator": "GPU",
    "colab": {
      "provenance": []
    },
    "gpuClass": "standard",
    "kernelspec": {
      "display_name": "Python 3",
      "language": "python",
      "name": "python3"
    },
    "language_info": {
      "codemirror_mode": {
        "name": "ipython",
        "version": 3
      },
      "file_extension": ".py",
      "mimetype": "text/x-python",
      "name": "python",
      "nbconvert_exporter": "python",
      "pygments_lexer": "ipython3",
      "version": "3.9.13"
    }
  },
  "nbformat": 4,
  "nbformat_minor": 5
}
