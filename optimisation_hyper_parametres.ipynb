{
 "cells": [
  {
   "cell_type": "markdown",
   "metadata": {},
   "source": [
    "$\\textbf{Optimisation des hyper-paramètres d'un réseau de neurones}$"
   ]
  },
  {
   "attachments": {},
   "cell_type": "markdown",
   "metadata": {},
   "source": [
    "* Paramètre: interne au réseau, évolue lors de l'entrainement du modèle, i.e la backpropagation. Les poids et le biais sont les paramètres d'un réseau de neurones.\n",
    "\n",
    "* Hyper-paramètre: externe au processus d'entrainement, il en définit les propriétés. Il n'est pas modifié lors de l'entrainement. Le batch size, le nombre d'epochs et le learning rate sont des hyper-paramètres."
   ]
  },
  {
   "attachments": {},
   "cell_type": "markdown",
   "metadata": {},
   "source": [
    "L'article https://deeplylearning.fr/category/cours-theoriques-deep-learning/ fournit une méthodologie pour optimiser les hyper-paramètres."
   ]
  }
 ],
 "metadata": {
  "language_info": {
   "name": "python"
  },
  "orig_nbformat": 4
 },
 "nbformat": 4,
 "nbformat_minor": 2
}
