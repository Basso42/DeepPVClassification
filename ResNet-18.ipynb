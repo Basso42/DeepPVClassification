{
  "cells": [
    {
      "cell_type": "markdown",
      "source": [
        "# Préparation des données"
      ],
      "metadata": {
        "id": "dyycN7Y3nItV"
      },
      "id": "dyycN7Y3nItV"
    },
    {
      "cell_type": "markdown",
      "source": [
        "Montage google drive et décompression des données de bdappv.zip"
      ],
      "metadata": {
        "id": "s-FjgO3hm1Z9"
      },
      "id": "s-FjgO3hm1Z9"
    },
    {
      "cell_type": "code",
      "source": [
        "import sys\n",
        "from google.colab import drive\n",
        "drive.mount('/content/drive/', force_remount=True)\n",
        "#sys.path.insert(0,'/content/drive/My Drive/statapps-main/src/')\n",
        "!unzip /content/drive/MyDrive/bdappv/bdappv.zip > /dev/null"
      ],
      "metadata": {
        "id": "6m5MJtMnYHLD",
        "outputId": "cb0e8809-635a-42b4-ac81-5cb4b40a11a4",
        "colab": {
          "base_uri": "https://localhost:8080/"
        }
      },
      "id": "6m5MJtMnYHLD",
      "execution_count": 15,
      "outputs": [
        {
          "output_type": "stream",
          "name": "stdout",
          "text": [
            "Mounted at /content/drive/\n",
            "replace __MACOSX/._bdappv? [y]es, [n]o, [A]ll, [N]one, [r]ename: A\n",
            "[A]ll\n"
          ]
        }
      ]
    },
    {
      "cell_type": "markdown",
      "source": [
        "Importation du fichier dataloader pour pouvoir utiliser ses modules"
      ],
      "metadata": {
        "id": "dzG3HEtemNrj"
      },
      "id": "dzG3HEtemNrj"
    },
    {
      "cell_type": "code",
      "source": [
        "!cp /content/drive/MyDrive/statapps-main/src/dataloader.py /content"
      ],
      "metadata": {
        "id": "KDqq9URoPmcc"
      },
      "id": "KDqq9URoPmcc",
      "execution_count": null,
      "outputs": []
    },
    {
      "cell_type": "code",
      "execution_count": 16,
      "id": "802b66ca-ba33-4a4d-9545-8e49e1142b53",
      "metadata": {
        "id": "802b66ca-ba33-4a4d-9545-8e49e1142b53"
      },
      "outputs": [],
      "source": [
        "import dataloader as dt\n",
        "import torchvision.models as models"
      ]
    },
    {
      "cell_type": "code",
      "execution_count": 19,
      "id": "1aece920-7233-4d20-bbab-a8c9852a8c98",
      "metadata": {
        "id": "1aece920-7233-4d20-bbab-a8c9852a8c98"
      },
      "outputs": [],
      "source": [
        "label_attribution = dt.LabelAttribution(path_image_google='/content/bdappv/google/img', \n",
        "                                   path_mask_google='/content/bdappv/google/mask',\n",
        "                                   path_metadata='/content/bdappv/metadata.csv',\n",
        "                                   colonne_identifiant='identifiant',\n",
        "                                   path_export_train_test='/content/drive/MyDrive',\n",
        "                                   path_image_ign='/content/bdappv/ign/img',\n",
        "                                   path_mask_ign='/content/bdappv/ign/mask',\n",
        "                                   use_img_google=True,\n",
        "                                   use_img_ign=False\n",
        "                                    )"
      ]
    },
    {
      "cell_type": "code",
      "execution_count": 20,
      "id": "fda5351c-aa4d-44b6-8516-adfc0a2a95d8",
      "metadata": {
        "id": "fda5351c-aa4d-44b6-8516-adfc0a2a95d8"
      },
      "outputs": [],
      "source": [
        "label_attribution.run()"
      ]
    },
    {
      "cell_type": "code",
      "execution_count": null,
      "id": "72bb89b7-50e4-40f3-9fce-485d6ae8cc27",
      "metadata": {
        "id": "72bb89b7-50e4-40f3-9fce-485d6ae8cc27"
      },
      "outputs": [],
      "source": [
        "models.resnet18(pretrained=False, progress=True)"
      ]
    }
  ],
  "metadata": {
    "kernelspec": {
      "display_name": "Python 3",
      "language": "python",
      "name": "python3"
    },
    "language_info": {
      "codemirror_mode": {
        "name": "ipython",
        "version": 3
      },
      "file_extension": ".py",
      "mimetype": "text/x-python",
      "name": "python",
      "nbconvert_exporter": "python",
      "pygments_lexer": "ipython3",
      "version": "3.8.8"
    },
    "colab": {
      "provenance": []
    }
  },
  "nbformat": 4,
  "nbformat_minor": 5
}