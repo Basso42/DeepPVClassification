{
  "cells": [
    {
      "cell_type": "markdown",
      "source": [
        "# Préparation des données"
      ],
      "metadata": {
        "id": "dyycN7Y3nItV"
      },
      "id": "dyycN7Y3nItV"
    },
    {
      "cell_type": "markdown",
      "source": [
        "Montage google drive et décompression des données de bdappv.zip"
      ],
      "metadata": {
        "id": "s-FjgO3hm1Z9"
      },
      "id": "s-FjgO3hm1Z9"
    },
    {
      "cell_type": "code",
      "source": [
        "import sys\n",
        "from google.colab import drive\n",
        "drive.mount('/content/drive/', force_remount=True)\n",
        "!unzip /content/drive/MyDrive/bdappv/bdappv.zip > /dev/null"
      ],
      "metadata": {
        "id": "6m5MJtMnYHLD",
        "colab": {
          "base_uri": "https://localhost:8080/"
        },
        "outputId": "92fa8e93-f655-4bc2-a3ec-9059b9905cf9"
      },
      "id": "6m5MJtMnYHLD",
      "execution_count": 1,
      "outputs": [
        {
          "output_type": "stream",
          "name": "stdout",
          "text": [
            "Mounted at /content/drive/\n"
          ]
        }
      ]
    },
    {
      "cell_type": "markdown",
      "source": [
        "Importation du fichier dataloader pour pouvoir utiliser ses modules"
      ],
      "metadata": {
        "id": "dzG3HEtemNrj"
      },
      "id": "dzG3HEtemNrj"
    },
    {
      "cell_type": "code",
      "source": [
        "!cp /content/drive/MyDrive/statapps-main/src/dataloader.py /content"
      ],
      "metadata": {
        "id": "KDqq9URoPmcc"
      },
      "id": "KDqq9URoPmcc",
      "execution_count": 2,
      "outputs": []
    },
    {
      "cell_type": "code",
      "execution_count": 100,
      "id": "802b66ca-ba33-4a4d-9545-8e49e1142b53",
      "metadata": {
        "id": "802b66ca-ba33-4a4d-9545-8e49e1142b53"
      },
      "outputs": [],
      "source": [
        "import dataloader as dtld"
      ]
    },
    {
      "cell_type": "code",
      "source": [
        "import pandas as pd\n",
        "import os\n",
        "from sklearn.model_selection import train_test_split\n",
        "from torch.utils.data import Dataset\n",
        "from PIL import Image\n",
        "from torchvision.datasets import ImageFolder\n",
        "from torchvision.transforms import ToTensor\n",
        "\n",
        "import torch\n",
        "from skimage import io, transform\n",
        "import numpy as np\n",
        "import matplotlib.pyplot as plt\n",
        "from torch.utils.data import Dataset, DataLoader\n",
        "from torchvision import transforms, utils"
      ],
      "metadata": {
        "id": "c4R37Bj0pf1r"
      },
      "id": "c4R37Bj0pf1r",
      "execution_count": 101,
      "outputs": []
    },
    {
      "cell_type": "code",
      "execution_count": 102,
      "id": "1aece920-7233-4d20-bbab-a8c9852a8c98",
      "metadata": {
        "id": "1aece920-7233-4d20-bbab-a8c9852a8c98"
      },
      "outputs": [],
      "source": [
        "label_attribution = dtld.LabelAttribution(path_image_google='/content/bdappv/google/img', \n",
        "                                   path_mask_google='/content/bdappv/google/mask',\n",
        "                                   path_metadata='/content/bdappv/metadata.csv',\n",
        "                                   colonne_identifiant='identifiant',\n",
        "                                   path_export_train_test='/content/drive/MyDrive',\n",
        "                                   path_image_ign='/content/bdappv/ign/img',\n",
        "                                   path_mask_ign='/content/bdappv/ign/mask',\n",
        "                                   use_img_google=True,\n",
        "                                   use_img_ign=False\n",
        "                                    )"
      ]
    },
    {
      "cell_type": "code",
      "execution_count": 103,
      "id": "fda5351c-aa4d-44b6-8516-adfc0a2a95d8",
      "metadata": {
        "id": "fda5351c-aa4d-44b6-8516-adfc0a2a95d8"
      },
      "outputs": [],
      "source": [
        "label_attribution.run()"
      ]
    },
    {
      "cell_type": "code",
      "source": [
        "path_train='/content/drive/MyDrive/train_data.csv'\n",
        "path_test='/content/drive/MyDrive/test_data.csv'\n",
        "\n",
        "transformed_train_dataset  = dtld.CustomImageDataset(path_train,'/content/bdappv/google/img', transform=transforms.Compose([\n",
        "                                               transforms.Resize(224),\n",
        "                                               transforms.ToTensor()\n",
        "                                           ]))\n",
        "transformed_test_dataset = dtld.CustomImageDataset(path_test,\"/content/bdappv/google/img\",\n",
        "                                                transform=transforms.Compose([\n",
        "                                               transforms.Resize(224),\n",
        "                                               transforms.ToTensor(),\n",
        "                                           ]))"
      ],
      "metadata": {
        "id": "J4AOt07MoDTP"
      },
      "id": "J4AOt07MoDTP",
      "execution_count": 104,
      "outputs": []
    },
    {
      "cell_type": "code",
      "source": [
        "print(\"Nombre d'images dans le train: {}\".format(transformed_train_dataset.__len__()))\n",
        "print(\"Nombre d'images dans le test: {}\".format(transformed_test_dataset.__len__()))"
      ],
      "metadata": {
        "id": "41Sfxd_uq7LT",
        "outputId": "b7e77542-084d-483f-9786-4816c6866524",
        "colab": {
          "base_uri": "https://localhost:8080/"
        }
      },
      "id": "41Sfxd_uq7LT",
      "execution_count": 105,
      "outputs": [
        {
          "output_type": "stream",
          "name": "stdout",
          "text": [
            "Nombre d'images dans le train: 23045\n",
            "Nombre d'images dans le test: 5762\n"
          ]
        }
      ]
    },
    {
      "cell_type": "code",
      "source": [
        "train_dataloader = DataLoader(transformed_train_dataset, batch_size=32, shuffle=True)\n",
        "test_dataloader = DataLoader(transformed_test_dataset, batch_size=32, shuffle=True)"
      ],
      "metadata": {
        "id": "tQyPLEJRsPUa"
      },
      "id": "tQyPLEJRsPUa",
      "execution_count": 106,
      "outputs": []
    },
    {
      "cell_type": "markdown",
      "source": [
        "## Normalisation des données par batch"
      ],
      "metadata": {
        "id": "Evto_tU2WhrY"
      },
      "id": "Evto_tU2WhrY"
    },
    {
      "cell_type": "code",
      "source": [
        "mean_train, std_train = dtld.batch_mean_and_sd(train_dataloader)\n",
        "print(\"Moyenne par channel: {}\".format(mean_train.tolist()))\n",
        "print(\"Ecart-type par channel: {}\".format(std_train.tolist()))\n",
        "\n",
        "\n",
        "mean_test, std_test = dtld.batch_mean_and_sd(test_dataloader)\n",
        "print(\"Moyenne par channel: {}\".format(mean_test.tolist()))\n",
        "print(\"Ecart-type par channel: {}\".format(std_test.tolist()))"
      ],
      "metadata": {
        "colab": {
          "base_uri": "https://localhost:8080/"
        },
        "id": "tUmWHYM9YAGX",
        "outputId": "81bc7c27-4999-420d-b8bb-f00e366f8477"
      },
      "id": "tUmWHYM9YAGX",
      "execution_count": 107,
      "outputs": [
        {
          "output_type": "stream",
          "name": "stdout",
          "text": [
            "Moyenne par channel: [0.34927934408187866, 0.35664576292037964, 0.30715689063072205]\n",
            "Ecart-type par channel: [0.20040550827980042, 0.18340478837490082, 0.17829549312591553]\n",
            "Moyenne par channel: [0.3495914936065674, 0.3573340177536011, 0.3077770173549652]\n",
            "Ecart-type par channel: [0.20135071873664856, 0.18425364792346954, 0.17945720255374908]\n"
          ]
        }
      ]
    },
    {
      "cell_type": "code",
      "source": [
        "normalized_train_dataset  = dtld.CustomImageDataset(path_train,'/content/bdappv/google/img', transform=transforms.Compose([\n",
        "                                               transforms.Resize(224),\n",
        "                                               transforms.ToTensor(),\n",
        "                                               transforms.Normalize(mean = mean_train.tolist(),\n",
        "                                                                    std= std_train.tolist()),\n",
        "                                               transforms.RandomHorizontalFlip(),\n",
        "                                           ]))\n",
        "\n",
        "normalized_test_dataset  = dtld.CustomImageDataset(path_test,\"/content/bdappv/google/img\", transform=transforms.Compose([\n",
        "                                               transforms.Resize(224),\n",
        "                                               transforms.ToTensor(),\n",
        "                                               transforms.Normalize(mean = mean_test.tolist(),\n",
        "                                                                    std= std_test.tolist()),\n",
        "                                               transforms.RandomHorizontalFlip(),\n",
        "                                           ]))\n",
        "\n",
        "train_dataloader = DataLoader(normalized_train_dataset, batch_size=32, shuffle=False)\n",
        "test_dataloader = DataLoader(normalized_test_dataset, batch_size=32, shuffle=False)"
      ],
      "metadata": {
        "id": "zZ0PNnaFZkjN"
      },
      "id": "zZ0PNnaFZkjN",
      "execution_count": 109,
      "outputs": []
    },
    {
      "cell_type": "markdown",
      "source": [
        " # Implémentation ResNet18"
      ],
      "metadata": {
        "id": "yGfakcfMsW1P"
      },
      "id": "yGfakcfMsW1P"
    },
    {
      "cell_type": "code",
      "execution_count": 110,
      "id": "72bb89b7-50e4-40f3-9fce-485d6ae8cc27",
      "metadata": {
        "id": "72bb89b7-50e4-40f3-9fce-485d6ae8cc27"
      },
      "outputs": [],
      "source": [
        "from keras import layers\n",
        "from keras.layers import Dense\n",
        "from keras.layers import Conv2D\n",
        "from keras.layers import AveragePooling2D\n",
        "from keras.layers import Flatten\n",
        "from keras.layers import MaxPool2D\n",
        "from keras.layers import Input\n",
        "from keras.layers import BatchNormalization\n",
        "from keras.layers import Activation\n",
        "from keras.models import Model\n",
        "from keras.regularizers import l2"
      ]
    },
    {
      "cell_type": "code",
      "source": [
        "from keras import backend as K\n",
        "\n",
        "def recall_m(y_true, y_pred):\n",
        "    true_positives = K.sum(K.round(K.clip(y_true * y_pred, 0, 1)))\n",
        "    possible_positives = K.sum(K.round(K.clip(y_true, 0, 1)))\n",
        "    recall = true_positives / (possible_positives + K.epsilon())\n",
        "    return recall\n",
        "\n",
        "def precision_m(y_true, y_pred):\n",
        "    true_positives = K.sum(K.round(K.clip(y_true * y_pred, 0, 1)))\n",
        "    predicted_positives = K.sum(K.round(K.clip(y_pred, 0, 1)))\n",
        "    precision = true_positives / (predicted_positives + K.epsilon())\n",
        "    return precision\n",
        "\n",
        "def f1_m(y_true, y_pred):\n",
        "    precision = precision_m(y_true, y_pred)\n",
        "    recall = recall_m(y_true, y_pred)\n",
        "    return 2*((precision*recall)/(precision+recall+K.epsilon()))"
      ],
      "metadata": {
        "id": "I_xeQlwUwW60"
      },
      "id": "I_xeQlwUwW60",
      "execution_count": 111,
      "outputs": []
    },
    {
      "cell_type": "code",
      "source": [
        "def conv2d_bn(x, filters, kernel_size, weight_decay=.0, strides=(1, 1)):\n",
        "    layer = Conv2D(filters=filters,\n",
        "                   kernel_size=kernel_size,\n",
        "                   strides=strides,\n",
        "                   padding='same',\n",
        "                   use_bias=False,\n",
        "                   kernel_regularizer=l2(weight_decay)\n",
        "                   )(x)\n",
        "    layer = BatchNormalization()(layer)\n",
        "    return layer\n",
        "\n",
        "\n",
        "def conv2d_bn_relu(x, filters, kernel_size, weight_decay=.0, strides=(1, 1)):\n",
        "    layer = conv2d_bn(x, filters, kernel_size, weight_decay, strides)\n",
        "    layer = Activation('tanh')(layer)\n",
        "    return layer\n",
        "\n",
        "\n",
        "def ResidualBlock(x, filters, kernel_size, weight_decay, downsample=True):\n",
        "    if downsample:\n",
        "        # residual_x = conv2d_bn_relu(x, filters, kernel_size=1, strides=2)\n",
        "        residual_x = conv2d_bn(x, filters, kernel_size=1, strides=2)\n",
        "        stride = 2\n",
        "    else:\n",
        "        residual_x = x\n",
        "        stride = 1\n",
        "    residual = conv2d_bn_relu(x,\n",
        "                              filters=filters,\n",
        "                              kernel_size=kernel_size,\n",
        "                              weight_decay=weight_decay,\n",
        "                              strides=stride,\n",
        "                              )\n",
        "    residual = conv2d_bn(residual,\n",
        "                         filters=filters,\n",
        "                         kernel_size=kernel_size,\n",
        "                         weight_decay=weight_decay,\n",
        "                         strides=1,\n",
        "                         )\n",
        "    out = layers.add([residual_x, residual])\n",
        "    out = Activation('relu')(out)\n",
        "    return out\n",
        "\n",
        "\n",
        "def ResNet18(classes, input_shape, weight_decay=1e-4):\n",
        "    input = Input(shape=input_shape)\n",
        "    x = input\n",
        "    # x = conv2d_bn_relu(x, filters=64, kernel_size=(7, 7), weight_decay=weight_decay, strides=(2, 2))\n",
        "    # x = MaxPool2D(pool_size=(3, 3), strides=(2, 2),  padding='same')(x)\n",
        "    x = conv2d_bn_relu(x, filters=64, kernel_size=(3, 3), weight_decay=weight_decay, strides=(1, 1))\n",
        "\n",
        "    # # conv 2\n",
        "    x = ResidualBlock(x, filters=64, kernel_size=(3, 3), weight_decay=weight_decay, downsample=False)\n",
        "    x = ResidualBlock(x, filters=64, kernel_size=(3, 3), weight_decay=weight_decay, downsample=False)\n",
        "    # # conv 3\n",
        "    x = ResidualBlock(x, filters=128, kernel_size=(3, 3), weight_decay=weight_decay, downsample=True)\n",
        "    x = ResidualBlock(x, filters=128, kernel_size=(3, 3), weight_decay=weight_decay, downsample=False)\n",
        "    # # conv 4\n",
        "    x = ResidualBlock(x, filters=256, kernel_size=(3, 3), weight_decay=weight_decay, downsample=True)\n",
        "    x = ResidualBlock(x, filters=256, kernel_size=(3, 3), weight_decay=weight_decay, downsample=False)\n",
        "    # # conv 5\n",
        "    x = ResidualBlock(x, filters=512, kernel_size=(3, 3), weight_decay=weight_decay, downsample=True)\n",
        "    x = ResidualBlock(x, filters=512, kernel_size=(3, 3), weight_decay=weight_decay, downsample=False)\n",
        "    x = AveragePooling2D(pool_size=(4, 4), padding='valid')(x)\n",
        "    x = Flatten()(x)\n",
        "    x = Dense(classes, activation='sigmoid')(x)\n",
        "    model = Model(input, x, name='ResNet18')\n",
        "    return model"
      ],
      "metadata": {
        "id": "uo6qEEXgvBAs"
      },
      "id": "uo6qEEXgvBAs",
      "execution_count": 112,
      "outputs": []
    },
    {
      "cell_type": "code",
      "source": [
        "from keras import losses\n",
        "from keras import optimizers"
      ],
      "metadata": {
        "id": "ZDxFwHUjLTOp"
      },
      "id": "ZDxFwHUjLTOp",
      "execution_count": 113,
      "outputs": []
    },
    {
      "cell_type": "code",
      "source": [
        "model = ResNet18(1, (224,224,3))\n",
        "model.build(input_shape = (None,224 ,224 ,3))\n",
        "from keras.optimizers import SGD\n",
        "opt = SGD(learning_rate=1*10**-4, momentum = 0,decay = 0) \n",
        "model.compile(optimizer = opt,loss='binary_crossentropy', metrics=[\"Accuracy\", recall_m, precision_m, f1_m]) \n",
        "model.summary()"
      ],
      "metadata": {
        "id": "JtrdFze9zkMG",
        "colab": {
          "base_uri": "https://localhost:8080/"
        },
        "outputId": "1214b2c3-46e9-4b14-e571-fea62809229b"
      },
      "id": "JtrdFze9zkMG",
      "execution_count": 114,
      "outputs": [
        {
          "output_type": "stream",
          "name": "stdout",
          "text": [
            "Model: \"ResNet18\"\n",
            "__________________________________________________________________________________________________\n",
            " Layer (type)                   Output Shape         Param #     Connected to                     \n",
            "==================================================================================================\n",
            " input_10 (InputLayer)          [(None, 224, 224, 3  0           []                               \n",
            "                                )]                                                                \n",
            "                                                                                                  \n",
            " conv2d_180 (Conv2D)            (None, 224, 224, 64  1728        ['input_10[0][0]']               \n",
            "                                )                                                                 \n",
            "                                                                                                  \n",
            " batch_normalization_180 (Batch  (None, 224, 224, 64  256        ['conv2d_180[0][0]']             \n",
            " Normalization)                 )                                                                 \n",
            "                                                                                                  \n",
            " activation_153 (Activation)    (None, 224, 224, 64  0           ['batch_normalization_180[0][0]']\n",
            "                                )                                                                 \n",
            "                                                                                                  \n",
            " conv2d_181 (Conv2D)            (None, 224, 224, 64  36864       ['activation_153[0][0]']         \n",
            "                                )                                                                 \n",
            "                                                                                                  \n",
            " batch_normalization_181 (Batch  (None, 224, 224, 64  256        ['conv2d_181[0][0]']             \n",
            " Normalization)                 )                                                                 \n",
            "                                                                                                  \n",
            " activation_154 (Activation)    (None, 224, 224, 64  0           ['batch_normalization_181[0][0]']\n",
            "                                )                                                                 \n",
            "                                                                                                  \n",
            " conv2d_182 (Conv2D)            (None, 224, 224, 64  36864       ['activation_154[0][0]']         \n",
            "                                )                                                                 \n",
            "                                                                                                  \n",
            " batch_normalization_182 (Batch  (None, 224, 224, 64  256        ['conv2d_182[0][0]']             \n",
            " Normalization)                 )                                                                 \n",
            "                                                                                                  \n",
            " add_72 (Add)                   (None, 224, 224, 64  0           ['activation_153[0][0]',         \n",
            "                                )                                 'batch_normalization_182[0][0]']\n",
            "                                                                                                  \n",
            " activation_155 (Activation)    (None, 224, 224, 64  0           ['add_72[0][0]']                 \n",
            "                                )                                                                 \n",
            "                                                                                                  \n",
            " conv2d_183 (Conv2D)            (None, 224, 224, 64  36864       ['activation_155[0][0]']         \n",
            "                                )                                                                 \n",
            "                                                                                                  \n",
            " batch_normalization_183 (Batch  (None, 224, 224, 64  256        ['conv2d_183[0][0]']             \n",
            " Normalization)                 )                                                                 \n",
            "                                                                                                  \n",
            " activation_156 (Activation)    (None, 224, 224, 64  0           ['batch_normalization_183[0][0]']\n",
            "                                )                                                                 \n",
            "                                                                                                  \n",
            " conv2d_184 (Conv2D)            (None, 224, 224, 64  36864       ['activation_156[0][0]']         \n",
            "                                )                                                                 \n",
            "                                                                                                  \n",
            " batch_normalization_184 (Batch  (None, 224, 224, 64  256        ['conv2d_184[0][0]']             \n",
            " Normalization)                 )                                                                 \n",
            "                                                                                                  \n",
            " add_73 (Add)                   (None, 224, 224, 64  0           ['activation_155[0][0]',         \n",
            "                                )                                 'batch_normalization_184[0][0]']\n",
            "                                                                                                  \n",
            " activation_157 (Activation)    (None, 224, 224, 64  0           ['add_73[0][0]']                 \n",
            "                                )                                                                 \n",
            "                                                                                                  \n",
            " conv2d_186 (Conv2D)            (None, 112, 112, 12  73728       ['activation_157[0][0]']         \n",
            "                                8)                                                                \n",
            "                                                                                                  \n",
            " batch_normalization_186 (Batch  (None, 112, 112, 12  512        ['conv2d_186[0][0]']             \n",
            " Normalization)                 8)                                                                \n",
            "                                                                                                  \n",
            " activation_158 (Activation)    (None, 112, 112, 12  0           ['batch_normalization_186[0][0]']\n",
            "                                8)                                                                \n",
            "                                                                                                  \n",
            " conv2d_185 (Conv2D)            (None, 112, 112, 12  8192        ['activation_157[0][0]']         \n",
            "                                8)                                                                \n",
            "                                                                                                  \n",
            " conv2d_187 (Conv2D)            (None, 112, 112, 12  147456      ['activation_158[0][0]']         \n",
            "                                8)                                                                \n",
            "                                                                                                  \n",
            " batch_normalization_185 (Batch  (None, 112, 112, 12  512        ['conv2d_185[0][0]']             \n",
            " Normalization)                 8)                                                                \n",
            "                                                                                                  \n",
            " batch_normalization_187 (Batch  (None, 112, 112, 12  512        ['conv2d_187[0][0]']             \n",
            " Normalization)                 8)                                                                \n",
            "                                                                                                  \n",
            " add_74 (Add)                   (None, 112, 112, 12  0           ['batch_normalization_185[0][0]',\n",
            "                                8)                                'batch_normalization_187[0][0]']\n",
            "                                                                                                  \n",
            " activation_159 (Activation)    (None, 112, 112, 12  0           ['add_74[0][0]']                 \n",
            "                                8)                                                                \n",
            "                                                                                                  \n",
            " conv2d_188 (Conv2D)            (None, 112, 112, 12  147456      ['activation_159[0][0]']         \n",
            "                                8)                                                                \n",
            "                                                                                                  \n",
            " batch_normalization_188 (Batch  (None, 112, 112, 12  512        ['conv2d_188[0][0]']             \n",
            " Normalization)                 8)                                                                \n",
            "                                                                                                  \n",
            " activation_160 (Activation)    (None, 112, 112, 12  0           ['batch_normalization_188[0][0]']\n",
            "                                8)                                                                \n",
            "                                                                                                  \n",
            " conv2d_189 (Conv2D)            (None, 112, 112, 12  147456      ['activation_160[0][0]']         \n",
            "                                8)                                                                \n",
            "                                                                                                  \n",
            " batch_normalization_189 (Batch  (None, 112, 112, 12  512        ['conv2d_189[0][0]']             \n",
            " Normalization)                 8)                                                                \n",
            "                                                                                                  \n",
            " add_75 (Add)                   (None, 112, 112, 12  0           ['activation_159[0][0]',         \n",
            "                                8)                                'batch_normalization_189[0][0]']\n",
            "                                                                                                  \n",
            " activation_161 (Activation)    (None, 112, 112, 12  0           ['add_75[0][0]']                 \n",
            "                                8)                                                                \n",
            "                                                                                                  \n",
            " conv2d_191 (Conv2D)            (None, 56, 56, 256)  294912      ['activation_161[0][0]']         \n",
            "                                                                                                  \n",
            " batch_normalization_191 (Batch  (None, 56, 56, 256)  1024       ['conv2d_191[0][0]']             \n",
            " Normalization)                                                                                   \n",
            "                                                                                                  \n",
            " activation_162 (Activation)    (None, 56, 56, 256)  0           ['batch_normalization_191[0][0]']\n",
            "                                                                                                  \n",
            " conv2d_190 (Conv2D)            (None, 56, 56, 256)  32768       ['activation_161[0][0]']         \n",
            "                                                                                                  \n",
            " conv2d_192 (Conv2D)            (None, 56, 56, 256)  589824      ['activation_162[0][0]']         \n",
            "                                                                                                  \n",
            " batch_normalization_190 (Batch  (None, 56, 56, 256)  1024       ['conv2d_190[0][0]']             \n",
            " Normalization)                                                                                   \n",
            "                                                                                                  \n",
            " batch_normalization_192 (Batch  (None, 56, 56, 256)  1024       ['conv2d_192[0][0]']             \n",
            " Normalization)                                                                                   \n",
            "                                                                                                  \n",
            " add_76 (Add)                   (None, 56, 56, 256)  0           ['batch_normalization_190[0][0]',\n",
            "                                                                  'batch_normalization_192[0][0]']\n",
            "                                                                                                  \n",
            " activation_163 (Activation)    (None, 56, 56, 256)  0           ['add_76[0][0]']                 \n",
            "                                                                                                  \n",
            " conv2d_193 (Conv2D)            (None, 56, 56, 256)  589824      ['activation_163[0][0]']         \n",
            "                                                                                                  \n",
            " batch_normalization_193 (Batch  (None, 56, 56, 256)  1024       ['conv2d_193[0][0]']             \n",
            " Normalization)                                                                                   \n",
            "                                                                                                  \n",
            " activation_164 (Activation)    (None, 56, 56, 256)  0           ['batch_normalization_193[0][0]']\n",
            "                                                                                                  \n",
            " conv2d_194 (Conv2D)            (None, 56, 56, 256)  589824      ['activation_164[0][0]']         \n",
            "                                                                                                  \n",
            " batch_normalization_194 (Batch  (None, 56, 56, 256)  1024       ['conv2d_194[0][0]']             \n",
            " Normalization)                                                                                   \n",
            "                                                                                                  \n",
            " add_77 (Add)                   (None, 56, 56, 256)  0           ['activation_163[0][0]',         \n",
            "                                                                  'batch_normalization_194[0][0]']\n",
            "                                                                                                  \n",
            " activation_165 (Activation)    (None, 56, 56, 256)  0           ['add_77[0][0]']                 \n",
            "                                                                                                  \n",
            " conv2d_196 (Conv2D)            (None, 28, 28, 512)  1179648     ['activation_165[0][0]']         \n",
            "                                                                                                  \n",
            " batch_normalization_196 (Batch  (None, 28, 28, 512)  2048       ['conv2d_196[0][0]']             \n",
            " Normalization)                                                                                   \n",
            "                                                                                                  \n",
            " activation_166 (Activation)    (None, 28, 28, 512)  0           ['batch_normalization_196[0][0]']\n",
            "                                                                                                  \n",
            " conv2d_195 (Conv2D)            (None, 28, 28, 512)  131072      ['activation_165[0][0]']         \n",
            "                                                                                                  \n",
            " conv2d_197 (Conv2D)            (None, 28, 28, 512)  2359296     ['activation_166[0][0]']         \n",
            "                                                                                                  \n",
            " batch_normalization_195 (Batch  (None, 28, 28, 512)  2048       ['conv2d_195[0][0]']             \n",
            " Normalization)                                                                                   \n",
            "                                                                                                  \n",
            " batch_normalization_197 (Batch  (None, 28, 28, 512)  2048       ['conv2d_197[0][0]']             \n",
            " Normalization)                                                                                   \n",
            "                                                                                                  \n",
            " add_78 (Add)                   (None, 28, 28, 512)  0           ['batch_normalization_195[0][0]',\n",
            "                                                                  'batch_normalization_197[0][0]']\n",
            "                                                                                                  \n",
            " activation_167 (Activation)    (None, 28, 28, 512)  0           ['add_78[0][0]']                 \n",
            "                                                                                                  \n",
            " conv2d_198 (Conv2D)            (None, 28, 28, 512)  2359296     ['activation_167[0][0]']         \n",
            "                                                                                                  \n",
            " batch_normalization_198 (Batch  (None, 28, 28, 512)  2048       ['conv2d_198[0][0]']             \n",
            " Normalization)                                                                                   \n",
            "                                                                                                  \n",
            " activation_168 (Activation)    (None, 28, 28, 512)  0           ['batch_normalization_198[0][0]']\n",
            "                                                                                                  \n",
            " conv2d_199 (Conv2D)            (None, 28, 28, 512)  2359296     ['activation_168[0][0]']         \n",
            "                                                                                                  \n",
            " batch_normalization_199 (Batch  (None, 28, 28, 512)  2048       ['conv2d_199[0][0]']             \n",
            " Normalization)                                                                                   \n",
            "                                                                                                  \n",
            " add_79 (Add)                   (None, 28, 28, 512)  0           ['activation_167[0][0]',         \n",
            "                                                                  'batch_normalization_199[0][0]']\n",
            "                                                                                                  \n",
            " activation_169 (Activation)    (None, 28, 28, 512)  0           ['add_79[0][0]']                 \n",
            "                                                                                                  \n",
            " average_pooling2d_9 (AveragePo  (None, 7, 7, 512)   0           ['activation_169[0][0]']         \n",
            " oling2D)                                                                                         \n",
            "                                                                                                  \n",
            " flatten_9 (Flatten)            (None, 25088)        0           ['average_pooling2d_9[0][0]']    \n",
            "                                                                                                  \n",
            " dense_9 (Dense)                (None, 1)            25089       ['flatten_9[0][0]']              \n",
            "                                                                                                  \n",
            "==================================================================================================\n",
            "Total params: 11,203,521\n",
            "Trainable params: 11,193,921\n",
            "Non-trainable params: 9,600\n",
            "__________________________________________________________________________________________________\n"
          ]
        }
      ]
    },
    {
      "cell_type": "code",
      "source": [
        "X_train, Y_train=next(iter(train_dataloader))\n",
        "X_test, Y_test=next(iter(test_dataloader))"
      ],
      "metadata": {
        "id": "FbfFv3lupyUU"
      },
      "id": "FbfFv3lupyUU",
      "execution_count": 115,
      "outputs": []
    },
    {
      "cell_type": "code",
      "source": [
        "X_train_permute=X_train.permute(0, 2, 3,1)\n",
        "X_test_permute=X_test.permute(0, 2, 3,1)"
      ],
      "metadata": {
        "id": "6AJudF_coekW"
      },
      "id": "6AJudF_coekW",
      "execution_count": 116,
      "outputs": []
    },
    {
      "cell_type": "markdown",
      "source": [
        "# Lancement du modèle\n",
        "\n",
        "Les cinq premières métriques représentent les performances de notre algorithme sur l'échantillon d'entrainement, les cinq dernières valeurs (celles précédées du préfixe val_) sont elles calculées sur l'échantillon de test. "
      ],
      "metadata": {
        "id": "jBWM12pxcvQK"
      },
      "id": "jBWM12pxcvQK"
    },
    {
      "cell_type": "code",
      "source": [
        "model.fit(x = X_train_permute.numpy(), y = Y_train.numpy(),\n",
        "\tvalidation_data=(X_test_permute.numpy(), Y_test.numpy()),\n",
        "\tbatch_size=32,\n",
        "\tepochs=5)"
      ],
      "metadata": {
        "id": "Gkds0SmvZtxN",
        "outputId": "72f37518-16e4-4f61-c8f9-eb3e9aa4d306",
        "colab": {
          "base_uri": "https://localhost:8080/"
        }
      },
      "id": "Gkds0SmvZtxN",
      "execution_count": 117,
      "outputs": [
        {
          "output_type": "stream",
          "name": "stdout",
          "text": [
            "Epoch 1/5\n",
            "1/1 [==============================] - 270s 270s/step - loss: 1.1313 - Accuracy: 0.4375 - recall_m: 0.4706 - precision_m: 0.4706 - f1_m: 0.4706 - val_loss: 1.0626 - val_Accuracy: 0.5000 - val_recall_m: 0.8235 - val_precision_m: 0.5185 - val_f1_m: 0.6364\n",
            "Epoch 2/5\n",
            "1/1 [==============================] - 192s 192s/step - loss: 1.1129 - Accuracy: 0.4688 - recall_m: 0.5294 - precision_m: 0.5000 - f1_m: 0.5143 - val_loss: 1.0626 - val_Accuracy: 0.5000 - val_recall_m: 0.8235 - val_precision_m: 0.5185 - val_f1_m: 0.6364\n",
            "Epoch 3/5\n",
            "1/1 [==============================] - 187s 187s/step - loss: 1.0952 - Accuracy: 0.4688 - recall_m: 0.5294 - precision_m: 0.5000 - f1_m: 0.5143 - val_loss: 1.0628 - val_Accuracy: 0.4688 - val_recall_m: 0.7647 - val_precision_m: 0.5000 - val_f1_m: 0.6047\n",
            "Epoch 4/5\n",
            "1/1 [==============================] - 198s 198s/step - loss: 1.0784 - Accuracy: 0.5312 - recall_m: 0.5882 - precision_m: 0.5556 - f1_m: 0.5714 - val_loss: 1.0634 - val_Accuracy: 0.4375 - val_recall_m: 0.7059 - val_precision_m: 0.4800 - val_f1_m: 0.5714\n",
            "Epoch 5/5\n",
            "1/1 [==============================] - 196s 196s/step - loss: 1.0624 - Accuracy: 0.5312 - recall_m: 0.5882 - precision_m: 0.5556 - f1_m: 0.5714 - val_loss: 1.0641 - val_Accuracy: 0.4375 - val_recall_m: 0.7059 - val_precision_m: 0.4800 - val_f1_m: 0.5714\n"
          ]
        },
        {
          "output_type": "execute_result",
          "data": {
            "text/plain": [
              "<keras.callbacks.History at 0x7fed929b9550>"
            ]
          },
          "metadata": {},
          "execution_count": 117
        }
      ]
    },
    {
      "cell_type": "code",
      "source": [
        "loss, accuracy, recall_m, precision_m, f1_m = model.evaluate(X_test_permute.numpy(), Y_test.numpy(), verbose=0)\n",
        "print(\"Loss sur l'échantillon test: {}\".format(np.round(loss,3)))\n",
        "print(\"Accuracy sur l'échantillon test: {}\".format(np.round(accuracy,3)))\n",
        "print(\"Recall sur l'échantillon test: {}\".format(np.round(recall_m,3)))\n",
        "print(\"Precision sur l'échantillon test: {}\".format(np.round(precision_m,3)))\n",
        "print(\"F1-score sur l'échantillon test: {}\".format(np.round(f1_m,3)))"
      ],
      "metadata": {
        "colab": {
          "base_uri": "https://localhost:8080/"
        },
        "id": "TC8-oY5DwVC5",
        "outputId": "f5d00ad6-a191-4d22-e500-1cc5fc68021f"
      },
      "id": "TC8-oY5DwVC5",
      "execution_count": 118,
      "outputs": [
        {
          "output_type": "stream",
          "name": "stdout",
          "text": [
            "Loss sur l'échantillon test: 1.064\n",
            "Accuracy sur l'échantillon test: 0.438\n",
            "Recall sur l'échantillon test: 0.706\n",
            "Precision sur l'échantillon test: 0.48\n",
            "F1-score sur l'échantillon test: 0.571\n"
          ]
        }
      ]
    },
    {
      "cell_type": "code",
      "source": [
        "prob_predict = model.predict(X_test_permute.numpy())\n",
        "y_pred = (np.squeeze(prob_predict) > 0.5).astype(\"int32\")"
      ],
      "metadata": {
        "id": "t7BtkwuiYbdE",
        "outputId": "a611c268-7d86-4111-c5e7-9d6a755d157d",
        "colab": {
          "base_uri": "https://localhost:8080/"
        }
      },
      "id": "t7BtkwuiYbdE",
      "execution_count": 119,
      "outputs": [
        {
          "output_type": "stream",
          "name": "stderr",
          "text": [
            "WARNING:tensorflow:6 out of the last 7 calls to <function Model.make_predict_function.<locals>.predict_function at 0x7fed92ee0820> triggered tf.function retracing. Tracing is expensive and the excessive number of tracings could be due to (1) creating @tf.function repeatedly in a loop, (2) passing tensors with different shapes, (3) passing Python objects instead of tensors. For (1), please define your @tf.function outside of the loop. For (2), @tf.function has reduce_retracing=True option that can avoid unnecessary retracing. For (3), please refer to https://www.tensorflow.org/guide/function#controlling_retracing and https://www.tensorflow.org/api_docs/python/tf/function for  more details.\n"
          ]
        },
        {
          "output_type": "stream",
          "name": "stdout",
          "text": [
            "1/1 [==============================] - 38s 38s/step\n"
          ]
        }
      ]
    },
    {
      "cell_type": "code",
      "source": [
        "unique, counts = np.unique(y_pred, return_counts=True)\n",
        "res=dict(zip(unique, counts))\n",
        "print(\"Nombre d'images prédites avec panneaux: {}\".format(res[1]))\n",
        "print(\"Nombre d'images prédites sans panneau: {}\".format(res[0]))"
      ],
      "metadata": {
        "id": "7w_RiZwBYxkp",
        "outputId": "569796ae-9622-443a-8d4a-801332048e1c",
        "colab": {
          "base_uri": "https://localhost:8080/"
        }
      },
      "id": "7w_RiZwBYxkp",
      "execution_count": 120,
      "outputs": [
        {
          "output_type": "stream",
          "name": "stdout",
          "text": [
            "Nombre d'images prédites avec panneaux: 25\n",
            "Nombre d'images prédites sans panneau: 7\n"
          ]
        }
      ]
    },
    {
      "cell_type": "code",
      "source": [
        "from sklearn.metrics import confusion_matrix, ConfusionMatrixDisplay\n",
        "\n",
        "r = confusion_matrix(Y_test, y_pred)\n",
        "r = np.flip(r)\n",
        "\n",
        "cm_display = ConfusionMatrixDisplay(confusion_matrix = r, display_labels = [False, True])\n",
        "cm_display.plot()\n",
        "plt.show()"
      ],
      "metadata": {
        "id": "KDV7xwf1Y2uE",
        "outputId": "581ed079-fba5-4445-9024-959229631cab",
        "colab": {
          "base_uri": "https://localhost:8080/",
          "height": 279
        }
      },
      "id": "KDV7xwf1Y2uE",
      "execution_count": 121,
      "outputs": [
        {
          "output_type": "display_data",
          "data": {
            "text/plain": [
              "<Figure size 432x288 with 2 Axes>"
            ],
            "image/png": "[encoded data removed]"
          },
          "metadata": {
            "needs_background": "light"
          }
        }
      ]
    }
  ],
  "metadata": {
    "kernelspec": {
      "display_name": "Python 3",
      "language": "python",
      "name": "python3"
    },
    "language_info": {
      "codemirror_mode": {
        "name": "ipython",
        "version": 3
      },
      "file_extension": ".py",
      "mimetype": "text/x-python",
      "name": "python",
      "nbconvert_exporter": "python",
      "pygments_lexer": "ipython3",
      "version": "3.8.8"
    },
    "colab": {
      "provenance": []
    }
  },
  "nbformat": 4,
  "nbformat_minor": 5
}