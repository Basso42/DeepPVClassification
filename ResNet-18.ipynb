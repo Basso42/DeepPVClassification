{
  "cells": [
    {
      "cell_type": "markdown",
      "source": [
        "# Préparation des données"
      ],
      "metadata": {
        "id": "dyycN7Y3nItV"
      },
      "id": "dyycN7Y3nItV"
    },
    {
      "cell_type": "markdown",
      "source": [
        "Montage google drive et décompression des données de bdappv.zip"
      ],
      "metadata": {
        "id": "s-FjgO3hm1Z9"
      },
      "id": "s-FjgO3hm1Z9"
    },
    {
      "cell_type": "code",
      "source": [
        "import sys\n",
        "from google.colab import drive\n",
        "drive.mount('/content/drive/', force_remount=True)\n",
        "#sys.path.insert(0,'/content/drive/My Drive/statapps-main/src/')\n",
        "!unzip /content/drive/MyDrive/bdappv/bdappv.zip > /dev/null"
      ],
      "metadata": {
        "id": "6m5MJtMnYHLD",
        "colab": {
          "base_uri": "https://localhost:8080/"
        },
        "outputId": "0b77ba0c-649f-4969-8e4b-24bcb69c8a38"
      },
      "id": "6m5MJtMnYHLD",
      "execution_count": 1,
      "outputs": [
        {
          "output_type": "stream",
          "name": "stdout",
          "text": [
            "Mounted at /content/drive/\n"
          ]
        }
      ]
    },
    {
      "cell_type": "markdown",
      "source": [
        "Importation du fichier dataloader pour pouvoir utiliser ses modules"
      ],
      "metadata": {
        "id": "dzG3HEtemNrj"
      },
      "id": "dzG3HEtemNrj"
    },
    {
      "cell_type": "code",
      "source": [
        "!cp /content/drive/MyDrive/statapps-main/src/dataloader.py /content"
      ],
      "metadata": {
        "id": "KDqq9URoPmcc"
      },
      "id": "KDqq9URoPmcc",
      "execution_count": 2,
      "outputs": []
    },
    {
      "cell_type": "code",
      "execution_count": 26,
      "id": "802b66ca-ba33-4a4d-9545-8e49e1142b53",
      "metadata": {
        "id": "802b66ca-ba33-4a4d-9545-8e49e1142b53"
      },
      "outputs": [],
      "source": [
        "import dataloader as dtld"
      ]
    },
    {
      "cell_type": "code",
      "source": [
        "import pandas as pd\n",
        "import os\n",
        "from sklearn.model_selection import train_test_split\n",
        "from torch.utils.data import Dataset\n",
        "from PIL import Image\n",
        "from torchvision.datasets import ImageFolder\n",
        "from torchvision.transforms import ToTensor\n",
        "\n",
        "import torch\n",
        "from skimage import io, transform\n",
        "import numpy as np\n",
        "import matplotlib.pyplot as plt\n",
        "from torch.utils.data import Dataset, DataLoader\n",
        "from torchvision import transforms, utils"
      ],
      "metadata": {
        "id": "c4R37Bj0pf1r"
      },
      "id": "c4R37Bj0pf1r",
      "execution_count": 27,
      "outputs": []
    },
    {
      "cell_type": "code",
      "execution_count": 28,
      "id": "1aece920-7233-4d20-bbab-a8c9852a8c98",
      "metadata": {
        "id": "1aece920-7233-4d20-bbab-a8c9852a8c98"
      },
      "outputs": [],
      "source": [
        "label_attribution = dtld.LabelAttribution(path_image_google='/content/bdappv/google/img', \n",
        "                                   path_mask_google='/content/bdappv/google/mask',\n",
        "                                   path_metadata='/content/bdappv/metadata.csv',\n",
        "                                   colonne_identifiant='identifiant',\n",
        "                                   path_export_train_test='/content/drive/MyDrive',\n",
        "                                   path_image_ign='/content/bdappv/ign/img',\n",
        "                                   path_mask_ign='/content/bdappv/ign/mask',\n",
        "                                   use_img_google=True,\n",
        "                                   use_img_ign=False\n",
        "                                    )"
      ]
    },
    {
      "cell_type": "code",
      "execution_count": 29,
      "id": "fda5351c-aa4d-44b6-8516-adfc0a2a95d8",
      "metadata": {
        "id": "fda5351c-aa4d-44b6-8516-adfc0a2a95d8"
      },
      "outputs": [],
      "source": [
        "label_attribution.run()"
      ]
    },
    {
      "cell_type": "code",
      "source": [
        "path_train='/content/drive/MyDrive/train_data.csv'\n",
        "path_test='/content/drive/MyDrive/test_data.csv'\n",
        "\n",
        "transformed_train_dataset  = dtld.CustomImageDataset(path_train,'/content/bdappv/google/img', transform=transforms.Compose([\n",
        "                                               transforms.Resize(224),\n",
        "                                               transforms.ToTensor()\n",
        "                                           ]))\n",
        "transformed_test_dataset = dtld.CustomImageDataset(path_test,\"/content/bdappv/google/img\",\n",
        "                                                transform=transforms.Compose([\n",
        "                                               transforms.Resize(224),\n",
        "                                               transforms.ToTensor(),\n",
        "                                           ]))"
      ],
      "metadata": {
        "id": "J4AOt07MoDTP"
      },
      "id": "J4AOt07MoDTP",
      "execution_count": 30,
      "outputs": []
    },
    {
      "cell_type": "code",
      "source": [
        "print(\"Nombre d'images dans le train: {}\".format(transformed_train_dataset.__len__()))\n",
        "print(\"Nombre d'images dans le test: {}\".format(transformed_test_dataset.__len__()))"
      ],
      "metadata": {
        "id": "41Sfxd_uq7LT",
        "outputId": "dc4ba37a-0a7c-44f1-b714-b1c2185f015f",
        "colab": {
          "base_uri": "https://localhost:8080/"
        }
      },
      "id": "41Sfxd_uq7LT",
      "execution_count": 31,
      "outputs": [
        {
          "output_type": "stream",
          "name": "stdout",
          "text": [
            "Nombre d'images dans le train: 23045\n",
            "Nombre d'images dans le test: 5762\n"
          ]
        }
      ]
    },
    {
      "cell_type": "code",
      "source": [
        "train_dataloader = DataLoader(transformed_train_dataset, batch_size=16, shuffle=True)\n",
        "test_dataloader = DataLoader(transformed_test_dataset, batch_size=16, shuffle=True)"
      ],
      "metadata": {
        "id": "tQyPLEJRsPUa"
      },
      "id": "tQyPLEJRsPUa",
      "execution_count": 32,
      "outputs": []
    },
    {
      "cell_type": "markdown",
      "source": [
        "## Normalisation des données par batch"
      ],
      "metadata": {
        "id": "Evto_tU2WhrY"
      },
      "id": "Evto_tU2WhrY"
    },
    {
      "cell_type": "code",
      "source": [
        "mean_train, std_train = dtld.batch_mean_and_sd(train_dataloader)\n",
        "print(\"Moyenne par channel: {}\".format(mean_train.tolist()))\n",
        "print(\"Ecart-type par channel: {}\".format(std_train.tolist()))\n",
        "\n",
        "\n",
        "mean_test, std_test = dtld.batch_mean_and_sd(test_dataloader)\n",
        "print(\"Moyenne par channel: {}\".format(mean_test.tolist()))\n",
        "print(\"Ecart-type par channel: {}\".format(std_test.tolist()))"
      ],
      "metadata": {
        "colab": {
          "base_uri": "https://localhost:8080/"
        },
        "id": "tUmWHYM9YAGX",
        "outputId": "8b17f1aa-a660-4f59-ac98-2d84ac7209b9"
      },
      "id": "tUmWHYM9YAGX",
      "execution_count": 33,
      "outputs": [
        {
          "output_type": "stream",
          "name": "stdout",
          "text": [
            "Moyenne par channel: [0.3492797613143921, 0.3566456139087677, 0.30715712904930115]\n",
            "Ecart-type par channel: [0.20040494203567505, 0.18340453505516052, 0.1782950758934021]\n",
            "Moyenne par channel: [0.349591463804245, 0.357334166765213, 0.30777692794799805]\n",
            "Ecart-type par channel: [0.20135053992271423, 0.18425364792346954, 0.17945747077465057]\n"
          ]
        }
      ]
    },
    {
      "cell_type": "code",
      "source": [
        "normalized_train_dataset  = dtld.CustomImageDataset(path_train,'/content/bdappv/google/img', transform=transforms.Compose([\n",
        "                                               transforms.Resize(224),\n",
        "                                               transforms.ToTensor(),\n",
        "                                               transforms.Normalize(mean = mean_train.tolist(),\n",
        "                                                                    std= std_train.tolist()),\n",
        "                                               transforms.RandomHorizontalFlip(),\n",
        "                                           ]))\n",
        "\n",
        "normalized_test_dataset  = dtld.CustomImageDataset(path_test,\"/content/bdappv/google/img\", transform=transforms.Compose([\n",
        "                                               transforms.Resize(224),\n",
        "                                               transforms.ToTensor(),\n",
        "                                               transforms.Normalize(mean = mean_test.tolist(),\n",
        "                                                                    std= std_test.tolist()),\n",
        "                                               transforms.RandomHorizontalFlip(),\n",
        "                                           ]))\n",
        "\n",
        "train_dataloader = DataLoader(normalized_train_dataset, batch_size=16, shuffle=False)\n",
        "test_dataloader = DataLoader(normalized_test_dataset, batch_size=16, shuffle=False)"
      ],
      "metadata": {
        "id": "zZ0PNnaFZkjN"
      },
      "id": "zZ0PNnaFZkjN",
      "execution_count": 34,
      "outputs": []
    },
    {
      "cell_type": "markdown",
      "source": [
        " # Implémentation ResNet18"
      ],
      "metadata": {
        "id": "yGfakcfMsW1P"
      },
      "id": "yGfakcfMsW1P"
    },
    {
      "cell_type": "code",
      "execution_count": 35,
      "id": "72bb89b7-50e4-40f3-9fce-485d6ae8cc27",
      "metadata": {
        "id": "72bb89b7-50e4-40f3-9fce-485d6ae8cc27"
      },
      "outputs": [],
      "source": [
        "from keras import layers\n",
        "from keras.layers import Dense\n",
        "from keras.layers import Conv2D\n",
        "from keras.layers import AveragePooling2D\n",
        "from keras.layers import Flatten\n",
        "from keras.layers import MaxPool2D\n",
        "from keras.layers import Input\n",
        "from keras.layers import BatchNormalization\n",
        "from keras.layers import Activation\n",
        "from keras.models import Model\n",
        "from keras.regularizers import l2"
      ]
    },
    {
      "cell_type": "code",
      "source": [
        "from keras import backend as K\n",
        "\n",
        "def recall_m(y_true, y_pred):\n",
        "    true_positives = K.sum(K.round(K.clip(y_true * y_pred, 0, 1)))\n",
        "    possible_positives = K.sum(K.round(K.clip(y_true, 0, 1)))\n",
        "    recall = true_positives / (possible_positives + K.epsilon())\n",
        "    return recall\n",
        "\n",
        "def precision_m(y_true, y_pred):\n",
        "    true_positives = K.sum(K.round(K.clip(y_true * y_pred, 0, 1)))\n",
        "    predicted_positives = K.sum(K.round(K.clip(y_pred, 0, 1)))\n",
        "    precision = true_positives / (predicted_positives + K.epsilon())\n",
        "    return precision\n",
        "\n",
        "def f1_m(y_true, y_pred):\n",
        "    precision = precision_m(y_true, y_pred)\n",
        "    recall = recall_m(y_true, y_pred)\n",
        "    return 2*((precision*recall)/(precision+recall+K.epsilon()))"
      ],
      "metadata": {
        "id": "I_xeQlwUwW60"
      },
      "id": "I_xeQlwUwW60",
      "execution_count": 36,
      "outputs": []
    },
    {
      "cell_type": "code",
      "source": [
        "def conv2d_bn(x, filters, kernel_size, weight_decay=.0, strides=(1, 1)):\n",
        "    layer = Conv2D(filters=filters,\n",
        "                   kernel_size=kernel_size,\n",
        "                   strides=strides,\n",
        "                   padding='same',\n",
        "                   use_bias=False,\n",
        "                   kernel_regularizer=l2(weight_decay)\n",
        "                   )(x)\n",
        "    layer = BatchNormalization()(layer)\n",
        "    return layer\n",
        "\n",
        "\n",
        "def conv2d_bn_relu(x, filters, kernel_size, weight_decay=.0, strides=(1, 1)):\n",
        "    layer = conv2d_bn(x, filters, kernel_size, weight_decay, strides)\n",
        "    layer = Activation('relu')(layer)\n",
        "    return layer\n",
        "\n",
        "\n",
        "def ResidualBlock(x, filters, kernel_size, weight_decay, downsample=True):\n",
        "    if downsample:\n",
        "        # residual_x = conv2d_bn_relu(x, filters, kernel_size=1, strides=2)\n",
        "        residual_x = conv2d_bn(x, filters, kernel_size=1, strides=2)\n",
        "        stride = 2\n",
        "    else:\n",
        "        residual_x = x\n",
        "        stride = 1\n",
        "    residual = conv2d_bn_relu(x,\n",
        "                              filters=filters,\n",
        "                              kernel_size=kernel_size,\n",
        "                              weight_decay=weight_decay,\n",
        "                              strides=stride,\n",
        "                              )\n",
        "    residual = conv2d_bn(residual,\n",
        "                         filters=filters,\n",
        "                         kernel_size=kernel_size,\n",
        "                         weight_decay=weight_decay,\n",
        "                         strides=1,\n",
        "                         )\n",
        "    out = layers.add([residual_x, residual])\n",
        "    out = Activation('relu')(out)\n",
        "    return out\n",
        "\n",
        "\n",
        "def ResNet18(classes, input_shape, weight_decay=1e-4):\n",
        "    input = Input(shape=input_shape)\n",
        "    x = input\n",
        "    # x = conv2d_bn_relu(x, filters=64, kernel_size=(7, 7), weight_decay=weight_decay, strides=(2, 2))\n",
        "    # x = MaxPool2D(pool_size=(3, 3), strides=(2, 2),  padding='same')(x)\n",
        "    x = conv2d_bn_relu(x, filters=64, kernel_size=(3, 3), weight_decay=weight_decay, strides=(1, 1))\n",
        "\n",
        "    # # conv 2\n",
        "    x = ResidualBlock(x, filters=64, kernel_size=(3, 3), weight_decay=weight_decay, downsample=False)\n",
        "    x = ResidualBlock(x, filters=64, kernel_size=(3, 3), weight_decay=weight_decay, downsample=False)\n",
        "    # # conv 3\n",
        "    x = ResidualBlock(x, filters=128, kernel_size=(3, 3), weight_decay=weight_decay, downsample=True)\n",
        "    x = ResidualBlock(x, filters=128, kernel_size=(3, 3), weight_decay=weight_decay, downsample=False)\n",
        "    # # conv 4\n",
        "    x = ResidualBlock(x, filters=256, kernel_size=(3, 3), weight_decay=weight_decay, downsample=True)\n",
        "    x = ResidualBlock(x, filters=256, kernel_size=(3, 3), weight_decay=weight_decay, downsample=False)\n",
        "    # # conv 5\n",
        "    x = ResidualBlock(x, filters=512, kernel_size=(3, 3), weight_decay=weight_decay, downsample=True)\n",
        "    x = ResidualBlock(x, filters=512, kernel_size=(3, 3), weight_decay=weight_decay, downsample=False)\n",
        "    x = AveragePooling2D(pool_size=(4, 4), padding='valid')(x)\n",
        "    x = Flatten()(x)\n",
        "    x = Dense(classes, activation='softmax')(x)\n",
        "    model = Model(input, x, name='ResNet18')\n",
        "    return model"
      ],
      "metadata": {
        "id": "uo6qEEXgvBAs"
      },
      "id": "uo6qEEXgvBAs",
      "execution_count": 37,
      "outputs": []
    },
    {
      "cell_type": "code",
      "source": [
        "from keras import losses\n",
        "from keras import optimizers"
      ],
      "metadata": {
        "id": "ZDxFwHUjLTOp"
      },
      "id": "ZDxFwHUjLTOp",
      "execution_count": 42,
      "outputs": []
    },
    {
      "cell_type": "code",
      "source": [
        "model = ResNet18(2, (224,224,3))\n",
        "model.build(input_shape = (None,224 ,224 ,3))\n",
        "from keras.optimizers import SGD\n",
        "#opt = SGD(learning_rate=1*10**-4,momentum=0.9,decay = 1e-04) #parameters suggested by He [1]\n",
        "model.compile(optimizer = 'sgd',loss='binary_crossentropy', metrics=[\"Accuracy\",recall_m, precision_m, f1_m]) \n",
        "model.summary()"
      ],
      "metadata": {
        "id": "JtrdFze9zkMG",
        "colab": {
          "base_uri": "https://localhost:8080/"
        },
        "outputId": "2f47290b-5af2-4900-b6cb-faf580c626e4"
      },
      "id": "JtrdFze9zkMG",
      "execution_count": 17,
      "outputs": [
        {
          "output_type": "stream",
          "name": "stdout",
          "text": [
            "Model: \"ResNet18\"\n",
            "__________________________________________________________________________________________________\n",
            " Layer (type)                   Output Shape         Param #     Connected to                     \n",
            "==================================================================================================\n",
            " input_2 (InputLayer)           [(None, 224, 224, 3  0           []                               \n",
            "                                )]                                                                \n",
            "                                                                                                  \n",
            " conv2d_20 (Conv2D)             (None, 224, 224, 64  1728        ['input_2[0][0]']                \n",
            "                                )                                                                 \n",
            "                                                                                                  \n",
            " batch_normalization_20 (BatchN  (None, 224, 224, 64  256        ['conv2d_20[0][0]']              \n",
            " ormalization)                  )                                                                 \n",
            "                                                                                                  \n",
            " activation_17 (Activation)     (None, 224, 224, 64  0           ['batch_normalization_20[0][0]'] \n",
            "                                )                                                                 \n",
            "                                                                                                  \n",
            " conv2d_21 (Conv2D)             (None, 224, 224, 64  36864       ['activation_17[0][0]']          \n",
            "                                )                                                                 \n",
            "                                                                                                  \n",
            " batch_normalization_21 (BatchN  (None, 224, 224, 64  256        ['conv2d_21[0][0]']              \n",
            " ormalization)                  )                                                                 \n",
            "                                                                                                  \n",
            " activation_18 (Activation)     (None, 224, 224, 64  0           ['batch_normalization_21[0][0]'] \n",
            "                                )                                                                 \n",
            "                                                                                                  \n",
            " conv2d_22 (Conv2D)             (None, 224, 224, 64  36864       ['activation_18[0][0]']          \n",
            "                                )                                                                 \n",
            "                                                                                                  \n",
            " batch_normalization_22 (BatchN  (None, 224, 224, 64  256        ['conv2d_22[0][0]']              \n",
            " ormalization)                  )                                                                 \n",
            "                                                                                                  \n",
            " add_8 (Add)                    (None, 224, 224, 64  0           ['activation_17[0][0]',          \n",
            "                                )                                 'batch_normalization_22[0][0]'] \n",
            "                                                                                                  \n",
            " activation_19 (Activation)     (None, 224, 224, 64  0           ['add_8[0][0]']                  \n",
            "                                )                                                                 \n",
            "                                                                                                  \n",
            " conv2d_23 (Conv2D)             (None, 224, 224, 64  36864       ['activation_19[0][0]']          \n",
            "                                )                                                                 \n",
            "                                                                                                  \n",
            " batch_normalization_23 (BatchN  (None, 224, 224, 64  256        ['conv2d_23[0][0]']              \n",
            " ormalization)                  )                                                                 \n",
            "                                                                                                  \n",
            " activation_20 (Activation)     (None, 224, 224, 64  0           ['batch_normalization_23[0][0]'] \n",
            "                                )                                                                 \n",
            "                                                                                                  \n",
            " conv2d_24 (Conv2D)             (None, 224, 224, 64  36864       ['activation_20[0][0]']          \n",
            "                                )                                                                 \n",
            "                                                                                                  \n",
            " batch_normalization_24 (BatchN  (None, 224, 224, 64  256        ['conv2d_24[0][0]']              \n",
            " ormalization)                  )                                                                 \n",
            "                                                                                                  \n",
            " add_9 (Add)                    (None, 224, 224, 64  0           ['activation_19[0][0]',          \n",
            "                                )                                 'batch_normalization_24[0][0]'] \n",
            "                                                                                                  \n",
            " activation_21 (Activation)     (None, 224, 224, 64  0           ['add_9[0][0]']                  \n",
            "                                )                                                                 \n",
            "                                                                                                  \n",
            " conv2d_26 (Conv2D)             (None, 112, 112, 12  73728       ['activation_21[0][0]']          \n",
            "                                8)                                                                \n",
            "                                                                                                  \n",
            " batch_normalization_26 (BatchN  (None, 112, 112, 12  512        ['conv2d_26[0][0]']              \n",
            " ormalization)                  8)                                                                \n",
            "                                                                                                  \n",
            " activation_22 (Activation)     (None, 112, 112, 12  0           ['batch_normalization_26[0][0]'] \n",
            "                                8)                                                                \n",
            "                                                                                                  \n",
            " conv2d_25 (Conv2D)             (None, 112, 112, 12  8192        ['activation_21[0][0]']          \n",
            "                                8)                                                                \n",
            "                                                                                                  \n",
            " conv2d_27 (Conv2D)             (None, 112, 112, 12  147456      ['activation_22[0][0]']          \n",
            "                                8)                                                                \n",
            "                                                                                                  \n",
            " batch_normalization_25 (BatchN  (None, 112, 112, 12  512        ['conv2d_25[0][0]']              \n",
            " ormalization)                  8)                                                                \n",
            "                                                                                                  \n",
            " batch_normalization_27 (BatchN  (None, 112, 112, 12  512        ['conv2d_27[0][0]']              \n",
            " ormalization)                  8)                                                                \n",
            "                                                                                                  \n",
            " add_10 (Add)                   (None, 112, 112, 12  0           ['batch_normalization_25[0][0]', \n",
            "                                8)                                'batch_normalization_27[0][0]'] \n",
            "                                                                                                  \n",
            " activation_23 (Activation)     (None, 112, 112, 12  0           ['add_10[0][0]']                 \n",
            "                                8)                                                                \n",
            "                                                                                                  \n",
            " conv2d_28 (Conv2D)             (None, 112, 112, 12  147456      ['activation_23[0][0]']          \n",
            "                                8)                                                                \n",
            "                                                                                                  \n",
            " batch_normalization_28 (BatchN  (None, 112, 112, 12  512        ['conv2d_28[0][0]']              \n",
            " ormalization)                  8)                                                                \n",
            "                                                                                                  \n",
            " activation_24 (Activation)     (None, 112, 112, 12  0           ['batch_normalization_28[0][0]'] \n",
            "                                8)                                                                \n",
            "                                                                                                  \n",
            " conv2d_29 (Conv2D)             (None, 112, 112, 12  147456      ['activation_24[0][0]']          \n",
            "                                8)                                                                \n",
            "                                                                                                  \n",
            " batch_normalization_29 (BatchN  (None, 112, 112, 12  512        ['conv2d_29[0][0]']              \n",
            " ormalization)                  8)                                                                \n",
            "                                                                                                  \n",
            " add_11 (Add)                   (None, 112, 112, 12  0           ['activation_23[0][0]',          \n",
            "                                8)                                'batch_normalization_29[0][0]'] \n",
            "                                                                                                  \n",
            " activation_25 (Activation)     (None, 112, 112, 12  0           ['add_11[0][0]']                 \n",
            "                                8)                                                                \n",
            "                                                                                                  \n",
            " conv2d_31 (Conv2D)             (None, 56, 56, 256)  294912      ['activation_25[0][0]']          \n",
            "                                                                                                  \n",
            " batch_normalization_31 (BatchN  (None, 56, 56, 256)  1024       ['conv2d_31[0][0]']              \n",
            " ormalization)                                                                                    \n",
            "                                                                                                  \n",
            " activation_26 (Activation)     (None, 56, 56, 256)  0           ['batch_normalization_31[0][0]'] \n",
            "                                                                                                  \n",
            " conv2d_30 (Conv2D)             (None, 56, 56, 256)  32768       ['activation_25[0][0]']          \n",
            "                                                                                                  \n",
            " conv2d_32 (Conv2D)             (None, 56, 56, 256)  589824      ['activation_26[0][0]']          \n",
            "                                                                                                  \n",
            " batch_normalization_30 (BatchN  (None, 56, 56, 256)  1024       ['conv2d_30[0][0]']              \n",
            " ormalization)                                                                                    \n",
            "                                                                                                  \n",
            " batch_normalization_32 (BatchN  (None, 56, 56, 256)  1024       ['conv2d_32[0][0]']              \n",
            " ormalization)                                                                                    \n",
            "                                                                                                  \n",
            " add_12 (Add)                   (None, 56, 56, 256)  0           ['batch_normalization_30[0][0]', \n",
            "                                                                  'batch_normalization_32[0][0]'] \n",
            "                                                                                                  \n",
            " activation_27 (Activation)     (None, 56, 56, 256)  0           ['add_12[0][0]']                 \n",
            "                                                                                                  \n",
            " conv2d_33 (Conv2D)             (None, 56, 56, 256)  589824      ['activation_27[0][0]']          \n",
            "                                                                                                  \n",
            " batch_normalization_33 (BatchN  (None, 56, 56, 256)  1024       ['conv2d_33[0][0]']              \n",
            " ormalization)                                                                                    \n",
            "                                                                                                  \n",
            " activation_28 (Activation)     (None, 56, 56, 256)  0           ['batch_normalization_33[0][0]'] \n",
            "                                                                                                  \n",
            " conv2d_34 (Conv2D)             (None, 56, 56, 256)  589824      ['activation_28[0][0]']          \n",
            "                                                                                                  \n",
            " batch_normalization_34 (BatchN  (None, 56, 56, 256)  1024       ['conv2d_34[0][0]']              \n",
            " ormalization)                                                                                    \n",
            "                                                                                                  \n",
            " add_13 (Add)                   (None, 56, 56, 256)  0           ['activation_27[0][0]',          \n",
            "                                                                  'batch_normalization_34[0][0]'] \n",
            "                                                                                                  \n",
            " activation_29 (Activation)     (None, 56, 56, 256)  0           ['add_13[0][0]']                 \n",
            "                                                                                                  \n",
            " conv2d_36 (Conv2D)             (None, 28, 28, 512)  1179648     ['activation_29[0][0]']          \n",
            "                                                                                                  \n",
            " batch_normalization_36 (BatchN  (None, 28, 28, 512)  2048       ['conv2d_36[0][0]']              \n",
            " ormalization)                                                                                    \n",
            "                                                                                                  \n",
            " activation_30 (Activation)     (None, 28, 28, 512)  0           ['batch_normalization_36[0][0]'] \n",
            "                                                                                                  \n",
            " conv2d_35 (Conv2D)             (None, 28, 28, 512)  131072      ['activation_29[0][0]']          \n",
            "                                                                                                  \n",
            " conv2d_37 (Conv2D)             (None, 28, 28, 512)  2359296     ['activation_30[0][0]']          \n",
            "                                                                                                  \n",
            " batch_normalization_35 (BatchN  (None, 28, 28, 512)  2048       ['conv2d_35[0][0]']              \n",
            " ormalization)                                                                                    \n",
            "                                                                                                  \n",
            " batch_normalization_37 (BatchN  (None, 28, 28, 512)  2048       ['conv2d_37[0][0]']              \n",
            " ormalization)                                                                                    \n",
            "                                                                                                  \n",
            " add_14 (Add)                   (None, 28, 28, 512)  0           ['batch_normalization_35[0][0]', \n",
            "                                                                  'batch_normalization_37[0][0]'] \n",
            "                                                                                                  \n",
            " activation_31 (Activation)     (None, 28, 28, 512)  0           ['add_14[0][0]']                 \n",
            "                                                                                                  \n",
            " conv2d_38 (Conv2D)             (None, 28, 28, 512)  2359296     ['activation_31[0][0]']          \n",
            "                                                                                                  \n",
            " batch_normalization_38 (BatchN  (None, 28, 28, 512)  2048       ['conv2d_38[0][0]']              \n",
            " ormalization)                                                                                    \n",
            "                                                                                                  \n",
            " activation_32 (Activation)     (None, 28, 28, 512)  0           ['batch_normalization_38[0][0]'] \n",
            "                                                                                                  \n",
            " conv2d_39 (Conv2D)             (None, 28, 28, 512)  2359296     ['activation_32[0][0]']          \n",
            "                                                                                                  \n",
            " batch_normalization_39 (BatchN  (None, 28, 28, 512)  2048       ['conv2d_39[0][0]']              \n",
            " ormalization)                                                                                    \n",
            "                                                                                                  \n",
            " add_15 (Add)                   (None, 28, 28, 512)  0           ['activation_31[0][0]',          \n",
            "                                                                  'batch_normalization_39[0][0]'] \n",
            "                                                                                                  \n",
            " activation_33 (Activation)     (None, 28, 28, 512)  0           ['add_15[0][0]']                 \n",
            "                                                                                                  \n",
            " average_pooling2d_1 (AveragePo  (None, 7, 7, 512)   0           ['activation_33[0][0]']          \n",
            " oling2D)                                                                                         \n",
            "                                                                                                  \n",
            " flatten_1 (Flatten)            (None, 25088)        0           ['average_pooling2d_1[0][0]']    \n",
            "                                                                                                  \n",
            " dense_1 (Dense)                (None, 2)            50178       ['flatten_1[0][0]']              \n",
            "                                                                                                  \n",
            "==================================================================================================\n",
            "Total params: 11,228,610\n",
            "Trainable params: 11,219,010\n",
            "Non-trainable params: 9,600\n",
            "__________________________________________________________________________________________________\n"
          ]
        }
      ]
    },
    {
      "cell_type": "code",
      "source": [
        "weight_decay = 1e-4\n",
        "lr = 1e-4\n",
        "resnet18 = ResNet18(input_shape=(224, 224, 3), classes= 2, weight_decay=weight_decay)\n",
        "opt = optimizers.SGD(lr=lr, momentum=0.9, nesterov=False)\n",
        "resnet18.compile(optimizer=opt,\n",
        "                 loss=losses.binary_crossentropy,\n",
        "                 metrics=['accuracy'])\n",
        "resnet18.summary()"
      ],
      "metadata": {
        "id": "BzTlsVcXK4o5",
        "outputId": "a9191e04-38d1-47ef-e639-6c82250192fa",
        "colab": {
          "base_uri": "https://localhost:8080/"
        }
      },
      "id": "BzTlsVcXK4o5",
      "execution_count": 74,
      "outputs": [
        {
          "output_type": "stream",
          "name": "stdout",
          "text": [
            "Model: \"ResNet18\"\n",
            "__________________________________________________________________________________________________\n",
            " Layer (type)                   Output Shape         Param #     Connected to                     \n",
            "==================================================================================================\n",
            " input_12 (InputLayer)          [(None, 224, 224, 3  0           []                               \n",
            "                                )]                                                                \n",
            "                                                                                                  \n",
            " conv2d_220 (Conv2D)            (None, 224, 224, 64  1728        ['input_12[0][0]']               \n",
            "                                )                                                                 \n",
            "                                                                                                  \n",
            " batch_normalization_220 (Batch  (None, 224, 224, 64  256        ['conv2d_220[0][0]']             \n",
            " Normalization)                 )                                                                 \n",
            "                                                                                                  \n",
            " activation_187 (Activation)    (None, 224, 224, 64  0           ['batch_normalization_220[0][0]']\n",
            "                                )                                                                 \n",
            "                                                                                                  \n",
            " conv2d_221 (Conv2D)            (None, 224, 224, 64  36864       ['activation_187[0][0]']         \n",
            "                                )                                                                 \n",
            "                                                                                                  \n",
            " batch_normalization_221 (Batch  (None, 224, 224, 64  256        ['conv2d_221[0][0]']             \n",
            " Normalization)                 )                                                                 \n",
            "                                                                                                  \n",
            " activation_188 (Activation)    (None, 224, 224, 64  0           ['batch_normalization_221[0][0]']\n",
            "                                )                                                                 \n",
            "                                                                                                  \n",
            " conv2d_222 (Conv2D)            (None, 224, 224, 64  36864       ['activation_188[0][0]']         \n",
            "                                )                                                                 \n",
            "                                                                                                  \n",
            " batch_normalization_222 (Batch  (None, 224, 224, 64  256        ['conv2d_222[0][0]']             \n",
            " Normalization)                 )                                                                 \n",
            "                                                                                                  \n",
            " add_88 (Add)                   (None, 224, 224, 64  0           ['activation_187[0][0]',         \n",
            "                                )                                 'batch_normalization_222[0][0]']\n",
            "                                                                                                  \n",
            " activation_189 (Activation)    (None, 224, 224, 64  0           ['add_88[0][0]']                 \n",
            "                                )                                                                 \n",
            "                                                                                                  \n",
            " conv2d_223 (Conv2D)            (None, 224, 224, 64  36864       ['activation_189[0][0]']         \n",
            "                                )                                                                 \n",
            "                                                                                                  \n",
            " batch_normalization_223 (Batch  (None, 224, 224, 64  256        ['conv2d_223[0][0]']             \n",
            " Normalization)                 )                                                                 \n",
            "                                                                                                  \n",
            " activation_190 (Activation)    (None, 224, 224, 64  0           ['batch_normalization_223[0][0]']\n",
            "                                )                                                                 \n",
            "                                                                                                  \n",
            " conv2d_224 (Conv2D)            (None, 224, 224, 64  36864       ['activation_190[0][0]']         \n",
            "                                )                                                                 \n",
            "                                                                                                  \n",
            " batch_normalization_224 (Batch  (None, 224, 224, 64  256        ['conv2d_224[0][0]']             \n",
            " Normalization)                 )                                                                 \n",
            "                                                                                                  \n",
            " add_89 (Add)                   (None, 224, 224, 64  0           ['activation_189[0][0]',         \n",
            "                                )                                 'batch_normalization_224[0][0]']\n",
            "                                                                                                  \n",
            " activation_191 (Activation)    (None, 224, 224, 64  0           ['add_89[0][0]']                 \n",
            "                                )                                                                 \n",
            "                                                                                                  \n",
            " conv2d_226 (Conv2D)            (None, 112, 112, 12  73728       ['activation_191[0][0]']         \n",
            "                                8)                                                                \n",
            "                                                                                                  \n",
            " batch_normalization_226 (Batch  (None, 112, 112, 12  512        ['conv2d_226[0][0]']             \n",
            " Normalization)                 8)                                                                \n",
            "                                                                                                  \n",
            " activation_192 (Activation)    (None, 112, 112, 12  0           ['batch_normalization_226[0][0]']\n",
            "                                8)                                                                \n",
            "                                                                                                  \n",
            " conv2d_225 (Conv2D)            (None, 112, 112, 12  8192        ['activation_191[0][0]']         \n",
            "                                8)                                                                \n",
            "                                                                                                  \n",
            " conv2d_227 (Conv2D)            (None, 112, 112, 12  147456      ['activation_192[0][0]']         \n",
            "                                8)                                                                \n",
            "                                                                                                  \n",
            " batch_normalization_225 (Batch  (None, 112, 112, 12  512        ['conv2d_225[0][0]']             \n",
            " Normalization)                 8)                                                                \n",
            "                                                                                                  \n",
            " batch_normalization_227 (Batch  (None, 112, 112, 12  512        ['conv2d_227[0][0]']             \n",
            " Normalization)                 8)                                                                \n",
            "                                                                                                  \n",
            " add_90 (Add)                   (None, 112, 112, 12  0           ['batch_normalization_225[0][0]',\n",
            "                                8)                                'batch_normalization_227[0][0]']\n",
            "                                                                                                  \n",
            " activation_193 (Activation)    (None, 112, 112, 12  0           ['add_90[0][0]']                 \n",
            "                                8)                                                                \n",
            "                                                                                                  \n",
            " conv2d_228 (Conv2D)            (None, 112, 112, 12  147456      ['activation_193[0][0]']         \n",
            "                                8)                                                                \n",
            "                                                                                                  \n",
            " batch_normalization_228 (Batch  (None, 112, 112, 12  512        ['conv2d_228[0][0]']             \n",
            " Normalization)                 8)                                                                \n",
            "                                                                                                  \n",
            " activation_194 (Activation)    (None, 112, 112, 12  0           ['batch_normalization_228[0][0]']\n",
            "                                8)                                                                \n",
            "                                                                                                  \n",
            " conv2d_229 (Conv2D)            (None, 112, 112, 12  147456      ['activation_194[0][0]']         \n",
            "                                8)                                                                \n",
            "                                                                                                  \n",
            " batch_normalization_229 (Batch  (None, 112, 112, 12  512        ['conv2d_229[0][0]']             \n",
            " Normalization)                 8)                                                                \n",
            "                                                                                                  \n",
            " add_91 (Add)                   (None, 112, 112, 12  0           ['activation_193[0][0]',         \n",
            "                                8)                                'batch_normalization_229[0][0]']\n",
            "                                                                                                  \n",
            " activation_195 (Activation)    (None, 112, 112, 12  0           ['add_91[0][0]']                 \n",
            "                                8)                                                                \n",
            "                                                                                                  \n",
            " conv2d_231 (Conv2D)            (None, 56, 56, 256)  294912      ['activation_195[0][0]']         \n",
            "                                                                                                  \n",
            " batch_normalization_231 (Batch  (None, 56, 56, 256)  1024       ['conv2d_231[0][0]']             \n",
            " Normalization)                                                                                   \n",
            "                                                                                                  \n",
            " activation_196 (Activation)    (None, 56, 56, 256)  0           ['batch_normalization_231[0][0]']\n",
            "                                                                                                  \n",
            " conv2d_230 (Conv2D)            (None, 56, 56, 256)  32768       ['activation_195[0][0]']         \n",
            "                                                                                                  \n",
            " conv2d_232 (Conv2D)            (None, 56, 56, 256)  589824      ['activation_196[0][0]']         \n",
            "                                                                                                  \n",
            " batch_normalization_230 (Batch  (None, 56, 56, 256)  1024       ['conv2d_230[0][0]']             \n",
            " Normalization)                                                                                   \n",
            "                                                                                                  \n",
            " batch_normalization_232 (Batch  (None, 56, 56, 256)  1024       ['conv2d_232[0][0]']             \n",
            " Normalization)                                                                                   \n",
            "                                                                                                  \n",
            " add_92 (Add)                   (None, 56, 56, 256)  0           ['batch_normalization_230[0][0]',\n",
            "                                                                  'batch_normalization_232[0][0]']\n",
            "                                                                                                  \n",
            " activation_197 (Activation)    (None, 56, 56, 256)  0           ['add_92[0][0]']                 \n",
            "                                                                                                  \n",
            " conv2d_233 (Conv2D)            (None, 56, 56, 256)  589824      ['activation_197[0][0]']         \n",
            "                                                                                                  \n",
            " batch_normalization_233 (Batch  (None, 56, 56, 256)  1024       ['conv2d_233[0][0]']             \n",
            " Normalization)                                                                                   \n",
            "                                                                                                  \n",
            " activation_198 (Activation)    (None, 56, 56, 256)  0           ['batch_normalization_233[0][0]']\n",
            "                                                                                                  \n",
            " conv2d_234 (Conv2D)            (None, 56, 56, 256)  589824      ['activation_198[0][0]']         \n",
            "                                                                                                  \n",
            " batch_normalization_234 (Batch  (None, 56, 56, 256)  1024       ['conv2d_234[0][0]']             \n",
            " Normalization)                                                                                   \n",
            "                                                                                                  \n",
            " add_93 (Add)                   (None, 56, 56, 256)  0           ['activation_197[0][0]',         \n",
            "                                                                  'batch_normalization_234[0][0]']\n",
            "                                                                                                  \n",
            " activation_199 (Activation)    (None, 56, 56, 256)  0           ['add_93[0][0]']                 \n",
            "                                                                                                  \n",
            " conv2d_236 (Conv2D)            (None, 28, 28, 512)  1179648     ['activation_199[0][0]']         \n",
            "                                                                                                  \n",
            " batch_normalization_236 (Batch  (None, 28, 28, 512)  2048       ['conv2d_236[0][0]']             \n",
            " Normalization)                                                                                   \n",
            "                                                                                                  \n",
            " activation_200 (Activation)    (None, 28, 28, 512)  0           ['batch_normalization_236[0][0]']\n",
            "                                                                                                  \n",
            " conv2d_235 (Conv2D)            (None, 28, 28, 512)  131072      ['activation_199[0][0]']         \n",
            "                                                                                                  \n",
            " conv2d_237 (Conv2D)            (None, 28, 28, 512)  2359296     ['activation_200[0][0]']         \n",
            "                                                                                                  \n",
            " batch_normalization_235 (Batch  (None, 28, 28, 512)  2048       ['conv2d_235[0][0]']             \n",
            " Normalization)                                                                                   \n",
            "                                                                                                  \n",
            " batch_normalization_237 (Batch  (None, 28, 28, 512)  2048       ['conv2d_237[0][0]']             \n",
            " Normalization)                                                                                   \n",
            "                                                                                                  \n",
            " add_94 (Add)                   (None, 28, 28, 512)  0           ['batch_normalization_235[0][0]',\n",
            "                                                                  'batch_normalization_237[0][0]']\n",
            "                                                                                                  \n",
            " activation_201 (Activation)    (None, 28, 28, 512)  0           ['add_94[0][0]']                 \n",
            "                                                                                                  \n",
            " conv2d_238 (Conv2D)            (None, 28, 28, 512)  2359296     ['activation_201[0][0]']         \n",
            "                                                                                                  \n",
            " batch_normalization_238 (Batch  (None, 28, 28, 512)  2048       ['conv2d_238[0][0]']             \n",
            " Normalization)                                                                                   \n",
            "                                                                                                  \n",
            " activation_202 (Activation)    (None, 28, 28, 512)  0           ['batch_normalization_238[0][0]']\n",
            "                                                                                                  \n",
            " conv2d_239 (Conv2D)            (None, 28, 28, 512)  2359296     ['activation_202[0][0]']         \n",
            "                                                                                                  \n",
            " batch_normalization_239 (Batch  (None, 28, 28, 512)  2048       ['conv2d_239[0][0]']             \n",
            " Normalization)                                                                                   \n",
            "                                                                                                  \n",
            " add_95 (Add)                   (None, 28, 28, 512)  0           ['activation_201[0][0]',         \n",
            "                                                                  'batch_normalization_239[0][0]']\n",
            "                                                                                                  \n",
            " activation_203 (Activation)    (None, 28, 28, 512)  0           ['add_95[0][0]']                 \n",
            "                                                                                                  \n",
            " average_pooling2d_11 (AverageP  (None, 7, 7, 512)   0           ['activation_203[0][0]']         \n",
            " ooling2D)                                                                                        \n",
            "                                                                                                  \n",
            " flatten_11 (Flatten)           (None, 25088)        0           ['average_pooling2d_11[0][0]']   \n",
            "                                                                                                  \n",
            " dense_11 (Dense)               (None, 2)            50178       ['flatten_11[0][0]']             \n",
            "                                                                                                  \n",
            "==================================================================================================\n",
            "Total params: 11,228,610\n",
            "Trainable params: 11,219,010\n",
            "Non-trainable params: 9,600\n",
            "__________________________________________________________________________________________________\n"
          ]
        }
      ]
    },
    {
      "cell_type": "code",
      "source": [
        "X_train, Y_train=next(iter(train_dataloader))\n",
        "X_test, Y_test=next(iter(test_dataloader))"
      ],
      "metadata": {
        "id": "FbfFv3lupyUU"
      },
      "id": "FbfFv3lupyUU",
      "execution_count": 70,
      "outputs": []
    },
    {
      "cell_type": "code",
      "source": [
        "X_train_permute=X_train.permute(0, 2, 3,1)\n",
        "X_test_permute=X_test.permute(0, 2, 3,1)"
      ],
      "metadata": {
        "id": "6AJudF_coekW"
      },
      "id": "6AJudF_coekW",
      "execution_count": 71,
      "outputs": []
    },
    {
      "cell_type": "code",
      "source": [
        "print(Y_test.numpy())\n",
        "len(Y)"
      ],
      "metadata": {
        "id": "AIIpF7KNImsJ",
        "outputId": "e9da378f-c271-46c5-a14b-b9c938b3f3aa",
        "colab": {
          "base_uri": "https://localhost:8080/"
        }
      },
      "id": "AIIpF7KNImsJ",
      "execution_count": null,
      "outputs": [
        {
          "output_type": "stream",
          "name": "stdout",
          "text": [
            "[0 0 1 1 0 1 0 0 1 0 0 0 1 1 0 0 1 0 1 0 1 1 1 1 0 1 1 0 1 1 1 0 0 0 1 1 0\n",
            " 0 1 1 1 1 0 0 1 0 0 0 1 0 1 0 1 0 1 0 1 0 1 0 0 1 0 0]\n"
          ]
        },
        {
          "output_type": "execute_result",
          "data": {
            "text/plain": [
              "64"
            ]
          },
          "metadata": {},
          "execution_count": 181
        }
      ]
    },
    {
      "cell_type": "markdown",
      "source": [
        "## On transforme le vecteur des labels pour qu'il correspondent au format attendu par le modèle\n",
        "\n",
        "Un vecteur de 64 lignes (la dimension du batch) et deux colonnes (car on a deux labels possibles pour nos images)."
      ],
      "metadata": {
        "id": "Gxz3Iu7baYkL"
      },
      "id": "Gxz3Iu7baYkL"
    },
    {
      "cell_type": "code",
      "source": [
        "def label_array_formatting(Y):\n",
        "  formatted_Y = np.zeros((len(Y), 2))\n",
        "  for i in range(len(Y)):\n",
        "    if Y[i] == 1:\n",
        "      formatted_Y[i][0], formatted_Y[i][1] = 0, 1\n",
        "    else:\n",
        "      formatted_Y[i][0], formatted_Y[i][1] = 1, 0\n",
        "  return formatted_Y"
      ],
      "metadata": {
        "id": "oAx1nIsaONqx"
      },
      "id": "oAx1nIsaONqx",
      "execution_count": 72,
      "outputs": []
    },
    {
      "cell_type": "markdown",
      "source": [
        "## Lancement du modèle\n",
        "\n",
        "On convertit le tenseur en array numpy pour que le modèle keras puisse le lire"
      ],
      "metadata": {
        "id": "KsZ8iOC34rwq"
      },
      "id": "KsZ8iOC34rwq"
    },
    {
      "cell_type": "code",
      "source": [
        "model.fit(x = X_train_permute.numpy(), y = label_array_formatting(Y_train),\n",
        "\tvalidation_data=(X_test_permute.numpy(), label_array_formatting(Y_test)),\n",
        "\tbatch_size=16,\n",
        "\tepochs=5)"
      ],
      "metadata": {
        "colab": {
          "base_uri": "https://localhost:8080/",
          "height": 394
        },
        "id": "3r6zNGvlnkt3",
        "outputId": "df6ec146-9209-4202-c613-adce11a2f824"
      },
      "id": "3r6zNGvlnkt3",
      "execution_count": 73,
      "outputs": [
        {
          "output_type": "stream",
          "name": "stdout",
          "text": [
            "Epoch 1/5\n"
          ]
        },
        {
          "output_type": "error",
          "ename": "TypeError",
          "evalue": "ignored",
          "traceback": [
            "\u001b[0;31m---------------------------------------------------------------------------\u001b[0m",
            "\u001b[0;31mTypeError\u001b[0m                                 Traceback (most recent call last)",
            "\u001b[0;32m<ipython-input-73-796d900f785f>\u001b[0m in \u001b[0;36m<module>\u001b[0;34m\u001b[0m\n\u001b[0;32m----> 1\u001b[0;31m model.fit(x = X_train_permute.numpy(), y = label_array_formatting(Y_train),\n\u001b[0m\u001b[1;32m      2\u001b[0m         \u001b[0mvalidation_data\u001b[0m\u001b[0;34m=\u001b[0m\u001b[0;34m(\u001b[0m\u001b[0mX_test_permute\u001b[0m\u001b[0;34m.\u001b[0m\u001b[0mnumpy\u001b[0m\u001b[0;34m(\u001b[0m\u001b[0;34m)\u001b[0m\u001b[0;34m,\u001b[0m \u001b[0mlabel_array_formatting\u001b[0m\u001b[0;34m(\u001b[0m\u001b[0mY_test\u001b[0m\u001b[0;34m)\u001b[0m\u001b[0;34m)\u001b[0m\u001b[0;34m,\u001b[0m\u001b[0;34m\u001b[0m\u001b[0;34m\u001b[0m\u001b[0m\n\u001b[1;32m      3\u001b[0m         \u001b[0mbatch_size\u001b[0m\u001b[0;34m=\u001b[0m\u001b[0;36m16\u001b[0m\u001b[0;34m,\u001b[0m\u001b[0;34m\u001b[0m\u001b[0;34m\u001b[0m\u001b[0m\n\u001b[1;32m      4\u001b[0m \tepochs=5)\n",
            "\u001b[0;32m/usr/local/lib/python3.9/dist-packages/keras/utils/traceback_utils.py\u001b[0m in \u001b[0;36merror_handler\u001b[0;34m(*args, **kwargs)\u001b[0m\n\u001b[1;32m     68\u001b[0m             \u001b[0;31m# To get the full stack trace, call:\u001b[0m\u001b[0;34m\u001b[0m\u001b[0;34m\u001b[0m\u001b[0m\n\u001b[1;32m     69\u001b[0m             \u001b[0;31m# `tf.debugging.disable_traceback_filtering()`\u001b[0m\u001b[0;34m\u001b[0m\u001b[0;34m\u001b[0m\u001b[0m\n\u001b[0;32m---> 70\u001b[0;31m             \u001b[0;32mraise\u001b[0m \u001b[0me\u001b[0m\u001b[0;34m.\u001b[0m\u001b[0mwith_traceback\u001b[0m\u001b[0;34m(\u001b[0m\u001b[0mfiltered_tb\u001b[0m\u001b[0;34m)\u001b[0m \u001b[0;32mfrom\u001b[0m \u001b[0;32mNone\u001b[0m\u001b[0;34m\u001b[0m\u001b[0;34m\u001b[0m\u001b[0m\n\u001b[0m\u001b[1;32m     71\u001b[0m         \u001b[0;32mfinally\u001b[0m\u001b[0;34m:\u001b[0m\u001b[0;34m\u001b[0m\u001b[0;34m\u001b[0m\u001b[0m\n\u001b[1;32m     72\u001b[0m             \u001b[0;32mdel\u001b[0m \u001b[0mfiltered_tb\u001b[0m\u001b[0;34m\u001b[0m\u001b[0;34m\u001b[0m\u001b[0m\n",
            "\u001b[0;32m/usr/local/lib/python3.9/dist-packages/tensorflow/python/eager/polymorphic_function/polymorphic_function.py\u001b[0m in \u001b[0;36m_call\u001b[0;34m(self, *args, **kwds)\u001b[0m\n\u001b[1;32m    910\u001b[0m       \u001b[0;31m# In this case we have created variables on the first call, so we run the\u001b[0m\u001b[0;34m\u001b[0m\u001b[0;34m\u001b[0m\u001b[0m\n\u001b[1;32m    911\u001b[0m       \u001b[0;31m# defunned version which is guaranteed to never create variables.\u001b[0m\u001b[0;34m\u001b[0m\u001b[0;34m\u001b[0m\u001b[0m\n\u001b[0;32m--> 912\u001b[0;31m       \u001b[0;32mreturn\u001b[0m \u001b[0mself\u001b[0m\u001b[0;34m.\u001b[0m\u001b[0m_no_variable_creation_fn\u001b[0m\u001b[0;34m(\u001b[0m\u001b[0;34m*\u001b[0m\u001b[0margs\u001b[0m\u001b[0;34m,\u001b[0m \u001b[0;34m**\u001b[0m\u001b[0mkwds\u001b[0m\u001b[0;34m)\u001b[0m  \u001b[0;31m# pylint: disable=not-callable\u001b[0m\u001b[0;34m\u001b[0m\u001b[0;34m\u001b[0m\u001b[0m\n\u001b[0m\u001b[1;32m    913\u001b[0m     \u001b[0;32melif\u001b[0m \u001b[0mself\u001b[0m\u001b[0;34m.\u001b[0m\u001b[0m_variable_creation_fn\u001b[0m \u001b[0;32mis\u001b[0m \u001b[0;32mnot\u001b[0m \u001b[0;32mNone\u001b[0m\u001b[0;34m:\u001b[0m\u001b[0;34m\u001b[0m\u001b[0;34m\u001b[0m\u001b[0m\n\u001b[1;32m    914\u001b[0m       \u001b[0;31m# Release the lock early so that multiple threads can perform the call\u001b[0m\u001b[0;34m\u001b[0m\u001b[0;34m\u001b[0m\u001b[0m\n",
            "\u001b[0;31mTypeError\u001b[0m: 'NoneType' object is not callable"
          ]
        }
      ]
    },
    {
      "cell_type": "markdown",
      "source": [
        "# Lancement du modèle\n",
        "\n",
        "Les cinq premières métriques représentent les performances de notre algorithme sur l'échantillon d'entrainement, les cinq dernières valeurs (celles précédées du préfixe val_) sont elles calculées sur l'échantillon de test. "
      ],
      "metadata": {
        "id": "jBWM12pxcvQK"
      },
      "id": "jBWM12pxcvQK"
    },
    {
      "cell_type": "code",
      "source": [
        "resnet18.fit(x = X_train_permute.numpy(), y = Y_train.numpy(),\n",
        "\tvalidation_data=(X_test_permute.numpy(), Y_test.numpy()),\n",
        "\tbatch_size=16,\n",
        "\tepochs=5)"
      ],
      "metadata": {
        "id": "Gkds0SmvZtxN",
        "outputId": "e4863073-26ff-4cd3-ff38-a11b0908e6c2",
        "colab": {
          "base_uri": "https://localhost:8080/",
          "height": 812
        }
      },
      "id": "Gkds0SmvZtxN",
      "execution_count": 62,
      "outputs": [
        {
          "output_type": "stream",
          "name": "stdout",
          "text": [
            "Epoch 1/5\n"
          ]
        },
        {
          "output_type": "error",
          "ename": "ValueError",
          "evalue": "ignored",
          "traceback": [
            "\u001b[0;31m---------------------------------------------------------------------------\u001b[0m",
            "\u001b[0;31mValueError\u001b[0m                                Traceback (most recent call last)",
            "\u001b[0;32m<ipython-input-62-1b3185ec5f71>\u001b[0m in \u001b[0;36m<module>\u001b[0;34m\u001b[0m\n\u001b[0;32m----> 1\u001b[0;31m resnet18.fit(x = X_train_permute.numpy(), y = Y_train.numpy(),\n\u001b[0m\u001b[1;32m      2\u001b[0m         \u001b[0mvalidation_data\u001b[0m\u001b[0;34m=\u001b[0m\u001b[0;34m(\u001b[0m\u001b[0mX_test_permute\u001b[0m\u001b[0;34m.\u001b[0m\u001b[0mnumpy\u001b[0m\u001b[0;34m(\u001b[0m\u001b[0;34m)\u001b[0m\u001b[0;34m,\u001b[0m \u001b[0mY_test\u001b[0m\u001b[0;34m.\u001b[0m\u001b[0mnumpy\u001b[0m\u001b[0;34m(\u001b[0m\u001b[0;34m)\u001b[0m\u001b[0;34m)\u001b[0m\u001b[0;34m,\u001b[0m\u001b[0;34m\u001b[0m\u001b[0;34m\u001b[0m\u001b[0m\n\u001b[1;32m      3\u001b[0m         \u001b[0mbatch_size\u001b[0m\u001b[0;34m=\u001b[0m\u001b[0;36m16\u001b[0m\u001b[0;34m,\u001b[0m\u001b[0;34m\u001b[0m\u001b[0;34m\u001b[0m\u001b[0m\n\u001b[1;32m      4\u001b[0m \tepochs=5)\n",
            "\u001b[0;32m/usr/local/lib/python3.9/dist-packages/keras/utils/traceback_utils.py\u001b[0m in \u001b[0;36merror_handler\u001b[0;34m(*args, **kwargs)\u001b[0m\n\u001b[1;32m     68\u001b[0m             \u001b[0;31m# To get the full stack trace, call:\u001b[0m\u001b[0;34m\u001b[0m\u001b[0;34m\u001b[0m\u001b[0m\n\u001b[1;32m     69\u001b[0m             \u001b[0;31m# `tf.debugging.disable_traceback_filtering()`\u001b[0m\u001b[0;34m\u001b[0m\u001b[0;34m\u001b[0m\u001b[0m\n\u001b[0;32m---> 70\u001b[0;31m             \u001b[0;32mraise\u001b[0m \u001b[0me\u001b[0m\u001b[0;34m.\u001b[0m\u001b[0mwith_traceback\u001b[0m\u001b[0;34m(\u001b[0m\u001b[0mfiltered_tb\u001b[0m\u001b[0;34m)\u001b[0m \u001b[0;32mfrom\u001b[0m \u001b[0;32mNone\u001b[0m\u001b[0;34m\u001b[0m\u001b[0;34m\u001b[0m\u001b[0m\n\u001b[0m\u001b[1;32m     71\u001b[0m         \u001b[0;32mfinally\u001b[0m\u001b[0;34m:\u001b[0m\u001b[0;34m\u001b[0m\u001b[0;34m\u001b[0m\u001b[0m\n\u001b[1;32m     72\u001b[0m             \u001b[0;32mdel\u001b[0m \u001b[0mfiltered_tb\u001b[0m\u001b[0;34m\u001b[0m\u001b[0;34m\u001b[0m\u001b[0m\n",
            "\u001b[0;32m/usr/local/lib/python3.9/dist-packages/keras/engine/training.py\u001b[0m in \u001b[0;36mtf__train_function\u001b[0;34m(iterator)\u001b[0m\n\u001b[1;32m     13\u001b[0m                 \u001b[0;32mtry\u001b[0m\u001b[0;34m:\u001b[0m\u001b[0;34m\u001b[0m\u001b[0;34m\u001b[0m\u001b[0m\n\u001b[1;32m     14\u001b[0m                     \u001b[0mdo_return\u001b[0m \u001b[0;34m=\u001b[0m \u001b[0;32mTrue\u001b[0m\u001b[0;34m\u001b[0m\u001b[0;34m\u001b[0m\u001b[0m\n\u001b[0;32m---> 15\u001b[0;31m                     \u001b[0mretval_\u001b[0m \u001b[0;34m=\u001b[0m \u001b[0mag__\u001b[0m\u001b[0;34m.\u001b[0m\u001b[0mconverted_call\u001b[0m\u001b[0;34m(\u001b[0m\u001b[0mag__\u001b[0m\u001b[0;34m.\u001b[0m\u001b[0mld\u001b[0m\u001b[0;34m(\u001b[0m\u001b[0mstep_function\u001b[0m\u001b[0;34m)\u001b[0m\u001b[0;34m,\u001b[0m \u001b[0;34m(\u001b[0m\u001b[0mag__\u001b[0m\u001b[0;34m.\u001b[0m\u001b[0mld\u001b[0m\u001b[0;34m(\u001b[0m\u001b[0mself\u001b[0m\u001b[0;34m)\u001b[0m\u001b[0;34m,\u001b[0m \u001b[0mag__\u001b[0m\u001b[0;34m.\u001b[0m\u001b[0mld\u001b[0m\u001b[0;34m(\u001b[0m\u001b[0miterator\u001b[0m\u001b[0;34m)\u001b[0m\u001b[0;34m)\u001b[0m\u001b[0;34m,\u001b[0m \u001b[0;32mNone\u001b[0m\u001b[0;34m,\u001b[0m \u001b[0mfscope\u001b[0m\u001b[0;34m)\u001b[0m\u001b[0;34m\u001b[0m\u001b[0;34m\u001b[0m\u001b[0m\n\u001b[0m\u001b[1;32m     16\u001b[0m                 \u001b[0;32mexcept\u001b[0m\u001b[0;34m:\u001b[0m\u001b[0;34m\u001b[0m\u001b[0;34m\u001b[0m\u001b[0m\n\u001b[1;32m     17\u001b[0m                     \u001b[0mdo_return\u001b[0m \u001b[0;34m=\u001b[0m \u001b[0;32mFalse\u001b[0m\u001b[0;34m\u001b[0m\u001b[0;34m\u001b[0m\u001b[0m\n",
            "\u001b[0;31mValueError\u001b[0m: in user code:\n\n    File \"/usr/local/lib/python3.9/dist-packages/keras/engine/training.py\", line 1249, in train_function  *\n        return step_function(self, iterator)\n    File \"/usr/local/lib/python3.9/dist-packages/keras/engine/training.py\", line 1233, in step_function  **\n        outputs = model.distribute_strategy.run(run_step, args=(data,))\n    File \"/usr/local/lib/python3.9/dist-packages/keras/engine/training.py\", line 1222, in run_step  **\n        outputs = model.train_step(data)\n    File \"/usr/local/lib/python3.9/dist-packages/keras/engine/training.py\", line 1024, in train_step\n        loss = self.compute_loss(x, y, y_pred, sample_weight)\n    File \"/usr/local/lib/python3.9/dist-packages/keras/engine/training.py\", line 1082, in compute_loss\n        return self.compiled_loss(\n    File \"/usr/local/lib/python3.9/dist-packages/keras/engine/compile_utils.py\", line 265, in __call__\n        loss_value = loss_obj(y_t, y_p, sample_weight=sw)\n    File \"/usr/local/lib/python3.9/dist-packages/keras/losses.py\", line 152, in __call__\n        losses = call_fn(y_true, y_pred)\n    File \"/usr/local/lib/python3.9/dist-packages/keras/losses.py\", line 284, in call  **\n        return ag_fn(y_true, y_pred, **self._fn_kwargs)\n    File \"/usr/local/lib/python3.9/dist-packages/keras/losses.py\", line 2176, in binary_crossentropy\n        backend.binary_crossentropy(y_true, y_pred, from_logits=from_logits),\n    File \"/usr/local/lib/python3.9/dist-packages/keras/backend.py\", line 5680, in binary_crossentropy\n        return tf.nn.sigmoid_cross_entropy_with_logits(\n\n    ValueError: `logits` and `labels` must have the same shape, received ((16, 2) vs (16, 1)).\n"
          ]
        }
      ]
    },
    {
      "cell_type": "code",
      "source": [
        "loss, accuracy, recall_m, precision_m, f1_m = model.evaluate(X_test_permute.numpy(), label_array_formatting(Y_test), verbose=0)\n",
        "print(\"Loss sur l'échantillon test: {}\".format(np.round(loss,3)))\n",
        "print(\"Accuracy sur l'échantillon test: {}\".format(np.round(accuracy,3)))\n",
        "print(\"Recall sur l'échantillon test: {}\".format(np.round(recall_m,3)))\n",
        "print(\"Precision sur l'échantillon test: {}\".format(np.round(precision_m,3)))\n",
        "print(\"F1-score sur l'échantillon test: {}\".format(np.round(f1_m,3)))"
      ],
      "metadata": {
        "colab": {
          "base_uri": "https://localhost:8080/"
        },
        "id": "TC8-oY5DwVC5",
        "outputId": "77bf89ff-f2e1-497b-d14b-956a7b0dc7fa"
      },
      "id": "TC8-oY5DwVC5",
      "execution_count": 24,
      "outputs": [
        {
          "output_type": "stream",
          "name": "stdout",
          "text": [
            "Loss sur l'échantillon test: 14.649\n",
            "Accuracy sur l'échantillon test: 0.484\n",
            "Recall sur l'échantillon test: 0.484\n",
            "Precision sur l'échantillon test: 0.484\n",
            "F1-score sur l'échantillon test: 0.484\n"
          ]
        }
      ]
    },
    {
      "cell_type": "code",
      "source": [
        "prob_predict = model.predict(X_test_permute.numpy())\n",
        "y_pred = (np.squeeze(prob_predict) > 0.5).astype(\"int32\")"
      ],
      "metadata": {
        "id": "t7BtkwuiYbdE",
        "outputId": "a50789ff-f50a-4446-bb61-62d75a5c314d",
        "colab": {
          "base_uri": "https://localhost:8080/"
        }
      },
      "id": "t7BtkwuiYbdE",
      "execution_count": 45,
      "outputs": [
        {
          "output_type": "stream",
          "name": "stdout",
          "text": [
            "2/2 [==============================] - 4s 2s/step\n"
          ]
        }
      ]
    },
    {
      "cell_type": "code",
      "source": [
        "unique, counts = np.unique(y_pred, return_counts=True)\n",
        "res=dict(zip(unique, counts))\n",
        "print(\"Nombre d'images prédites avec panneaux: {}\".format(res[1]))\n",
        "print(\"Nombre d'images prédites sans panneau: {}\".format(res[0]))"
      ],
      "metadata": {
        "id": "7w_RiZwBYxkp",
        "outputId": "c9cac430-df8b-4f79-ed6f-8f01ff0b5d3f",
        "colab": {
          "base_uri": "https://localhost:8080/",
          "height": 225
        }
      },
      "id": "7w_RiZwBYxkp",
      "execution_count": 46,
      "outputs": [
        {
          "output_type": "stream",
          "name": "stdout",
          "text": [
            "Nombre d'images prédites avec panneaux: 64\n"
          ]
        },
        {
          "output_type": "error",
          "ename": "KeyError",
          "evalue": "ignored",
          "traceback": [
            "\u001b[0;31m---------------------------------------------------------------------------\u001b[0m",
            "\u001b[0;31mKeyError\u001b[0m                                  Traceback (most recent call last)",
            "\u001b[0;32m<ipython-input-46-4df277dca518>\u001b[0m in \u001b[0;36m<module>\u001b[0;34m\u001b[0m\n\u001b[1;32m      2\u001b[0m \u001b[0mres\u001b[0m\u001b[0;34m=\u001b[0m\u001b[0mdict\u001b[0m\u001b[0;34m(\u001b[0m\u001b[0mzip\u001b[0m\u001b[0;34m(\u001b[0m\u001b[0munique\u001b[0m\u001b[0;34m,\u001b[0m \u001b[0mcounts\u001b[0m\u001b[0;34m)\u001b[0m\u001b[0;34m)\u001b[0m\u001b[0;34m\u001b[0m\u001b[0;34m\u001b[0m\u001b[0m\n\u001b[1;32m      3\u001b[0m \u001b[0mprint\u001b[0m\u001b[0;34m(\u001b[0m\u001b[0;34m\"Nombre d'images prédites avec panneaux: {}\"\u001b[0m\u001b[0;34m.\u001b[0m\u001b[0mformat\u001b[0m\u001b[0;34m(\u001b[0m\u001b[0mres\u001b[0m\u001b[0;34m[\u001b[0m\u001b[0;36m1\u001b[0m\u001b[0;34m]\u001b[0m\u001b[0;34m)\u001b[0m\u001b[0;34m)\u001b[0m\u001b[0;34m\u001b[0m\u001b[0;34m\u001b[0m\u001b[0m\n\u001b[0;32m----> 4\u001b[0;31m \u001b[0mprint\u001b[0m\u001b[0;34m(\u001b[0m\u001b[0;34m\"Nombre d'images prédites sans panneau: {}\"\u001b[0m\u001b[0;34m.\u001b[0m\u001b[0mformat\u001b[0m\u001b[0;34m(\u001b[0m\u001b[0mres\u001b[0m\u001b[0;34m[\u001b[0m\u001b[0;36m0\u001b[0m\u001b[0;34m]\u001b[0m\u001b[0;34m)\u001b[0m\u001b[0;34m)\u001b[0m\u001b[0;34m\u001b[0m\u001b[0;34m\u001b[0m\u001b[0m\n\u001b[0m",
            "\u001b[0;31mKeyError\u001b[0m: 0"
          ]
        }
      ]
    },
    {
      "cell_type": "code",
      "source": [
        "from sklearn.metrics import confusion_matrix, ConfusionMatrixDisplay\n",
        "\n",
        "r = confusion_matrix(Y_test, y_pred)\n",
        "r = np.flip(r)\n",
        "\n",
        "cm_display = ConfusionMatrixDisplay(confusion_matrix = r, display_labels = [False, True])\n",
        "cm_display.plot()\n",
        "plt.show()"
      ],
      "metadata": {
        "id": "KDV7xwf1Y2uE",
        "outputId": "93c91d6e-5794-474c-e414-530cd34ef60b",
        "colab": {
          "base_uri": "https://localhost:8080/",
          "height": 279
        }
      },
      "id": "KDV7xwf1Y2uE",
      "execution_count": 47,
      "outputs": [
        {
          "output_type": "display_data",
          "data": {
            "text/plain": [
              "<Figure size 432x288 with 2 Axes>"
            ],
            "image/png": "[encoded data removed]"
          },
          "metadata": {
            "needs_background": "light"
          }
        }
      ]
    }
  ],
  "metadata": {
    "kernelspec": {
      "display_name": "Python 3",
      "language": "python",
      "name": "python3"
    },
    "language_info": {
      "codemirror_mode": {
        "name": "ipython",
        "version": 3
      },
      "file_extension": ".py",
      "mimetype": "text/x-python",
      "name": "python",
      "nbconvert_exporter": "python",
      "pygments_lexer": "ipython3",
      "version": "3.8.8"
    },
    "colab": {
      "provenance": []
    }
  },
  "nbformat": 4,
  "nbformat_minor": 5
}