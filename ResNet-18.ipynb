{
  "cells": [
    {
      "cell_type": "code",
      "source": [
        "from google.colab import drive\n",
        "drive.mount('/content/drive')"
      ],
      "metadata": {
        "id": "6m5MJtMnYHLD"
      },
      "id": "6m5MJtMnYHLD",
      "execution_count": null,
      "outputs": []
    },
    {
      "cell_type": "code",
      "source": [
        "!cp /content/drive/MyDrive/statapps-main/src/dataloader.py /content"
      ],
      "metadata": {
        "id": "KDqq9URoPmcc"
      },
      "id": "KDqq9URoPmcc",
      "execution_count": 7,
      "outputs": []
    },
    {
      "cell_type": "code",
      "execution_count": 10,
      "id": "802b66ca-ba33-4a4d-9545-8e49e1142b53",
      "metadata": {
        "id": "802b66ca-ba33-4a4d-9545-8e49e1142b53"
      },
      "outputs": [],
      "source": [
        "import dataloader\n",
        "import torchvision.models as models"
      ]
    },
    {
      "cell_type": "code",
      "execution_count": 11,
      "id": "a8649471-a4d1-4a36-941e-9ac086aee1ee",
      "metadata": {
        "id": "a8649471-a4d1-4a36-941e-9ac086aee1ee",
        "outputId": "4735916b-14d1-4cfe-a054-92da01f0a5d5",
        "colab": {
          "base_uri": "https://localhost:8080/"
        }
      },
      "outputs": [
        {
          "output_type": "stream",
          "name": "stdout",
          "text": [
            "Mounted at /content/drive/\n"
          ]
        }
      ],
      "source": [
        "\"\"\"\n",
        "import sys\n",
        "from google.colab import drive\n",
        "drive.mount('/content/drive/', force_remount=True)\n",
        "sys.path.insert(0,'/content/drive/My Drive/statapps-main/src/')\n",
        "\"\"\""
      ]
    },
    {
      "cell_type": "code",
      "execution_count": null,
      "id": "1aece920-7233-4d20-bbab-a8c9852a8c98",
      "metadata": {
        "id": "1aece920-7233-4d20-bbab-a8c9852a8c98"
      },
      "outputs": [],
      "source": [
        "label_attribution=LabelAttribution(path_image_google='/content/drive/My Drive/ign/img', \n",
        "                                   path_mask_google='/content/drive/My Drive/ign/mask',\n",
        "                                   path_metadata='/content/drive/My Drive/ign/metadata.csv',\n",
        "                                   colonne_identifiant='identifiant',\n",
        "                                   path_export_train_test='/content/drive/My Drive/ign',\n",
        "                                   path_image_ign='/content/drive/My Drive/ign/img',\n",
        "                                   path_mask_ign='/content/drive/My Drive/ign/img',\n",
        "                                   use_img_google=True,\n",
        "                                   use_img_ign=False\n",
        "                                    )"
      ]
    },
    {
      "cell_type": "code",
      "execution_count": null,
      "id": "fda5351c-aa4d-44b6-8516-adfc0a2a95d8",
      "metadata": {
        "id": "fda5351c-aa4d-44b6-8516-adfc0a2a95d8"
      },
      "outputs": [],
      "source": [
        "label_attribution.run()"
      ]
    },
    {
      "cell_type": "code",
      "execution_count": null,
      "id": "72bb89b7-50e4-40f3-9fce-485d6ae8cc27",
      "metadata": {
        "id": "72bb89b7-50e4-40f3-9fce-485d6ae8cc27"
      },
      "outputs": [],
      "source": [
        "models.resnet18(pretrained=False, progress=True)"
      ]
    }
  ],
  "metadata": {
    "kernelspec": {
      "display_name": "Python 3",
      "language": "python",
      "name": "python3"
    },
    "language_info": {
      "codemirror_mode": {
        "name": "ipython",
        "version": 3
      },
      "file_extension": ".py",
      "mimetype": "text/x-python",
      "name": "python",
      "nbconvert_exporter": "python",
      "pygments_lexer": "ipython3",
      "version": "3.8.8"
    },
    "colab": {
      "provenance": []
    }
  },
  "nbformat": 4,
  "nbformat_minor": 5
}