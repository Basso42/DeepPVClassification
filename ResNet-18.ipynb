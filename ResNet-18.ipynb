{
 "cells": [
  {
   "cell_type": "code",
   "execution_count": 6,
   "id": "ec5e7fcf-9c26-47b3-aa3c-5df5ae41f01a",
   "metadata": {},
   "outputs": [
    {
     "ename": "SyntaxError",
     "evalue": "invalid syntax (<ipython-input-6-4d30d82d60d9>, line 1)",
     "output_type": "error",
     "traceback": [
      "\u001b[1;36m  File \u001b[1;32m\"<ipython-input-6-4d30d82d60d9>\"\u001b[1;36m, line \u001b[1;32m1\u001b[0m\n\u001b[1;33m    $git config <–global or local> core.autocrlf false\u001b[0m\n\u001b[1;37m    ^\u001b[0m\n\u001b[1;31mSyntaxError\u001b[0m\u001b[1;31m:\u001b[0m invalid syntax\n"
     ]
    }
   ],
   "source": [
    "$git config <–global or local> core.autocrlf false"
   ]
  },
  {
   "cell_type": "code",
   "execution_count": 1,
   "id": "802b66ca-ba33-4a4d-9545-8e49e1142b53",
   "metadata": {},
   "outputs": [],
   "source": [
    "from src.dataloader import *\n",
    "import torchvision.models as models"
   ]
  },
  {
   "cell_type": "code",
   "execution_count": 2,
   "id": "a8649471-a4d1-4a36-941e-9ac086aee1ee",
   "metadata": {},
   "outputs": [
    {
     "ename": "ModuleNotFoundError",
     "evalue": "No module named 'google'",
     "output_type": "error",
     "traceback": [
      "\u001b[1;31m---------------------------------------------------------------------------\u001b[0m",
      "\u001b[1;31mModuleNotFoundError\u001b[0m                       Traceback (most recent call last)",
      "\u001b[1;32m<ipython-input-2-c0ddab4465a0>\u001b[0m in \u001b[0;36m<module>\u001b[1;34m\u001b[0m\n\u001b[0;32m      1\u001b[0m \u001b[1;32mimport\u001b[0m \u001b[0msys\u001b[0m\u001b[1;33m\u001b[0m\u001b[1;33m\u001b[0m\u001b[0m\n\u001b[1;32m----> 2\u001b[1;33m \u001b[1;32mfrom\u001b[0m \u001b[0mgoogle\u001b[0m\u001b[1;33m.\u001b[0m\u001b[0mcolab\u001b[0m \u001b[1;32mimport\u001b[0m \u001b[0mdrive\u001b[0m\u001b[1;33m\u001b[0m\u001b[1;33m\u001b[0m\u001b[0m\n\u001b[0m\u001b[0;32m      3\u001b[0m \u001b[0mdrive\u001b[0m\u001b[1;33m.\u001b[0m\u001b[0mmount\u001b[0m\u001b[1;33m(\u001b[0m\u001b[1;34m'/content/drive/'\u001b[0m\u001b[1;33m,\u001b[0m \u001b[0mforce_remount\u001b[0m\u001b[1;33m=\u001b[0m\u001b[1;32mTrue\u001b[0m\u001b[1;33m)\u001b[0m\u001b[1;33m\u001b[0m\u001b[1;33m\u001b[0m\u001b[0m\n\u001b[0;32m      4\u001b[0m \u001b[0msys\u001b[0m\u001b[1;33m.\u001b[0m\u001b[0mpath\u001b[0m\u001b[1;33m.\u001b[0m\u001b[0minsert\u001b[0m\u001b[1;33m(\u001b[0m\u001b[1;36m0\u001b[0m\u001b[1;33m,\u001b[0m\u001b[1;34m'/content/drive/My Drive/statapps-main/src/'\u001b[0m\u001b[1;33m)\u001b[0m\u001b[1;33m\u001b[0m\u001b[1;33m\u001b[0m\u001b[0m\n",
      "\u001b[1;31mModuleNotFoundError\u001b[0m: No module named 'google'"
     ]
    }
   ],
   "source": [
    "import sys\n",
    "from google.colab import drive\n",
    "drive.mount('/content/drive/', force_remount=True)\n",
    "sys.path.insert(0,'/content/drive/My Drive/statapps-main/src/')"
   ]
  },
  {
   "cell_type": "code",
   "execution_count": null,
   "id": "1aece920-7233-4d20-bbab-a8c9852a8c98",
   "metadata": {},
   "outputs": [],
   "source": [
    "label_attribution=LabelAttribution(path_image_google='/content/drive/My Drive/ign/img', \n",
    "                                   path_mask_google='/content/drive/My Drive/ign/mask',\n",
    "                                   path_metadata='/content/drive/My Drive/ign/metadata.csv',\n",
    "                                   colonne_identifiant='identifiant',\n",
    "                                   path_export_train_test='/content/drive/My Drive/ign',\n",
    "                                   path_image_ign='/content/drive/My Drive/ign/img',\n",
    "                                   path_mask_ign='/content/drive/My Drive/ign/img',\n",
    "                                   use_img_google=True,\n",
    "                                   use_img_ign=False\n",
    "                                    )\n",
    "\n",
    "models.resnet18(pretrained=False, progress=True)"
   ]
  },
  {
   "cell_type": "code",
   "execution_count": null,
   "id": "fda5351c-aa4d-44b6-8516-adfc0a2a95d8",
   "metadata": {},
   "outputs": [],
   "source": [
    "label_attribution.run()"
   ]
  },
  {
   "cell_type": "code",
   "execution_count": null,
   "id": "72bb89b7-50e4-40f3-9fce-485d6ae8cc27",
   "metadata": {},
   "outputs": [],
   "source": [
    "models.resnet18(pretrained=False, progress=True)"
   ]
  }
 ],
 "metadata": {
  "kernelspec": {
   "display_name": "Python 3",
   "language": "python",
   "name": "python3"
  },
  "language_info": {
   "codemirror_mode": {
    "name": "ipython",
    "version": 3
   },
   "file_extension": ".py",
   "mimetype": "text/x-python",
   "name": "python",
   "nbconvert_exporter": "python",
   "pygments_lexer": "ipython3",
   "version": "3.8.8"
  }
 },
 "nbformat": 4,
 "nbformat_minor": 5
}
