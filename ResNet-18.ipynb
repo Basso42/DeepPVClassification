{
  "cells": [
    {
      "cell_type": "markdown",
      "id": "dyycN7Y3nItV",
      "metadata": {
        "id": "dyycN7Y3nItV"
      },
      "source": [
        "# Préparation des données"
      ]
    },
    {
      "cell_type": "markdown",
      "id": "fd213552",
      "metadata": {
        "id": "fd213552"
      },
      "source": [
        "## Import et data augmentations"
      ]
    },
    {
      "cell_type": "markdown",
      "id": "s-FjgO3hm1Z9",
      "metadata": {
        "id": "s-FjgO3hm1Z9"
      },
      "source": [
        "Montage google drive et décompression des données de bdappv.zip"
      ]
    },
    {
      "cell_type": "code",
      "execution_count": 2,
      "id": "3bzVL4BZXWZr",
      "metadata": {
        "colab": {
          "base_uri": "https://localhost:8080/"
        },
        "id": "3bzVL4BZXWZr",
        "outputId": "4efbbeba-a17c-4e64-cdcf-5497f15657ff"
      },
      "outputs": [
        {
          "name": "stdout",
          "output_type": "stream",
          "text": [
            "Mounted at /content/drive/\n"
          ]
        }
      ],
      "source": [
        "import sys\n",
        "from google.colab import drive\n",
        "drive.mount('/content/drive/', force_remount=True)\n",
        "!unzip /content/drive/MyDrive/bdappv/bdappv.zip > /dev/null"
      ]
    },
    {
      "cell_type": "markdown",
      "id": "dzG3HEtemNrj",
      "metadata": {
        "id": "dzG3HEtemNrj"
      },
      "source": [
        "Importation des fichiers dataloader, metrics et resnet18"
      ]
    },
    {
      "cell_type": "code",
      "execution_count": 3,
      "id": "KDqq9URoPmcc",
      "metadata": {
        "id": "KDqq9URoPmcc"
      },
      "outputs": [],
      "source": [
        "!cp /content/drive/MyDrive/statapps-main/src/dataloader.py /content\n",
        "!cp /content/drive/MyDrive/statapps-main/src/metrics.py /content\n",
        "!cp /content/drive/MyDrive/statapps-main/src/resnet18.py /content"
      ]
    },
    {
      "cell_type": "code",
      "execution_count": 4,
      "id": "c4R37Bj0pf1r",
      "metadata": {
        "id": "c4R37Bj0pf1r"
      },
      "outputs": [],
      "source": [
        "import dataloader as dtld\n",
        "from metrics import *\n",
        "import resnet18\n",
        " \n",
        "import pandas as pd\n",
        "import numpy as np\n",
        "import matplotlib.pyplot as plt\n",
        "from torch.utils.data import Dataset, DataLoader\n",
        "from torchvision import transforms, utils"
      ]
    },
    {
      "cell_type": "code",
      "execution_count": 5,
      "id": "1aece920-7233-4d20-bbab-a8c9852a8c98",
      "metadata": {
        "id": "1aece920-7233-4d20-bbab-a8c9852a8c98"
      },
      "outputs": [],
      "source": [
        "label_attribution = dtld.LabelAttribution(path_image_google='/content/bdappv/google/img', \n",
        "                                   path_mask_google='/content/bdappv/google/mask',\n",
        "                                   path_metadata='/content/bdappv/metadata.csv',\n",
        "                                   colonne_identifiant='identifiant',\n",
        "                                   path_export_train_test='/content/drive/MyDrive',\n",
        "                                   path_image_ign='/content/bdappv/ign/img',\n",
        "                                   path_mask_ign='/content/bdappv/ign/mask',\n",
        "                                   use_img_google=True,\n",
        "                                   use_img_ign=False\n",
        "                                    )"
      ]
    },
    {
      "cell_type": "code",
      "execution_count": 6,
      "id": "fda5351c-aa4d-44b6-8516-adfc0a2a95d8",
      "metadata": {
        "id": "fda5351c-aa4d-44b6-8516-adfc0a2a95d8"
      },
      "outputs": [],
      "source": [
        "label_attribution.run()"
      ]
    },
    {
      "cell_type": "code",
      "execution_count": 1,
      "id": "74e9ad22",
      "metadata": {
        "id": "74e9ad22"
      },
      "outputs": [
        {
          "ename": "NameError",
          "evalue": "name 'dtld' is not defined",
          "output_type": "error",
          "traceback": [
            "\u001b[1;31m---------------------------------------------------------------------------\u001b[0m",
            "\u001b[1;31mNameError\u001b[0m                                 Traceback (most recent call last)",
            "Cell \u001b[1;32mIn[1], line 4\u001b[0m\n\u001b[0;32m      1\u001b[0m path_train\u001b[39m=\u001b[39m\u001b[39m'\u001b[39m\u001b[39m/content/drive/MyDrive/train_data.csv\u001b[39m\u001b[39m'\u001b[39m\n\u001b[0;32m      2\u001b[0m path_test\u001b[39m=\u001b[39m\u001b[39m'\u001b[39m\u001b[39m/content/drive/MyDrive/test_data.csv\u001b[39m\u001b[39m'\u001b[39m\n\u001b[1;32m----> 4\u001b[0m transformed_train_dataset  \u001b[39m=\u001b[39m dtld\u001b[39m.\u001b[39mCustomImageDataset(path_train,\u001b[39m'\u001b[39m\u001b[39m/content/bdappv/google/img\u001b[39m\u001b[39m'\u001b[39m, transform\u001b[39m=\u001b[39mtransforms\u001b[39m.\u001b[39mCompose([\n\u001b[0;32m      5\u001b[0m                                                transforms\u001b[39m.\u001b[39mResize(\u001b[39m224\u001b[39m),\n\u001b[0;32m      6\u001b[0m                                                transforms\u001b[39m.\u001b[39mColorJitter(brightness\u001b[39m=\u001b[39m(\u001b[39m0.6\u001b[39m, \u001b[39m1.4\u001b[39m), contrast\u001b[39m=\u001b[39m(\u001b[39m0.6\u001b[39m, \u001b[39m1.4\u001b[39m), saturation\u001b[39m=\u001b[39m(\u001b[39m0.6\u001b[39m, \u001b[39m1.4\u001b[39m), hue\u001b[39m=\u001b[39m(\u001b[39m-\u001b[39m\u001b[39m0.5\u001b[39m, \u001b[39m0.5\u001b[39m)),\n\u001b[0;32m      7\u001b[0m                                                transforms\u001b[39m.\u001b[39mRandomCrop(\u001b[39m160\u001b[39m),\n\u001b[0;32m      8\u001b[0m                                                transforms\u001b[39m.\u001b[39mRandomHorizontalFlip(p\u001b[39m=\u001b[39m\u001b[39m0.5\u001b[39m),\n\u001b[0;32m      9\u001b[0m                                                transforms\u001b[39m.\u001b[39mRandomVerticalFlip(p\u001b[39m=\u001b[39m\u001b[39m0.5\u001b[39m),\n\u001b[0;32m     10\u001b[0m                                                transforms\u001b[39m.\u001b[39mRandomRotation(degrees \u001b[39m=\u001b[39m (\u001b[39m0\u001b[39m,\u001b[39m180\u001b[39m)),\n\u001b[0;32m     11\u001b[0m                                                transforms\u001b[39m.\u001b[39mResize(\u001b[39m224\u001b[39m),\n\u001b[0;32m     12\u001b[0m                                                transforms\u001b[39m.\u001b[39mToTensor(),\n\u001b[0;32m     13\u001b[0m                                              \u001b[39m#   transforms.Normalize(mean = [0.2969593107700348, 0.29610514640808105, 0.29613879323005676],\u001b[39;00m\n\u001b[0;32m     14\u001b[0m                                              \u001b[39m#                        std= [0.19015252590179443, 0.18941254913806915, 0.18982695043087006])\u001b[39;00m\n\u001b[0;32m     15\u001b[0m \n\u001b[0;32m     16\u001b[0m                                            ]))\n\u001b[0;32m     18\u001b[0m \u001b[39m#On resize uniquement sur le test\u001b[39;00m\n\u001b[0;32m     19\u001b[0m transformed_test_dataset \u001b[39m=\u001b[39m dtld\u001b[39m.\u001b[39mCustomImageDataset(path_test,\u001b[39m'\u001b[39m\u001b[39m/content/bdappv/google/img\u001b[39m\u001b[39m'\u001b[39m,\n\u001b[0;32m     20\u001b[0m                                             transform\u001b[39m=\u001b[39mtransforms\u001b[39m.\u001b[39mCompose([\n\u001b[0;32m     21\u001b[0m                                                transforms\u001b[39m.\u001b[39mResize(\u001b[39m224\u001b[39m),\n\u001b[1;32m   (...)\u001b[0m\n\u001b[0;32m     24\u001b[0m                                              \u001b[39m#                        std= [0.16761955618858337, 0.14885342121124268, 0.1473139077425003])\u001b[39;00m\n\u001b[0;32m     25\u001b[0m                                            ]))\n",
            "\u001b[1;31mNameError\u001b[0m: name 'dtld' is not defined"
          ]
        }
      ],
      "source": [
        "path_train='/content/drive/MyDrive/train_data.csv'\n",
        "path_test='/content/drive/MyDrive/test_data.csv'\n",
        "\n",
        "transformed_train_dataset  = dtld.CustomImageDataset(path_train,'/content/bdappv/google/img', transform=transforms.Compose([\n",
        "                                               transforms.Resize(224),\n",
        "                                               transforms.ColorJitter(brightness=(0.6, 1.4), contrast=(0.6, 1.4), saturation=(0.6, 1.4), hue=(-0.5, 0.5)),\n",
        "                                               transforms.RandomCrop(160),\n",
        "                                               transforms.RandomHorizontalFlip(p=0.5),\n",
        "                                               transforms.RandomVerticalFlip(p=0.5),\n",
        "                                               transforms.RandomRotation(degrees = (0,180)),\n",
        "                                               transforms.Resize(224),\n",
        "                                               transforms.ToTensor(),\n",
        "                                               transforms.Normalize(mean = [0.2969593107700348, 0.29610514640808105, 0.29613879323005676],\n",
        "                                                                    std= [0.19015252590179443, 0.18941254913806915, 0.18982695043087006])\n",
        "\n",
        "                                           ]))\n",
        "\n",
        "#On resize uniquement sur le test\n",
        "transformed_test_dataset = dtld.CustomImageDataset(path_test,'/content/bdappv/google/img',\n",
        "                                            transform=transforms.Compose([\n",
        "                                               transforms.Resize(224),\n",
        "                                               transforms.ToTensor(),\n",
        "                                               transforms.Normalize(mean = [0.3499923348426819, 0.3576664924621582, 0.3081061840057373],\n",
        "                                                                    std= [0.16761955618858337, 0.14885342121124268, 0.1473139077425003])\n",
        "                                           ]))"
      ]
    },
    {
      "cell_type": "code",
      "execution_count": 8,
      "id": "41Sfxd_uq7LT",
      "metadata": {
        "colab": {
          "base_uri": "https://localhost:8080/"
        },
        "id": "41Sfxd_uq7LT",
        "outputId": "c7db8973-6837-4600-a0ba-d6664f7862d0"
      },
      "outputs": [
        {
          "name": "stdout",
          "output_type": "stream",
          "text": [
            "Nombre d'images dans le train: 23045\n",
            "Nombre d'images dans le test: 5762\n"
          ]
        }
      ],
      "source": [
        "print(\"Nombre d'images dans le train: {}\".format(transformed_train_dataset.__len__()))\n",
        "print(\"Nombre d'images dans le test: {}\".format(transformed_test_dataset.__len__()))"
      ]
    },
    {
      "cell_type": "code",
      "execution_count": 9,
      "id": "tQyPLEJRsPUa",
      "metadata": {
        "id": "tQyPLEJRsPUa"
      },
      "outputs": [],
      "source": [
        "train_dataloader = DataLoader(transformed_train_dataset, batch_size=23045, shuffle=True)\n",
        "test_dataloader = DataLoader(transformed_test_dataset, batch_size=5762, shuffle=True)"
      ]
    },
    {
      "cell_type": "markdown",
      "id": "yGfakcfMsW1P",
      "metadata": {
        "id": "yGfakcfMsW1P"
      },
      "source": [
        " # Implémentation ResNet18"
      ]
    },
    {
      "cell_type": "code",
      "execution_count": 10,
      "id": "JtrdFze9zkMG",
      "metadata": {
        "colab": {
          "base_uri": "https://localhost:8080/"
        },
        "id": "JtrdFze9zkMG",
        "outputId": "688bae1d-2ac8-4548-9308-13b2406c42c6"
      },
      "outputs": [
        {
          "name": "stdout",
          "output_type": "stream",
          "text": [
            "Model: \"ResNet18\"\n",
            "__________________________________________________________________________________________________\n",
            " Layer (type)                   Output Shape         Param #     Connected to                     \n",
            "==================================================================================================\n",
            " input_1 (InputLayer)           [(None, 224, 224, 3  0           []                               \n",
            "                                )]                                                                \n",
            "                                                                                                  \n",
            " conv2d (Conv2D)                (None, 224, 224, 64  1728        ['input_1[0][0]']                \n",
            "                                )                                                                 \n",
            "                                                                                                  \n",
            " batch_normalization (BatchNorm  (None, 224, 224, 64  256        ['conv2d[0][0]']                 \n",
            " alization)                     )                                                                 \n",
            "                                                                                                  \n",
            " activation (Activation)        (None, 224, 224, 64  0           ['batch_normalization[0][0]']    \n",
            "                                )                                                                 \n",
            "                                                                                                  \n",
            " conv2d_1 (Conv2D)              (None, 224, 224, 64  36864       ['activation[0][0]']             \n",
            "                                )                                                                 \n",
            "                                                                                                  \n",
            " batch_normalization_1 (BatchNo  (None, 224, 224, 64  256        ['conv2d_1[0][0]']               \n",
            " rmalization)                   )                                                                 \n",
            "                                                                                                  \n",
            " activation_1 (Activation)      (None, 224, 224, 64  0           ['batch_normalization_1[0][0]']  \n",
            "                                )                                                                 \n",
            "                                                                                                  \n",
            " conv2d_2 (Conv2D)              (None, 224, 224, 64  36864       ['activation_1[0][0]']           \n",
            "                                )                                                                 \n",
            "                                                                                                  \n",
            " batch_normalization_2 (BatchNo  (None, 224, 224, 64  256        ['conv2d_2[0][0]']               \n",
            " rmalization)                   )                                                                 \n",
            "                                                                                                  \n",
            " add (Add)                      (None, 224, 224, 64  0           ['activation[0][0]',             \n",
            "                                )                                 'batch_normalization_2[0][0]']  \n",
            "                                                                                                  \n",
            " activation_2 (Activation)      (None, 224, 224, 64  0           ['add[0][0]']                    \n",
            "                                )                                                                 \n",
            "                                                                                                  \n",
            " conv2d_3 (Conv2D)              (None, 224, 224, 64  36864       ['activation_2[0][0]']           \n",
            "                                )                                                                 \n",
            "                                                                                                  \n",
            " batch_normalization_3 (BatchNo  (None, 224, 224, 64  256        ['conv2d_3[0][0]']               \n",
            " rmalization)                   )                                                                 \n",
            "                                                                                                  \n",
            " activation_3 (Activation)      (None, 224, 224, 64  0           ['batch_normalization_3[0][0]']  \n",
            "                                )                                                                 \n",
            "                                                                                                  \n",
            " conv2d_4 (Conv2D)              (None, 224, 224, 64  36864       ['activation_3[0][0]']           \n",
            "                                )                                                                 \n",
            "                                                                                                  \n",
            " batch_normalization_4 (BatchNo  (None, 224, 224, 64  256        ['conv2d_4[0][0]']               \n",
            " rmalization)                   )                                                                 \n",
            "                                                                                                  \n",
            " add_1 (Add)                    (None, 224, 224, 64  0           ['activation_2[0][0]',           \n",
            "                                )                                 'batch_normalization_4[0][0]']  \n",
            "                                                                                                  \n",
            " activation_4 (Activation)      (None, 224, 224, 64  0           ['add_1[0][0]']                  \n",
            "                                )                                                                 \n",
            "                                                                                                  \n",
            " conv2d_6 (Conv2D)              (None, 112, 112, 12  73728       ['activation_4[0][0]']           \n",
            "                                8)                                                                \n",
            "                                                                                                  \n",
            " batch_normalization_6 (BatchNo  (None, 112, 112, 12  512        ['conv2d_6[0][0]']               \n",
            " rmalization)                   8)                                                                \n",
            "                                                                                                  \n",
            " activation_5 (Activation)      (None, 112, 112, 12  0           ['batch_normalization_6[0][0]']  \n",
            "                                8)                                                                \n",
            "                                                                                                  \n",
            " conv2d_5 (Conv2D)              (None, 112, 112, 12  8192        ['activation_4[0][0]']           \n",
            "                                8)                                                                \n",
            "                                                                                                  \n",
            " conv2d_7 (Conv2D)              (None, 112, 112, 12  147456      ['activation_5[0][0]']           \n",
            "                                8)                                                                \n",
            "                                                                                                  \n",
            " batch_normalization_5 (BatchNo  (None, 112, 112, 12  512        ['conv2d_5[0][0]']               \n",
            " rmalization)                   8)                                                                \n",
            "                                                                                                  \n",
            " batch_normalization_7 (BatchNo  (None, 112, 112, 12  512        ['conv2d_7[0][0]']               \n",
            " rmalization)                   8)                                                                \n",
            "                                                                                                  \n",
            " add_2 (Add)                    (None, 112, 112, 12  0           ['batch_normalization_5[0][0]',  \n",
            "                                8)                                'batch_normalization_7[0][0]']  \n",
            "                                                                                                  \n",
            " activation_6 (Activation)      (None, 112, 112, 12  0           ['add_2[0][0]']                  \n",
            "                                8)                                                                \n",
            "                                                                                                  \n",
            " conv2d_8 (Conv2D)              (None, 112, 112, 12  147456      ['activation_6[0][0]']           \n",
            "                                8)                                                                \n",
            "                                                                                                  \n",
            " batch_normalization_8 (BatchNo  (None, 112, 112, 12  512        ['conv2d_8[0][0]']               \n",
            " rmalization)                   8)                                                                \n",
            "                                                                                                  \n",
            " activation_7 (Activation)      (None, 112, 112, 12  0           ['batch_normalization_8[0][0]']  \n",
            "                                8)                                                                \n",
            "                                                                                                  \n",
            " conv2d_9 (Conv2D)              (None, 112, 112, 12  147456      ['activation_7[0][0]']           \n",
            "                                8)                                                                \n",
            "                                                                                                  \n",
            " batch_normalization_9 (BatchNo  (None, 112, 112, 12  512        ['conv2d_9[0][0]']               \n",
            " rmalization)                   8)                                                                \n",
            "                                                                                                  \n",
            " add_3 (Add)                    (None, 112, 112, 12  0           ['activation_6[0][0]',           \n",
            "                                8)                                'batch_normalization_9[0][0]']  \n",
            "                                                                                                  \n",
            " activation_8 (Activation)      (None, 112, 112, 12  0           ['add_3[0][0]']                  \n",
            "                                8)                                                                \n",
            "                                                                                                  \n",
            " conv2d_11 (Conv2D)             (None, 56, 56, 256)  294912      ['activation_8[0][0]']           \n",
            "                                                                                                  \n",
            " batch_normalization_11 (BatchN  (None, 56, 56, 256)  1024       ['conv2d_11[0][0]']              \n",
            " ormalization)                                                                                    \n",
            "                                                                                                  \n",
            " activation_9 (Activation)      (None, 56, 56, 256)  0           ['batch_normalization_11[0][0]'] \n",
            "                                                                                                  \n",
            " conv2d_10 (Conv2D)             (None, 56, 56, 256)  32768       ['activation_8[0][0]']           \n",
            "                                                                                                  \n",
            " conv2d_12 (Conv2D)             (None, 56, 56, 256)  589824      ['activation_9[0][0]']           \n",
            "                                                                                                  \n",
            " batch_normalization_10 (BatchN  (None, 56, 56, 256)  1024       ['conv2d_10[0][0]']              \n",
            " ormalization)                                                                                    \n",
            "                                                                                                  \n",
            " batch_normalization_12 (BatchN  (None, 56, 56, 256)  1024       ['conv2d_12[0][0]']              \n",
            " ormalization)                                                                                    \n",
            "                                                                                                  \n",
            " add_4 (Add)                    (None, 56, 56, 256)  0           ['batch_normalization_10[0][0]', \n",
            "                                                                  'batch_normalization_12[0][0]'] \n",
            "                                                                                                  \n",
            " activation_10 (Activation)     (None, 56, 56, 256)  0           ['add_4[0][0]']                  \n",
            "                                                                                                  \n",
            " conv2d_13 (Conv2D)             (None, 56, 56, 256)  589824      ['activation_10[0][0]']          \n",
            "                                                                                                  \n",
            " batch_normalization_13 (BatchN  (None, 56, 56, 256)  1024       ['conv2d_13[0][0]']              \n",
            " ormalization)                                                                                    \n",
            "                                                                                                  \n",
            " activation_11 (Activation)     (None, 56, 56, 256)  0           ['batch_normalization_13[0][0]'] \n",
            "                                                                                                  \n",
            " conv2d_14 (Conv2D)             (None, 56, 56, 256)  589824      ['activation_11[0][0]']          \n",
            "                                                                                                  \n",
            " batch_normalization_14 (BatchN  (None, 56, 56, 256)  1024       ['conv2d_14[0][0]']              \n",
            " ormalization)                                                                                    \n",
            "                                                                                                  \n",
            " add_5 (Add)                    (None, 56, 56, 256)  0           ['activation_10[0][0]',          \n",
            "                                                                  'batch_normalization_14[0][0]'] \n",
            "                                                                                                  \n",
            " activation_12 (Activation)     (None, 56, 56, 256)  0           ['add_5[0][0]']                  \n",
            "                                                                                                  \n",
            " conv2d_16 (Conv2D)             (None, 28, 28, 512)  1179648     ['activation_12[0][0]']          \n",
            "                                                                                                  \n",
            " batch_normalization_16 (BatchN  (None, 28, 28, 512)  2048       ['conv2d_16[0][0]']              \n",
            " ormalization)                                                                                    \n",
            "                                                                                                  \n",
            " activation_13 (Activation)     (None, 28, 28, 512)  0           ['batch_normalization_16[0][0]'] \n",
            "                                                                                                  \n",
            " conv2d_15 (Conv2D)             (None, 28, 28, 512)  131072      ['activation_12[0][0]']          \n",
            "                                                                                                  \n",
            " conv2d_17 (Conv2D)             (None, 28, 28, 512)  2359296     ['activation_13[0][0]']          \n",
            "                                                                                                  \n",
            " batch_normalization_15 (BatchN  (None, 28, 28, 512)  2048       ['conv2d_15[0][0]']              \n",
            " ormalization)                                                                                    \n",
            "                                                                                                  \n",
            " batch_normalization_17 (BatchN  (None, 28, 28, 512)  2048       ['conv2d_17[0][0]']              \n",
            " ormalization)                                                                                    \n",
            "                                                                                                  \n",
            " add_6 (Add)                    (None, 28, 28, 512)  0           ['batch_normalization_15[0][0]', \n",
            "                                                                  'batch_normalization_17[0][0]'] \n",
            "                                                                                                  \n",
            " activation_14 (Activation)     (None, 28, 28, 512)  0           ['add_6[0][0]']                  \n",
            "                                                                                                  \n",
            " conv2d_18 (Conv2D)             (None, 28, 28, 512)  2359296     ['activation_14[0][0]']          \n",
            "                                                                                                  \n",
            " batch_normalization_18 (BatchN  (None, 28, 28, 512)  2048       ['conv2d_18[0][0]']              \n",
            " ormalization)                                                                                    \n",
            "                                                                                                  \n",
            " activation_15 (Activation)     (None, 28, 28, 512)  0           ['batch_normalization_18[0][0]'] \n",
            "                                                                                                  \n",
            " conv2d_19 (Conv2D)             (None, 28, 28, 512)  2359296     ['activation_15[0][0]']          \n",
            "                                                                                                  \n",
            " batch_normalization_19 (BatchN  (None, 28, 28, 512)  2048       ['conv2d_19[0][0]']              \n",
            " ormalization)                                                                                    \n",
            "                                                                                                  \n",
            " add_7 (Add)                    (None, 28, 28, 512)  0           ['activation_14[0][0]',          \n",
            "                                                                  'batch_normalization_19[0][0]'] \n",
            "                                                                                                  \n",
            " activation_16 (Activation)     (None, 28, 28, 512)  0           ['add_7[0][0]']                  \n",
            "                                                                                                  \n",
            " average_pooling2d (AveragePool  (None, 7, 7, 512)   0           ['activation_16[0][0]']          \n",
            " ing2D)                                                                                           \n",
            "                                                                                                  \n",
            " flatten (Flatten)              (None, 25088)        0           ['average_pooling2d[0][0]']      \n",
            "                                                                                                  \n",
            " dense (Dense)                  (None, 1)            25089       ['flatten[0][0]']                \n",
            "                                                                                                  \n",
            "==================================================================================================\n",
            "Total params: 11,203,521\n",
            "Trainable params: 11,193,921\n",
            "Non-trainable params: 9,600\n",
            "__________________________________________________________________________________________________\n"
          ]
        }
      ],
      "source": [
        "from keras.optimizers import SGD\n",
        "import keras\n",
        "import tensorflow as tf\n",
        "\n",
        "model = resnet18.buildModel()"
      ]
    },
    {
      "cell_type": "code",
      "execution_count": null,
      "id": "FbfFv3lupyUU",
      "metadata": {
        "id": "FbfFv3lupyUU"
      },
      "outputs": [],
      "source": [
        "X_train, Y_train=next(iter(train_dataloader))\n",
        "X_test, Y_test=next(iter(test_dataloader))"
      ]
    },
    {
      "cell_type": "code",
      "execution_count": null,
      "id": "6AJudF_coekW",
      "metadata": {
        "id": "6AJudF_coekW"
      },
      "outputs": [],
      "source": [
        "X_train_permute=X_train.permute(0, 2, 3,1)\n",
        "X_test_permute=X_test.permute(0, 2, 3,1)"
      ]
    },
    {
      "cell_type": "markdown",
      "id": "jBWM12pxcvQK",
      "metadata": {
        "id": "jBWM12pxcvQK"
      },
      "source": [
        "# Lancement du modèle\n",
        "\n",
        "Les cinq premières métriques représentent les performances de notre algorithme sur l'échantillon d'entrainement, les cinq dernières valeurs (celles précédées du préfixe val_) sont elles calculées sur l'échantillon de test. "
      ]
    },
    {
      "cell_type": "code",
      "execution_count": null,
      "id": "Gkds0SmvZtxN",
      "metadata": {
        "colab": {
          "base_uri": "https://localhost:8080/"
        },
        "id": "Gkds0SmvZtxN",
        "outputId": "72f37518-16e4-4f61-c8f9-eb3e9aa4d306"
      },
      "outputs": [
        {
          "name": "stdout",
          "output_type": "stream",
          "text": [
            "Epoch 1/5\n",
            "1/1 [==============================] - 270s 270s/step - loss: 1.1313 - Accuracy: 0.4375 - recall_m: 0.4706 - precision_m: 0.4706 - f1_m: 0.4706 - val_loss: 1.0626 - val_Accuracy: 0.5000 - val_recall_m: 0.8235 - val_precision_m: 0.5185 - val_f1_m: 0.6364\n",
            "Epoch 2/5\n",
            "1/1 [==============================] - 192s 192s/step - loss: 1.1129 - Accuracy: 0.4688 - recall_m: 0.5294 - precision_m: 0.5000 - f1_m: 0.5143 - val_loss: 1.0626 - val_Accuracy: 0.5000 - val_recall_m: 0.8235 - val_precision_m: 0.5185 - val_f1_m: 0.6364\n",
            "Epoch 3/5\n",
            "1/1 [==============================] - 187s 187s/step - loss: 1.0952 - Accuracy: 0.4688 - recall_m: 0.5294 - precision_m: 0.5000 - f1_m: 0.5143 - val_loss: 1.0628 - val_Accuracy: 0.4688 - val_recall_m: 0.7647 - val_precision_m: 0.5000 - val_f1_m: 0.6047\n",
            "Epoch 4/5\n",
            "1/1 [==============================] - 198s 198s/step - loss: 1.0784 - Accuracy: 0.5312 - recall_m: 0.5882 - precision_m: 0.5556 - f1_m: 0.5714 - val_loss: 1.0634 - val_Accuracy: 0.4375 - val_recall_m: 0.7059 - val_precision_m: 0.4800 - val_f1_m: 0.5714\n",
            "Epoch 5/5\n",
            "1/1 [==============================] - 196s 196s/step - loss: 1.0624 - Accuracy: 0.5312 - recall_m: 0.5882 - precision_m: 0.5556 - f1_m: 0.5714 - val_loss: 1.0641 - val_Accuracy: 0.4375 - val_recall_m: 0.7059 - val_precision_m: 0.4800 - val_f1_m: 0.5714\n"
          ]
        },
        {
          "data": {
            "text/plain": [
              "<keras.callbacks.History at 0x7fed929b9550>"
            ]
          },
          "execution_count": 117,
          "metadata": {},
          "output_type": "execute_result"
        }
      ],
      "source": [
        "model.fit(x = X_train_permute.numpy(), y = Y_train.numpy(),\n",
        "\tvalidation_data=(X_test_permute.numpy(), Y_test.numpy()),\n",
        "\tbatch_size=32,\n",
        "\tepochs=5)"
      ]
    },
    {
      "cell_type": "code",
      "execution_count": null,
      "id": "TC8-oY5DwVC5",
      "metadata": {
        "colab": {
          "base_uri": "https://localhost:8080/"
        },
        "id": "TC8-oY5DwVC5",
        "outputId": "f5d00ad6-a191-4d22-e500-1cc5fc68021f"
      },
      "outputs": [
        {
          "name": "stdout",
          "output_type": "stream",
          "text": [
            "Loss sur l'échantillon test: 1.064\n",
            "Accuracy sur l'échantillon test: 0.438\n",
            "Recall sur l'échantillon test: 0.706\n",
            "Precision sur l'échantillon test: 0.48\n",
            "F1-score sur l'échantillon test: 0.571\n"
          ]
        }
      ],
      "source": [
        "loss, accuracy, recall_m, precision_m, f1_m = model.evaluate(X_test_permute.numpy(), Y_test.numpy(), verbose=0)\n",
        "print(\"Loss sur l'échantillon test: {}\".format(np.round(loss,3)))\n",
        "print(\"Accuracy sur l'échantillon test: {}\".format(np.round(accuracy,3)))\n",
        "print(\"Recall sur l'échantillon test: {}\".format(np.round(recall_m,3)))\n",
        "print(\"Precision sur l'échantillon test: {}\".format(np.round(precision_m,3)))\n",
        "print(\"F1-score sur l'échantillon test: {}\".format(np.round(f1_m,3)))"
      ]
    },
    {
      "cell_type": "code",
      "execution_count": null,
      "id": "t7BtkwuiYbdE",
      "metadata": {
        "colab": {
          "base_uri": "https://localhost:8080/"
        },
        "id": "t7BtkwuiYbdE",
        "outputId": "a611c268-7d86-4111-c5e7-9d6a755d157d"
      },
      "outputs": [
        {
          "name": "stderr",
          "output_type": "stream",
          "text": [
            "WARNING:tensorflow:6 out of the last 7 calls to <function Model.make_predict_function.<locals>.predict_function at 0x7fed92ee0820> triggered tf.function retracing. Tracing is expensive and the excessive number of tracings could be due to (1) creating @tf.function repeatedly in a loop, (2) passing tensors with different shapes, (3) passing Python objects instead of tensors. For (1), please define your @tf.function outside of the loop. For (2), @tf.function has reduce_retracing=True option that can avoid unnecessary retracing. For (3), please refer to https://www.tensorflow.org/guide/function#controlling_retracing and https://www.tensorflow.org/api_docs/python/tf/function for  more details.\n"
          ]
        },
        {
          "name": "stdout",
          "output_type": "stream",
          "text": [
            "1/1 [==============================] - 38s 38s/step\n"
          ]
        }
      ],
      "source": [
        "prob_predict = model.predict(X_test_permute.numpy())\n",
        "y_pred = (np.squeeze(prob_predict) > 0.5).astype(\"int32\")"
      ]
    },
    {
      "cell_type": "code",
      "execution_count": null,
      "id": "7w_RiZwBYxkp",
      "metadata": {
        "colab": {
          "base_uri": "https://localhost:8080/"
        },
        "id": "7w_RiZwBYxkp",
        "outputId": "569796ae-9622-443a-8d4a-801332048e1c"
      },
      "outputs": [
        {
          "name": "stdout",
          "output_type": "stream",
          "text": [
            "Nombre d'images prédites avec panneaux: 25\n",
            "Nombre d'images prédites sans panneau: 7\n"
          ]
        }
      ],
      "source": [
        "unique, counts = np.unique(y_pred, return_counts=True)\n",
        "res=dict(zip(unique, counts))\n",
        "print(\"Nombre d'images prédites avec panneaux: {}\".format(res[1]))\n",
        "print(\"Nombre d'images prédites sans panneau: {}\".format(res[0]))"
      ]
    },
    {
      "cell_type": "code",
      "execution_count": null,
      "id": "KDV7xwf1Y2uE",
      "metadata": {
        "colab": {
          "base_uri": "https://localhost:8080/",
          "height": 279
        },
        "id": "KDV7xwf1Y2uE",
        "outputId": "581ed079-fba5-4445-9024-959229631cab"
      },
      "outputs": [
        {
          "data": {
            "image/png": "[encoded data removed]",
            "text/plain": [
              "<Figure size 432x288 with 2 Axes>"
            ]
          },
          "metadata": {
            "needs_background": "light"
          },
          "output_type": "display_data"
        }
      ],
      "source": [
        "from sklearn.metrics import confusion_matrix, ConfusionMatrixDisplay\n",
        "\n",
        "r = confusion_matrix(Y_test, y_pred)\n",
        "r = np.flip(r)\n",
        "\n",
        "cm_display = ConfusionMatrixDisplay(confusion_matrix = r, display_labels = [False, True])\n",
        "cm_display.plot()\n",
        "plt.show()"
      ]
    }
  ],
  "metadata": {
    "accelerator": "GPU",
    "colab": {
      "provenance": []
    },
    "gpuClass": "standard",
    "kernelspec": {
      "display_name": "Python 3",
      "language": "python",
      "name": "python3"
    },
    "language_info": {
      "codemirror_mode": {
        "name": "ipython",
        "version": 3
      },
      "file_extension": ".py",
      "mimetype": "text/x-python",
      "name": "python",
      "nbconvert_exporter": "python",
      "pygments_lexer": "ipython3",
      "version": "3.9.13"
    }
  },
  "nbformat": 4,
  "nbformat_minor": 5
}
