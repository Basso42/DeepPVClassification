{
 "cells": [
  {
   "cell_type": "code",
   "execution_count": 6,
   "metadata": {},
   "outputs": [],
   "source": [
    "import matplotlib.pyplot as plt\n",
    "import matplotlib.image as mpimg\n",
    "import numpy as np\n",
    "import os"
   ]
  },
  {
   "cell_type": "code",
   "execution_count": 9,
   "metadata": {},
   "outputs": [],
   "source": [
    "def deleteNA_img(parent_dir, path_NA_file):\n",
    "    \"\"\"Supprime les images NA\n",
    "\n",
    "    Args:\n",
    "        parent_dir (str): dossier contenant les images\n",
    "        path_NA_file (str): path vers une image NA\n",
    "    \"\"\"\n",
    "    NA_img=mpimg.imread(path_NA_file)\n",
    "    for (dirpath, dirnames, filenames) in os.walk(parent_dir):\n",
    "        for file in filenames:\n",
    "            img_file=mpimg.imread(f'{dirpath}/{file}')\n",
    "            if np.array_equal(img_file, NA_img):\n",
    "                os.remove(f'{dirpath}/{file}')"
   ]
  },
  {
   "cell_type": "code",
   "execution_count": 10,
   "metadata": {},
   "outputs": [],
   "source": [
    "deleteNA_img(parent_dir='C:/Users/yanis/OneDrive/Documents/Projet Stat/Données/bdappv/google2/img', path_NA_file='C:/Users/yanis/OneDrive/Documents/Projet Stat/Données/bdappv/google2/img/AASNS567FOZJTZ.png')"
   ]
  }
 ],
 "metadata": {
  "kernelspec": {
   "display_name": "base",
   "language": "python",
   "name": "python3"
  },
  "language_info": {
   "codemirror_mode": {
    "name": "ipython",
    "version": 3
   },
   "file_extension": ".py",
   "mimetype": "text/x-python",
   "name": "python",
   "nbconvert_exporter": "python",
   "pygments_lexer": "ipython3",
   "version": "3.9.13"
  },
  "orig_nbformat": 4
 },
 "nbformat": 4,
 "nbformat_minor": 2
}
