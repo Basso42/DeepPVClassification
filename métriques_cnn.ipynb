{
 "cells": [
  {
   "attachments": {},
   "cell_type": "markdown",
   "metadata": {},
   "source": [
    "$\\textbf{Sur les métriques en deep learning}$"
   ]
  },
  {
   "attachments": {},
   "cell_type": "markdown",
   "metadata": {},
   "source": [
    "En se place en classification binaire: $\\mathcal{Y}=\\{0,1\\}$"
   ]
  },
  {
   "cell_type": "code",
   "execution_count": 1,
   "metadata": {},
   "outputs": [],
   "source": [
    "import sklearn.metrics\n",
    "import numpy as np\n",
    "import matplotlib.pyplot as plt"
   ]
  },
  {
   "attachments": {},
   "cell_type": "markdown",
   "metadata": {},
   "source": [
    "# Métriques probabilistes"
   ]
  },
  {
   "attachments": {},
   "cell_type": "markdown",
   "metadata": {},
   "source": [
    "Ce sont les fonctions de perte que l'on cherche à minimiser lorsque l'on cherche à optimiser les performances d'un modèle de classification binaire. Ces métriques sont fréquemment utilisées dans le cadre des réseaux de neurones."
   ]
  },
  {
   "attachments": {},
   "cell_type": "markdown",
   "metadata": {},
   "source": [
    "## Enthropie croisée binaire (Binary Cross-Entropy / Log Loss)"
   ]
  },
  {
   "attachments": {},
   "cell_type": "markdown",
   "metadata": {},
   "source": [
    "On note: $\\forall{i \\in {1,...,n}}$:\n",
    "* $p_i=P(Y_i=1)$\n",
    "* $\\hat{p}_i=P(\\hat{Y}_i=1)$\n",
    "\n",
    "La log loss est définie par:\n",
    "\n",
    "\\begin{equation}\n",
    "\n",
    "-\\frac{1}{n}\\sum_{i=1}^n(y_i\\log(\\hat{p_i})+(1-y_i) \\log(1-\\hat{p_i}))\n",
    "\n",
    "\\end{equation}\n",
    "\n",
    "Minimiser la cross-entropy revient à maximiser la vraisemblance du modèle en régression logistique (cf. TP1).\n",
    "\n",
    "$\\underline{Remarque}$: la cross-entropy peut aussi être définie en classification multi-classes.\n",
    "\n",
    "La binary cross-entropy mesure la différence entre deux distributions de probabilités.\n",
    "\n",
    "C'est la référence lorsque l'on construit un réseau de neurones. Néanmoins, elle n'est pas adaptée aux jeux de données déséquilibrés. D'où l'usage des métriques de classification."
   ]
  },
  {
   "cell_type": "code",
   "execution_count": 9,
   "metadata": {},
   "outputs": [
    {
     "data": {
      "text/plain": [
       "0.81492424"
      ]
     },
     "execution_count": 9,
     "metadata": {},
     "output_type": "execute_result"
    }
   ],
   "source": [
    "import tensorflow as tf\n",
    "\n",
    "m = tf.keras.metrics.BinaryCrossentropy()\n",
    "m.update_state([[0, 1], [0, 0]], [[0.6, 0.4], [0.4, 0.6]])\n",
    "m.result().numpy()"
   ]
  },
  {
   "attachments": {},
   "cell_type": "markdown",
   "metadata": {},
   "source": [
    "## Plein d'autres métriques..."
   ]
  },
  {
   "attachments": {},
   "cell_type": "markdown",
   "metadata": {},
   "source": [
    "Que ce soit pour la classification, la segmentation d'images ou la détection d'objets.\n",
    "* Classification: on identifie une classe au sein d'une image\n",
    "* Détection: se superpose à la classification en ajoutant la localisation de l'objet (représenté par des rectangles appelés bounding box)\n",
    "* Segmentation: on classe chaque pixel d'une image en un label particulier\n",
    "\n",
    "Voir: https://deeplylearning.fr/category/cours-theoriques-deep-learning/"
   ]
  },
  {
   "attachments": {},
   "cell_type": "markdown",
   "metadata": {},
   "source": [
    "Pour les métriques:\n",
    "https://deeplylearning.fr/category/cours-theoriques-deep-learning/\n",
    "\n",
    "https://keras.io/api/metrics/probabilistic_metrics/"
   ]
  },
  {
   "attachments": {},
   "cell_type": "markdown",
   "metadata": {},
   "source": [
    "# Métriques de classification"
   ]
  },
  {
   "attachments": {},
   "cell_type": "markdown",
   "metadata": {},
   "source": [
    "## Matrice de confusion"
   ]
  },
  {
   "cell_type": "code",
   "execution_count": 3,
   "metadata": {},
   "outputs": [
    {
     "data": {
      "image/png": "[encoded data removed]",
      "text/plain": [
       "<Figure size 640x480 with 2 Axes>"
      ]
     },
     "metadata": {},
     "output_type": "display_data"
    }
   ],
   "source": [
    "import sklearn.metrics\n",
    "\n",
    "y_true = [\"positive\", \"negative\", \"negative\", \"positive\", \"positive\", \"positive\", \"negative\"]\n",
    "y_pred = [\"positive\", \"negative\", \"positive\", \"positive\", \"negative\", \"positive\", \"positive\"]\n",
    "\n",
    "r = sklearn.metrics.confusion_matrix(y_true, y_pred)\n",
    "r = np.flip(r)\n",
    "\n",
    "cm_display = sklearn.metrics.ConfusionMatrixDisplay(confusion_matrix = r, display_labels = [False, True])\n",
    "cm_display.plot()\n",
    "plt.show()"
   ]
  },
  {
   "attachments": {},
   "cell_type": "markdown",
   "metadata": {},
   "source": [
    "Même si la matrice de confusion est utile pour évaluer les performances d'un modèle, on préfère des mesures uniques. Ces dernières permettent de mesurer les performances globales du modèles et de considérer un problème de machine learning comme un problème de minimisation. Voici les principales métriques dérivées."
   ]
  },
  {
   "attachments": {},
   "cell_type": "markdown",
   "metadata": {},
   "source": [
    "## Accuracy"
   ]
  },
  {
   "attachments": {},
   "cell_type": "markdown",
   "metadata": {},
   "source": [
    "\\begin{equation}\n",
    "    Accuracy=\\frac{TP+TN}{TP+TN+FP+FN}\n",
    "\\end{equation}"
   ]
  },
  {
   "attachments": {},
   "cell_type": "markdown",
   "metadata": {},
   "source": [
    "C'est le ratio entre le nombre total de prédictions correctes et le nombre total de prédictions.\n",
    "\n",
    "L'accuracy mesure la performance du modèle sur toutes les classes. La métrique est utile lorsque les classes sont équilibrées. A l'inverse, elle n'est pas robuste lorsque les classes sont déséquilibrées."
   ]
  },
  {
   "cell_type": "code",
   "execution_count": 4,
   "metadata": {},
   "outputs": [
    {
     "data": {
      "text/plain": [
       "0.5714285714285714"
      ]
     },
     "execution_count": 4,
     "metadata": {},
     "output_type": "execute_result"
    }
   ],
   "source": [
    "sklearn.metrics.accuracy_score(y_true, y_pred)"
   ]
  },
  {
   "attachments": {},
   "cell_type": "markdown",
   "metadata": {},
   "source": [
    "## Precision"
   ]
  },
  {
   "attachments": {},
   "cell_type": "markdown",
   "metadata": {},
   "source": [
    "\\begin{equation}\n",
    "    Precision=\\frac{TP}{TP+FP}\n",
    "\\end{equation}"
   ]
  },
  {
   "attachments": {},
   "cell_type": "markdown",
   "metadata": {},
   "source": [
    "C'est la part de vrais positifs parmi l'ensemble des individus prédits comme positifs. Dis autrement, c'est la pourcentage d'individus prédits comme positifs, correctement classés comme positifs.\n",
    "\n",
    "La precision mesure la fiabilité du modèle pour classer uniquement les individus positifs comme positifs.\n",
    "\n",
    "La precision est élevée si:\n",
    "* Beaucoup d'individus positifs sont prédits comme tel (maximise TP)\n",
    "* Peu d'individus négatifs sont classés positifs (minimise FP)\n",
    "\n",
    "Si la précision est élevée, on peut faire confiance lorsque le modèle prédit un individu comme positif."
   ]
  },
  {
   "cell_type": "code",
   "execution_count": 5,
   "metadata": {},
   "outputs": [
    {
     "data": {
      "text/plain": [
       "0.6"
      ]
     },
     "execution_count": 5,
     "metadata": {},
     "output_type": "execute_result"
    }
   ],
   "source": [
    "precision = sklearn.metrics.precision_score(y_true, y_pred, pos_label=\"positive\")\n",
    "precision"
   ]
  },
  {
   "attachments": {},
   "cell_type": "markdown",
   "metadata": {},
   "source": [
    "## Recall"
   ]
  },
  {
   "attachments": {},
   "cell_type": "markdown",
   "metadata": {},
   "source": [
    "\\begin{equation}\n",
    "    Recall=\\frac{TP}{TP+FN}\n",
    "\\end{equation}"
   ]
  },
  {
   "attachments": {},
   "cell_type": "markdown",
   "metadata": {},
   "source": [
    "C'est la part de vrais positifs parmi l'ensemble des individus positifs. Dis autrement, c'est la pourcentage d'individus positifs correctement classés comme positifs. Avec le Recall, on s'intéresse uniquement à la manière dont les individus positifs sont classés.\n",
    "\n",
    "Le Recall est élevé si:\n",
    "* Beaucoup d'individus positifs sont prédits comme tel (maximise TP)\n",
    "* Peu d'individus positifs sont prédits comme tel (minimise FN)\n",
    "\n",
    "Ainsi, le taux de faux positifs (FP) n'intervient pas. Par exemple, si tous les individus (positifs ou négatifs) sont prédits comme positifs, $TP=1$, $FN=0$. Donc, $Recall=1$. A l'inverse, si tous les individus sont classés comme négatifs, $TP=0$, donc $Recall=0$."
   ]
  },
  {
   "cell_type": "code",
   "execution_count": 6,
   "metadata": {},
   "outputs": [
    {
     "data": {
      "text/plain": [
       "0.75"
      ]
     },
     "execution_count": 6,
     "metadata": {},
     "output_type": "execute_result"
    }
   ],
   "source": [
    "recall = sklearn.metrics.recall_score(y_true, y_pred, pos_label=\"positive\")\n",
    "recall"
   ]
  },
  {
   "attachments": {},
   "cell_type": "markdown",
   "metadata": {},
   "source": [
    "## F-$\\beta$ score"
   ]
  },
  {
   "attachments": {},
   "cell_type": "markdown",
   "metadata": {},
   "source": [
    "\\begin{equation}\n",
    "    F_{\\beta}=\\frac{(1+\\beta^2)precision \\times recall}{\\beta^2 \\times precision + recall}\n",
    "\\end{equation}"
   ]
  },
  {
   "attachments": {},
   "cell_type": "markdown",
   "metadata": {},
   "source": [
    "C'est une moyenne harmonique pondérée de la precision et du recall.\n",
    "* $\\beta \\lt 1$: on pénalise le recall au profit de la precision (généralement $\\beta=0.5$)\n",
    "* $\\beta = 1$: on accorde le même poids à la precision et au recall\n",
    "* $\\beta \\gt 1$: on pénalise la precision au profit du recall (généralement $\\beta=2$)"
   ]
  },
  {
   "cell_type": "code",
   "execution_count": 14,
   "metadata": {},
   "outputs": [
    {
     "name": "stdout",
     "output_type": "stream",
     "text": [
      "F_0.5 score: 0.625\n",
      "F1 score: 0.6666666666666665\n",
      "F2 score: 0.7142857142857143\n"
     ]
    }
   ],
   "source": [
    "f05_score=sklearn.metrics.fbeta_score(y_true, y_pred, pos_label=\"positive\", beta=0.5)\n",
    "print(\"F_0.5 score: {}\".format(f05_score))\n",
    "f1_score = sklearn.metrics.f1_score(y_true, y_pred, pos_label=\"positive\")\n",
    "print(\"F1 score: {}\".format(f1_score))\n",
    "f2_score=sklearn.metrics.fbeta_score(y_true, y_pred, pos_label=\"positive\", beta=2)\n",
    "print(\"F2 score: {}\".format(f2_score))"
   ]
  },
  {
   "attachments": {},
   "cell_type": "markdown",
   "metadata": {},
   "source": [
    "# Conclusion: accuracy, precision ou recall?"
   ]
  },
  {
   "attachments": {},
   "cell_type": "markdown",
   "metadata": {},
   "source": [
    "* L'accuracy mesure la performance globale du modèle sur toutes les classes. C'est une métrique adéquate lors des premières analyses, dans n'importe quel contexte.\n",
    "\n",
    "* Si on souhaite éviter d'avoir des faux positifs, la precision est un bon choix. Par exemple, si on veut détecter l'existence d'appareils militaires en provenance de pays étrangers à l'aide d'images aériennes, il faut être sûr de la véracité de l'information lorsque l'on annonce cette dernière au gouvernement. Ainsi, on souhaite éviter au maximum la présence de faux positifs. On va donc plutôt utiliser la precision (ou un F-$\\beta$ score avec $\\beta \\lt 1$)\n",
    "\n",
    "* Si on souhaite qu'un individu positif soit absolument classé comme tel, alors on privilégiera le recall. Dans le cadre du sujet, l'objectif est de détecter tous les panneaux solaires. Dans une moindre mesure, détecter certaines structures en tant que panneaux solaires n'induit pas des conséquences graves pour RTE. On se concentrera donc plutôt sur le recall (ou un F-$\\beta$ score avec $\\beta \\gt 1$) "
   ]
  }
 ],
 "metadata": {
  "kernelspec": {
   "display_name": "base",
   "language": "python",
   "name": "python3"
  },
  "language_info": {
   "codemirror_mode": {
    "name": "ipython",
    "version": 3
   },
   "file_extension": ".py",
   "mimetype": "text/x-python",
   "name": "python",
   "nbconvert_exporter": "python",
   "pygments_lexer": "ipython3",
   "version": "3.9.13"
  },
  "orig_nbformat": 4
 },
 "nbformat": 4,
 "nbformat_minor": 2
}
