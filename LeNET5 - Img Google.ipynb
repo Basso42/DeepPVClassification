{
 "cells": [
  {
   "cell_type": "code",
   "execution_count": 1,
   "metadata": {},
   "outputs": [],
   "source": [
    "from src.dataloader import *\n",
    "\n",
    "from torch.utils.data import DataLoader\n",
    "import matplotlib.pyplot as plt\n",
    "from torchvision import transforms, datasets\n"
   ]
  },
  {
   "attachments": {},
   "cell_type": "markdown",
   "metadata": {},
   "source": [
    "# Import des données"
   ]
  },
  {
   "attachments": {},
   "cell_type": "markdown",
   "metadata": {},
   "source": [
    "Terminologie:\n",
    "* 1 epoch = un forward et un backward pass sur les individus tirés\n",
    "* batch size = nombre d'individus de l'échantillon d'apprentissage dans un forward/backward pass. Plus le batck size est élevé, plus il faut de mémoire\n",
    "* number of iterations = nombre de passes, chaque pass utilisant [batch size] number of examples. \n",
    "  1 pass = 1 forward pass + 1 backward pass (we do not count the forward pass and backward pass as two different passes).\n",
    "\n",
    "Exemple: si j'ai 1000 individus dans l'échantillon d'apprentissage, et que batch_size=500.\n",
    "* 1st pass: 500 individus tirés pour le forward\n",
    "* 2nd pass: 500 individus tirés pour le backward\n",
    "\n",
    "Donc, il faut 2 itérations pour réaliser un epoch."
   ]
  },
  {
   "cell_type": "code",
   "execution_count": 2,
   "metadata": {},
   "outputs": [],
   "source": [
    "label_attribution=LabelAttribution(path_image_google=\"C:/Users/yanis/OneDrive/Documents/Projet Stat/Données/bdappv/google/img/\", \n",
    "                                   path_mask_google='C:/Users/yanis/OneDrive/Documents/Projet Stat/Données/bdappv/google/mask/',\n",
    "                                   path_metadata='C:/Users/yanis/OneDrive/Documents/Projet Stat/Données/bdappv/metadata.csv',\n",
    "                                   colonne_identifiant='identifiant',\n",
    "                                   path_export_train_test=\"C:/Users/yanis/OneDrive/Documents/Projet Stat/statapps\",\n",
    "                                   path_image_ign='C:/Users/yanis/OneDrive/Documents/Projet Stat/Données/bdappv/ign/img',\n",
    "                                   path_mask_ign='C:/Users/yanis/OneDrive/Documents/Projet Stat/Données/bdappv/ign/mask/',\n",
    "                                   use_img_google=True,\n",
    "                                   use_img_ign=False\n",
    "                                    )"
   ]
  },
  {
   "cell_type": "code",
   "execution_count": 3,
   "metadata": {},
   "outputs": [],
   "source": [
    "label_attribution.run()"
   ]
  },
  {
   "attachments": {},
   "cell_type": "markdown",
   "metadata": {},
   "source": [
    "Le LeNET5 a été conçu pour prendre en entrée des images de dimension 28*28. On passe donc les images 400 x 400 en 28 x 28. On convertit ensuite ces dernières en tenseurs. "
   ]
  },
  {
   "cell_type": "code",
   "execution_count": 4,
   "metadata": {},
   "outputs": [],
   "source": [
    "path_train=\"C:/Users/yanis/OneDrive/Documents/Projet Stat/statapps/train_data.csv\"\n",
    "path_test=\"C:/Users/yanis/OneDrive/Documents/Projet Stat/statapps/test_data.csv\"\n",
    "\n",
    "transformed_train_dataset  = CustomImageDataset(path_train,\"C:/Users/yanis/OneDrive/Documents/Projet Stat/Données/bdappv/google/img/\", transform=transforms.Compose([\n",
    "                                               transforms.Resize(28),\n",
    "                                               transforms.ToTensor()\n",
    "                                           ]))\n",
    "transformed_test_dataset = CustomImageDataset(path_test,\"C:/Users/yanis/OneDrive/Documents/Projet Stat/Données/bdappv/google/img/\",\n",
    "                                                transform=transforms.Compose([\n",
    "                                               transforms.Resize(28),\n",
    "                                               transforms.ToTensor(),\n",
    "                                           ]))"
   ]
  },
  {
   "cell_type": "code",
   "execution_count": 5,
   "metadata": {},
   "outputs": [
    {
     "name": "stdout",
     "output_type": "stream",
     "text": [
      "Nombre d'images dans le train: 23045\n",
      "Nombre d'images dans le test: 5762\n"
     ]
    }
   ],
   "source": [
    "print(\"Nombre d'images dans le train: {}\".format(transformed_train_dataset.__len__()))\n",
    "print(\"Nombre d'images dans le test: {}\".format(transformed_test_dataset.__len__()))"
   ]
  },
  {
   "cell_type": "code",
   "execution_count": 6,
   "metadata": {},
   "outputs": [
    {
     "data": {
      "text/plain": [
       "tensor([[[0.2118, 0.1020, 0.1176,  ..., 0.4196, 0.4000, 0.4353],\n",
       "         [0.1882, 0.1412, 0.1294,  ..., 0.4353, 0.4588, 0.5412],\n",
       "         [0.2431, 0.2196, 0.2275,  ..., 0.4549, 0.4157, 0.2392],\n",
       "         ...,\n",
       "         [0.2392, 0.1255, 0.1020,  ..., 0.1137, 0.1137, 0.1255],\n",
       "         [0.2706, 0.2431, 0.2588,  ..., 0.1020, 0.0980, 0.1137],\n",
       "         [0.2980, 0.3412, 0.3843,  ..., 0.1647, 0.1843, 0.1647]],\n",
       "\n",
       "        [[0.2392, 0.1255, 0.1529,  ..., 0.4275, 0.4392, 0.4784],\n",
       "         [0.2196, 0.1608, 0.1529,  ..., 0.4392, 0.4706, 0.5647],\n",
       "         [0.2902, 0.2549, 0.2706,  ..., 0.4588, 0.4275, 0.2745],\n",
       "         ...,\n",
       "         [0.3098, 0.1569, 0.1137,  ..., 0.1176, 0.1098, 0.1216],\n",
       "         [0.3294, 0.2471, 0.2667,  ..., 0.1059, 0.0980, 0.1098],\n",
       "         [0.3451, 0.3490, 0.3922,  ..., 0.1647, 0.1843, 0.1647]],\n",
       "\n",
       "        [[0.1882, 0.0941, 0.1098,  ..., 0.3922, 0.3569, 0.4039],\n",
       "         [0.1608, 0.1216, 0.1098,  ..., 0.4078, 0.4353, 0.5412],\n",
       "         [0.2078, 0.1882, 0.1961,  ..., 0.4314, 0.3922, 0.2392],\n",
       "         ...,\n",
       "         [0.2078, 0.1137, 0.0863,  ..., 0.1098, 0.1176, 0.1333],\n",
       "         [0.2510, 0.2157, 0.2235,  ..., 0.0902, 0.0941, 0.1137],\n",
       "         [0.2824, 0.3255, 0.3686,  ..., 0.1529, 0.1765, 0.1608]]])"
      ]
     },
     "execution_count": 6,
     "metadata": {},
     "output_type": "execute_result"
    }
   ],
   "source": [
    "transformed_train_dataset.__getitem__(0)[0]"
   ]
  },
  {
   "cell_type": "code",
   "execution_count": 7,
   "metadata": {},
   "outputs": [],
   "source": [
    "train_dataloader = DataLoader(transformed_train_dataset, batch_size=64, shuffle=True)\n",
    "test_dataloader = DataLoader(transformed_test_dataset, batch_size=64, shuffle=True)"
   ]
  },
  {
   "cell_type": "code",
   "execution_count": 8,
   "metadata": {},
   "outputs": [
    {
     "name": "stdout",
     "output_type": "stream",
     "text": [
      "Feature batch shape: torch.Size([64, 3, 28, 28])\n"
     ]
    },
    {
     "data": {
      "image/png": "[encoded data removed]",
      "text/plain": [
       "<Figure size 640x480 with 1 Axes>"
      ]
     },
     "metadata": {},
     "output_type": "display_data"
    },
    {
     "name": "stdout",
     "output_type": "stream",
     "text": [
      "Label: 1\n"
     ]
    }
   ],
   "source": [
    "# Display image and label.\n",
    "\n",
    "train_features, train_labels = next(iter(train_dataloader))\n",
    "print(f\"Feature batch shape: {train_features.size()}\")\n",
    "#print(f\"Labels batch shape: {train_labels.size()}\")\n",
    "img = train_features[2].squeeze()\n",
    "label = train_labels[2]\n",
    "plt.imshow(img.T)\n",
    "plt.show()\n",
    "print(f\"Label: {label}\")"
   ]
  },
  {
   "attachments": {},
   "cell_type": "markdown",
   "metadata": {},
   "source": [
    "On normalise aussi les images: pour chaque chaque channel d'un tenseur, on met la moyenne à 0 et la variance à 1.\n"
   ]
  },
  {
   "attachments": {},
   "cell_type": "markdown",
   "metadata": {},
   "source": [
    "output[channel] = (input[channel] - mean[channel]) / std[channel]"
   ]
  },
  {
   "cell_type": "code",
   "execution_count": 9,
   "metadata": {},
   "outputs": [
    {
     "name": "stdout",
     "output_type": "stream",
     "text": [
      "Moyenne par channel: tensor([0.3329, 0.3431, 0.2972])\n",
      "Ecart-type par channel: tensor([0.1565, 0.1396, 0.1371])\n"
     ]
    }
   ],
   "source": [
    "mean, std = mean_std(train_dataloader)\n",
    "print(\"Moyenne par channel: {}\".format(mean))\n",
    "print(\"Ecart-type par channel: {}\".format(std))"
   ]
  },
  {
   "attachments": {},
   "cell_type": "markdown",
   "metadata": {},
   "source": [
    "Comme on a utilisé des batches, les moyennes et écart-types calculés précédemment sont faux. On utilise, le code suivant."
   ]
  },
  {
   "cell_type": "code",
   "execution_count": 10,
   "metadata": {},
   "outputs": [
    {
     "name": "stdout",
     "output_type": "stream",
     "text": [
      "Moyenne par channel: tensor([0.3493, 0.3566, 0.3072])\n",
      "Ecart-type par channel: tensor([0.1662, 0.1475, 0.1456])\n"
     ]
    }
   ],
   "source": [
    "mean, std = batch_mean_and_sd(train_dataloader)\n",
    "print(\"Moyenne par channel: {}\".format(mean))\n",
    "print(\"Ecart-type par channel: {}\".format(std))"
   ]
  },
  {
   "attachments": {},
   "cell_type": "markdown",
   "metadata": {},
   "source": [
    "On normalise les données. On ajoute aussi des rotations horizontales aléatoires. Avec probabilité 0.5, l'image est retournée."
   ]
  },
  {
   "cell_type": "code",
   "execution_count": 11,
   "metadata": {},
   "outputs": [],
   "source": [
    "normalized_train_dataset  = CustomImageDataset(path_train,\"C:/Users/yanis/OneDrive/Documents/Projet Stat/Données/bdappv/google/img/\", transform=transforms.Compose([\n",
    "                                               transforms.Resize(28),\n",
    "                                               transforms.ToTensor(),\n",
    "                                               transforms.Normalize(mean = [0.3493,0.3566,0.3072],\n",
    "                                                                    std= [0.1662,0.1475,0.1456]),\n",
    "                                               transforms.RandomHorizontalFlip(),\n",
    "                                           ]))\n",
    "\n",
    "train_dataloader = DataLoader(normalized_train_dataset, batch_size=64, shuffle=True)\n"
   ]
  }
 ],
 "metadata": {
  "kernelspec": {
   "display_name": "base",
   "language": "python",
   "name": "python3"
  },
  "language_info": {
   "codemirror_mode": {
    "name": "ipython",
    "version": 3
   },
   "file_extension": ".py",
   "mimetype": "text/x-python",
   "name": "python",
   "nbconvert_exporter": "python",
   "pygments_lexer": "ipython3",
   "version": "3.9.13"
  },
  "orig_nbformat": 4
 },
 "nbformat": 4,
 "nbformat_minor": 2
}
